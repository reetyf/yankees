{
 "cells": [
  {
   "cell_type": "markdown",
   "id": "4e97ff57",
   "metadata": {},
   "source": [
    "# 1."
   ]
  },
  {
   "cell_type": "markdown",
   "id": "1ad4d444",
   "metadata": {},
   "source": [
    "After finding a coin on the street and flipping it a variable number of times, the resulting scenarios can be discussed:\n",
    "\n",
    "**1. 10 flips - 8 heads & 2 tails**\n",
    "\n",
    "**2. 1000 flips - 800 heads & 200 tails**\n",
    "\n",
    "Before further analysis, there are a few baseline assumptions to be made and characteristics to be defined. Namely, flipping the coin in this example is a *Bernoulli Trial*, or independent experiment with two possible outcomes: 'success' and 'failure'. Flipping a coin is inherently independent, as one result does not effect the next. The two outcomes, heads and tails, can be seen as success and failure, respectively. By convention, a Random variable $X: \\Omega \\rightarrow \\mathbb{R} $ is defined to map a results from the sample space to the real numbers, namely heads to $1$ and a tails result to $0$. \n",
    "\n",
    "A repeated Bernoulli trial, also called Bernoulli Process, follows a binomial distribution where the probability $Pr$ for the number of $k$ (heads) successes $n$ trials is $$\\Pr(X = k) = \\binom{n}{k}p^k(1-p)^{n-k}$$\n",
    "\n",
    "where $p$ is the probability of a success (heads). \n",
    "  \n",
    "So naturally in this case, the null hypothesis and alternative hypothesis are as follows:\n",
    "\n",
    "$H_0$ = the coin is a fair coin with $p$ = $1-p$ = $0.5$\n",
    "\n",
    "$H_1$ = 'the coin is biased, with a greater likelihood of a heads result'\n",
    "\n",
    "This null hypothesis is assumed to be true, and can either be rejected or not rejected.\n",
    "\n",
    "To provide evidence to reject or not reject the null hypothesis, a p-value test will be conducted for both situations. If the corresponding p-value   $<\\alpha = .01$ then the null hypothesis is rejected. "
   ]
  },
  {
   "cell_type": "markdown",
   "id": "f2e7f099",
   "metadata": {},
   "source": [
    "**CASE 1.**\n",
    "for k = 8 and n = 10\n",
    "\n",
    "$$\\Pr(X = 8) = \\binom{10}{8}(.5)^8(1 - .5)^{2} = \\binom{10}{8}(.5)^{10}$$\n"
   ]
  },
  {
   "cell_type": "code",
   "execution_count": 1,
   "id": "79adf3d0",
   "metadata": {},
   "outputs": [
    {
     "name": "stdout",
     "output_type": "stream",
     "text": [
      "The p-value for a result with 8 heads in 10 flips is 0.04395.\n"
     ]
    }
   ],
   "source": [
    "import math\n",
    "\n",
    "pr = math.comb(10,8)*(.5)**10 \n",
    "print(f'The p-value for a result with 8 heads in 10 flips is {pr:.4}.')"
   ]
  },
  {
   "cell_type": "code",
   "execution_count": 2,
   "id": "af5013eb",
   "metadata": {},
   "outputs": [
    {
     "name": "stdout",
     "output_type": "stream",
     "text": [
      "False\n"
     ]
    }
   ],
   "source": [
    "alpha = .01\n",
    "print(pr < alpha)"
   ]
  },
  {
   "cell_type": "markdown",
   "id": "7508f685",
   "metadata": {},
   "source": [
    "Thus, p-value is more than the predefined threshold of .01, and the null hypothesis cannot be rejected. This can be really be influenced by the selection of alpha (another traditional alpha value is .05), yet the final verdict remains murky nonetheless. These results show that there is an inkling that the coin might be unfair, but this cannot be determined given the dearth of trials completed. \n",
    "\n",
    "Therefore, if flipping the coin 10 more times, it can be expected to be close to the expected value of a fair die: 5 heads. "
   ]
  },
  {
   "cell_type": "markdown",
   "id": "cd19045c",
   "metadata": {},
   "source": [
    "**CASE 2.**\n",
    "for k = 800 and n = 1000\n",
    "\n",
    "$$\\Pr(X = 800) = \\binom{1000}{800}(.5)^{800}(1 - .5)^{200} = \\binom{1000}{800}(.5)^{1000}$$"
   ]
  },
  {
   "cell_type": "code",
   "execution_count": 3,
   "id": "7fec33d8",
   "metadata": {},
   "outputs": [
    {
     "name": "stdout",
     "output_type": "stream",
     "text": [
      "The p-value for a result with 800 heads in 1000 flips is 6.176e-86\n"
     ]
    }
   ],
   "source": [
    "pr = math.comb(1000,800)*(.5)**1000\n",
    "print(f'The p-value for a result with 800 heads in 1000 flips is {pr:.4}')"
   ]
  },
  {
   "cell_type": "code",
   "execution_count": 4,
   "id": "2825c59d",
   "metadata": {},
   "outputs": [
    {
     "name": "stdout",
     "output_type": "stream",
     "text": [
      "True\n"
     ]
    }
   ],
   "source": [
    "print(pr < alpha)"
   ]
  },
  {
   "cell_type": "markdown",
   "id": "051ddf02",
   "metadata": {},
   "source": [
    "Because of the same resulting heads/tails ratio in exponentially more tests, this p-value is incredibly miniscule!  Therefore, the null hypothesis is rejected and, thus, the subsequent 1000 flips will be skewed significantly towards heads."
   ]
  },
  {
   "cell_type": "markdown",
   "id": "303c83cd",
   "metadata": {},
   "source": [
    "# 2."
   ]
  },
  {
   "cell_type": "markdown",
   "id": "053022a7",
   "metadata": {},
   "source": [
    "If the rules of baseball were modified to include only one inning of 27 outs for each team, numerous resulting strategic changes would be necessary. These changes would need to be focused on the main difference between this ruleset and the existing one: the removal of end-of-inning runners. In other words, baserunners would no longer be required to leave base at the end of each inning if three outs are made. This small adjustment drastically changes current models of player evaluation and in-game strategy, and leads to a more baserunner focused metagame. \n",
    "\n",
    "There would be greater emphasis placed on small-ball offensive strategy. The value of preserving baserunners and advancing them into scoring position is significantly higher given the fact that there is now not a 3 out base clearing. As a result, more at bats would be had with runners in scoring position, including more 'man on third, less than 26 outs' situations. This drastically increases the importance of sacrifice flies or RBI groundouts, which could now occur in 0 through 25 out gamestates rather than just 0 and 1. Offensive strategy should be geared towards generating these easy run opportunities with sac flies becoming amongst the most significant scoring plays in this new league. In line with this small-ball strategy, plays like stolen bases, bunts, and 'taking the extra base' rise in importance while, strikeouts become extremely detrimental as they provide no upside with regards to advancing runners and just add an out to the scoreboard. \n",
    "\n",
    "Defensively, there would be a myriad of strategy changes needed, such as adjustments to fielder positioning and  the reduction of aggressive fielding tendencies. These changes would attempt to counter the newfound small-ball style of offense. Now, fielders should be positioned in a way that is extremely conservative. Due to the lack of a 3 out basewipe, fielders should aim to trade outs for runs. One example of this is preventing runners taking an extra base instead of a play at the plate. This new league deals in a currency of baserunners and aggressive defensive strategies should be deemphasized, when they can backfire so spectacularly. When a defense needs to obtain 27 outs before a basewipe, there is simply not as large of an advantage for obtaining one additional out. Perhaps the most detrimental defensive play would be including those which give up bases with no penalty, such as a wild pitch, passed ball, or fielding error. Lastly, pitching staffs and subsequent bullpen management would drastically change as well. With no 'closer inning' the best pitchers would simply pitch to the toughest part of the opposition's lineup. Perhaps this could even lead to the elimination of SP and RP roles. \n",
    "\n",
    "With these strategic changes comes differences in player evaluation and skillsets that are weighted as more or less valuable. With the way this new game would be played, there would be two resulting parts of a team, offense and defense. This assumes modern MLB rules of substitution apply. Much like in the NFL or cricket, these squads would never play alongside each other and only take on the other team's defenses and offenses, respectively. When one half inning terminates, separate players would play the field. It can be inferred that hitting would be weighted higher in trades and free agency, as there exists less disparity in fielder skill amongst the 'best of the best'. Key features of highly sought after fielders would be intangibles like arm strength and successful 'low catch probability' plays.\n",
    "\n",
    "However, for both offense and defense, speed would kill; players that can routinely beat out ground balls for infield hits or apply pressure to defenses with bunts would be regarded quite highly. Then in the field, quick players can cover more ground and attempt to thwart out-free rallies. This is not to say that power-first hitters should be disregarded, but the vast majority of a team's lineup should be high-contact, low strikeout hitters with speed."
   ]
  },
  {
   "cell_type": "markdown",
   "id": "7090a606",
   "metadata": {},
   "source": [
    "# 3."
   ]
  },
  {
   "cell_type": "markdown",
   "id": "6f09a60c",
   "metadata": {},
   "source": [
    "### a."
   ]
  },
  {
   "cell_type": "markdown",
   "id": "89739687",
   "metadata": {},
   "source": [
    "Perhaps the most comprehensive, yet simple statistic that measures overall hitter performance is On Base Plus Slugging (OPS). Predictably, this varies greatly based on a player's age as seen in the figures below: "
   ]
  },
  {
   "cell_type": "code",
   "execution_count": 5,
   "id": "f896493c",
   "metadata": {
    "scrolled": false
   },
   "outputs": [
    {
     "data": {
      "image/png": "[encoded data removed]",
      "text/plain": [
       "<Figure size 720x360 with 2 Axes>"
      ]
     },
     "metadata": {
      "needs_background": "light"
     },
     "output_type": "display_data"
    }
   ],
   "source": [
    "import matplotlib.pyplot as plt\n",
    "import pandas as pd\n",
    "import numpy as np\n",
    "\n",
    "table = pd.read_csv('q3table.csv')\n",
    "\n",
    "ops = table['Average OPS']\n",
    "age = table['Age']\n",
    "counts = table['Number of Players']\n",
    "\n",
    "plt.figure(figsize =(10,5))\n",
    "plt.suptitle('OPS and Frequency per Varying Age Groups')\n",
    "plt.subplot(1,2,1)\n",
    "plt.bar(x = age, height = ops,color = 'navy',log = True)\n",
    "plt.xlabel('Age')\n",
    "plt.ylabel('OPS')\n",
    "plt.subplot(1,2,2)\n",
    "plt.bar(x = age, height = counts,color = 'navy')\n",
    "plt.xlabel('Age')\n",
    "plt.ylabel('Frequency')\n",
    "plt.tight_layout()\n",
    "plt.show()"
   ]
  },
  {
   "cell_type": "markdown",
   "id": "2b3704bf",
   "metadata": {},
   "source": [
    "The inverted shapes are striking. As player age increases, the number of players in each age group follows a normal distribution, while the average OPS of each group decreases. This pattern is mitigated by age 41 players who have the second highest average OPS of any age. \n",
    "\n",
    "Unlike in other sports, professional baseball players often have to rise through a series of minor leagues before reaching the games apex. For that reason, the average age of MLB rookies tends to be lower than those in the NFL, NBA, or NHL. The rare player who is in the league at the ripe age of 20 or 21 is bound to be an exceptional talent. Some recent and past examples highlight this. The reigning AL rookie of the year Julio Rodriguez was a long-term top prospect peaking at 5 on MLB.com's 100 top prosepct list. This talent translated seemlessly to the majors where at his age 20 season he had an OPS of .853. Perhaps most famously, Alex Rodriguez nearly won the MVP award in his age 20 season including a ridiculous OPS of 1.045. In the same way, players who are still worthy of being on an MLB roster at age 41, would be outliers who can still maintain their production. The clearest example of this being Albert Pujols who had an OPS of .895 at age 42.\n",
    "\n",
    "Conversely, the rookies who debut at 24 or 25 would be less talented overall with their minor league play not pressing the hand of upper management to promote them. Some of these lower tier prospects also could struggle mightly when making the jump to the next level where pitching is unlike any other league in the world. \n",
    "\n",
    "But overall, the downtrend towards the middle age groups is undeniable. It is important to note, however, that this doesn't necessarily signify a lower performance for these ages. An explanation for this phenomenon lies within the 200 plate appearance threshold. Significantly more middle aged players of 25 to 30 meet this criteria, and this threshold does not do a great job of filtering out replacement level players. 200 plate appearances is around the amount that a backup player could expect per season. In fact, these ages often contain the best overall players with the most 5 recent AL MVP's being of ages 25 to 30 (discounting the COVID season of 2020).\n",
    "\n",
    "If raising the requirement to 400 PA to show average OPS for starting caliber players I would propose less difference between the age groups, and those that exist above are due mostly to the dearth of backup players at the extremely young and old ages.  "
   ]
  },
  {
   "cell_type": "markdown",
   "id": "ef8eed90",
   "metadata": {},
   "source": [
    "### b."
   ]
  },
  {
   "cell_type": "markdown",
   "id": "bf2ed3a3",
   "metadata": {},
   "source": [
    "There are a few approaches to estimate the OPS of a 34 year old player (our player) given an .800 OPS in his age 29 season. The naive approach includes finding the difference above or below the average of 29 year olds, then adding this same difference to the age 34 average. For this example, this would be as follows: $$ {ourplayerops} - {avg29ops} = .800 - .759 = .041 $$\n",
    "\n",
    "$$ {difference} + {avg34ops} = .041 + .762 = .803$$"
   ]
  },
  {
   "cell_type": "markdown",
   "id": "9fc150dd",
   "metadata": {},
   "source": [
    "However, there is a significant issue with this projection of .803; choosing this prediction doesn't account for the drastic change in the number of players included. Moreover, higher or lower variance of each ages distribution can provide a skewed look at\n",
    "\n",
    "A better projection is to find the standard deviation of the relevant ages, and then finding the corresponding z-score of our player. The z-score is a statistical measure that reveals the amount of standard deviations a raw score is from the mean of its group. For example, a z-score of 0 shows a value equal to the mean. In this case, the z-score will be positive as it is higher than the mean. The formula for z-score is $$z = {x- \\mu \\over \\sigma}$$\n",
    "\n",
    "where x is the value, mu is the mean, and sigma is the standard deviation.\n",
    "\n",
    "To find this, it is necessary to find the standard deviation of each age group, but is trivial given all the OPS's of each player. To do this, I obtained the OPS of each qualified age 29 and 34 players for 2022 from a quick fangraphs search. Finally, the corresponding z-score with mean and standard deviation can be plugged in to output a more accurate prediction for our player's age 34 OPS."
   ]
  },
  {
   "cell_type": "code",
   "execution_count": 6,
   "id": "3ad2c35c",
   "metadata": {},
   "outputs": [
    {
     "data": {
      "text/plain": [
       "(230, 90)"
      ]
     },
     "execution_count": 6,
     "metadata": {},
     "output_type": "execute_result"
    }
   ],
   "source": [
    "age29 = pd.read_csv('20152022age29.csv')\n",
    "age34 = pd.read_csv('20152022age34.csv')\n",
    "\n",
    "\n",
    "# similar totals differentiated by probably minimum PA's...\n",
    "age29.shape[0],age34.shape[0]"
   ]
  },
  {
   "cell_type": "code",
   "execution_count": 7,
   "id": "4c2c7653",
   "metadata": {},
   "outputs": [
    {
     "data": {
      "text/html": [
       "<div>\n",
       "<style scoped>\n",
       "    .dataframe tbody tr th:only-of-type {\n",
       "        vertical-align: middle;\n",
       "    }\n",
       "\n",
       "    .dataframe tbody tr th {\n",
       "        vertical-align: top;\n",
       "    }\n",
       "\n",
       "    .dataframe thead th {\n",
       "        text-align: right;\n",
       "    }\n",
       "</style>\n",
       "<table border=\"1\" class=\"dataframe\">\n",
       "  <thead>\n",
       "    <tr style=\"text-align: right;\">\n",
       "      <th></th>\n",
       "      <th>Name</th>\n",
       "      <th>Team</th>\n",
       "      <th>PA</th>\n",
       "      <th>BB%</th>\n",
       "      <th>K%</th>\n",
       "      <th>BB/K</th>\n",
       "      <th>AVG</th>\n",
       "      <th>OBP</th>\n",
       "      <th>SLG</th>\n",
       "      <th>OPS</th>\n",
       "      <th>...</th>\n",
       "      <th>Spd</th>\n",
       "      <th>BABIP</th>\n",
       "      <th>UBR</th>\n",
       "      <th>wGDP</th>\n",
       "      <th>wSB</th>\n",
       "      <th>wRC</th>\n",
       "      <th>wRAA</th>\n",
       "      <th>wOBA</th>\n",
       "      <th>wRC+</th>\n",
       "      <th>playerid</th>\n",
       "    </tr>\n",
       "  </thead>\n",
       "  <tbody>\n",
       "    <tr>\n",
       "      <th>0</th>\n",
       "      <td>Marcell Ozuna</td>\n",
       "      <td>ATL</td>\n",
       "      <td>267</td>\n",
       "      <td>14.2%</td>\n",
       "      <td>22.5%</td>\n",
       "      <td>0.63</td>\n",
       "      <td>0.338</td>\n",
       "      <td>0.431</td>\n",
       "      <td>0.636</td>\n",
       "      <td>1.067</td>\n",
       "      <td>...</td>\n",
       "      <td>0.8</td>\n",
       "      <td>0.391</td>\n",
       "      <td>-0.6</td>\n",
       "      <td>0.7</td>\n",
       "      <td>-0.3</td>\n",
       "      <td>61</td>\n",
       "      <td>27.9</td>\n",
       "      <td>0.444</td>\n",
       "      <td>178</td>\n",
       "      <td>10324</td>\n",
       "    </tr>\n",
       "    <tr>\n",
       "      <th>1</th>\n",
       "      <td>J.D. Martinez</td>\n",
       "      <td>- - -</td>\n",
       "      <td>489</td>\n",
       "      <td>10.8%</td>\n",
       "      <td>26.2%</td>\n",
       "      <td>0.41</td>\n",
       "      <td>0.303</td>\n",
       "      <td>0.376</td>\n",
       "      <td>0.690</td>\n",
       "      <td>1.066</td>\n",
       "      <td>...</td>\n",
       "      <td>4.7</td>\n",
       "      <td>0.327</td>\n",
       "      <td>-3.4</td>\n",
       "      <td>-2.9</td>\n",
       "      <td>0.5</td>\n",
       "      <td>105</td>\n",
       "      <td>45.1</td>\n",
       "      <td>0.430</td>\n",
       "      <td>167</td>\n",
       "      <td>6184</td>\n",
       "    </tr>\n",
       "    <tr>\n",
       "      <th>2</th>\n",
       "      <td>Anthony Rendon</td>\n",
       "      <td>WSN</td>\n",
       "      <td>646</td>\n",
       "      <td>12.4%</td>\n",
       "      <td>13.3%</td>\n",
       "      <td>0.93</td>\n",
       "      <td>0.319</td>\n",
       "      <td>0.412</td>\n",
       "      <td>0.598</td>\n",
       "      <td>1.010</td>\n",
       "      <td>...</td>\n",
       "      <td>4.4</td>\n",
       "      <td>0.323</td>\n",
       "      <td>0.9</td>\n",
       "      <td>-0.7</td>\n",
       "      <td>0.2</td>\n",
       "      <td>133</td>\n",
       "      <td>51.8</td>\n",
       "      <td>0.413</td>\n",
       "      <td>155</td>\n",
       "      <td>12861</td>\n",
       "    </tr>\n",
       "    <tr>\n",
       "      <th>3</th>\n",
       "      <td>Mike Yastrzemski</td>\n",
       "      <td>SFG</td>\n",
       "      <td>225</td>\n",
       "      <td>13.3%</td>\n",
       "      <td>24.4%</td>\n",
       "      <td>0.55</td>\n",
       "      <td>0.297</td>\n",
       "      <td>0.400</td>\n",
       "      <td>0.568</td>\n",
       "      <td>0.968</td>\n",
       "      <td>...</td>\n",
       "      <td>5.8</td>\n",
       "      <td>0.370</td>\n",
       "      <td>0.1</td>\n",
       "      <td>0.9</td>\n",
       "      <td>-0.2</td>\n",
       "      <td>45</td>\n",
       "      <td>16.5</td>\n",
       "      <td>0.407</td>\n",
       "      <td>158</td>\n",
       "      <td>14854</td>\n",
       "    </tr>\n",
       "    <tr>\n",
       "      <th>4</th>\n",
       "      <td>Frank Schwindel</td>\n",
       "      <td>- - -</td>\n",
       "      <td>259</td>\n",
       "      <td>6.2%</td>\n",
       "      <td>15.8%</td>\n",
       "      <td>0.39</td>\n",
       "      <td>0.326</td>\n",
       "      <td>0.371</td>\n",
       "      <td>0.591</td>\n",
       "      <td>0.962</td>\n",
       "      <td>...</td>\n",
       "      <td>4.0</td>\n",
       "      <td>0.348</td>\n",
       "      <td>-1.3</td>\n",
       "      <td>0.6</td>\n",
       "      <td>-0.2</td>\n",
       "      <td>50</td>\n",
       "      <td>19.0</td>\n",
       "      <td>0.403</td>\n",
       "      <td>154</td>\n",
       "      <td>15351</td>\n",
       "    </tr>\n",
       "  </tbody>\n",
       "</table>\n",
       "<p>5 rows × 21 columns</p>\n",
       "</div>"
      ],
      "text/plain": [
       "               Name   Team   PA    BB%     K%  BB/K    AVG    OBP    SLG  \\\n",
       "0     Marcell Ozuna    ATL  267  14.2%  22.5%  0.63  0.338  0.431  0.636   \n",
       "1     J.D. Martinez  - - -  489  10.8%  26.2%  0.41  0.303  0.376  0.690   \n",
       "2    Anthony Rendon    WSN  646  12.4%  13.3%  0.93  0.319  0.412  0.598   \n",
       "3  Mike Yastrzemski    SFG  225  13.3%  24.4%  0.55  0.297  0.400  0.568   \n",
       "4   Frank Schwindel  - - -  259   6.2%  15.8%  0.39  0.326  0.371  0.591   \n",
       "\n",
       "     OPS  ...  Spd  BABIP  UBR  wGDP  wSB  wRC  wRAA   wOBA  wRC+  playerid  \n",
       "0  1.067  ...  0.8  0.391 -0.6   0.7 -0.3   61  27.9  0.444   178     10324  \n",
       "1  1.066  ...  4.7  0.327 -3.4  -2.9  0.5  105  45.1  0.430   167      6184  \n",
       "2  1.010  ...  4.4  0.323  0.9  -0.7  0.2  133  51.8  0.413   155     12861  \n",
       "3  0.968  ...  5.8  0.370  0.1   0.9 -0.2   45  16.5  0.407   158     14854  \n",
       "4  0.962  ...  4.0  0.348 -1.3   0.6 -0.2   50  19.0  0.403   154     15351  \n",
       "\n",
       "[5 rows x 21 columns]"
      ]
     },
     "execution_count": 7,
     "metadata": {},
     "output_type": "execute_result"
    }
   ],
   "source": [
    "age29.head()"
   ]
  },
  {
   "cell_type": "code",
   "execution_count": 8,
   "id": "59a982cf",
   "metadata": {},
   "outputs": [
    {
     "data": {
      "text/html": [
       "<div>\n",
       "<style scoped>\n",
       "    .dataframe tbody tr th:only-of-type {\n",
       "        vertical-align: middle;\n",
       "    }\n",
       "\n",
       "    .dataframe tbody tr th {\n",
       "        vertical-align: top;\n",
       "    }\n",
       "\n",
       "    .dataframe thead th {\n",
       "        text-align: right;\n",
       "    }\n",
       "</style>\n",
       "<table border=\"1\" class=\"dataframe\">\n",
       "  <thead>\n",
       "    <tr style=\"text-align: right;\">\n",
       "      <th></th>\n",
       "      <th>Name</th>\n",
       "      <th>Team</th>\n",
       "      <th>PA</th>\n",
       "      <th>BB%</th>\n",
       "      <th>K%</th>\n",
       "      <th>BB/K</th>\n",
       "      <th>AVG</th>\n",
       "      <th>OBP</th>\n",
       "      <th>SLG</th>\n",
       "      <th>OPS</th>\n",
       "      <th>...</th>\n",
       "      <th>Spd</th>\n",
       "      <th>BABIP</th>\n",
       "      <th>UBR</th>\n",
       "      <th>wGDP</th>\n",
       "      <th>wSB</th>\n",
       "      <th>wRC</th>\n",
       "      <th>wRAA</th>\n",
       "      <th>wOBA</th>\n",
       "      <th>wRC+</th>\n",
       "      <th>playerid</th>\n",
       "    </tr>\n",
       "  </thead>\n",
       "  <tbody>\n",
       "    <tr>\n",
       "      <th>0</th>\n",
       "      <td>Paul Goldschmidt</td>\n",
       "      <td>STL</td>\n",
       "      <td>651</td>\n",
       "      <td>12.1%</td>\n",
       "      <td>21.7%</td>\n",
       "      <td>0.56</td>\n",
       "      <td>0.317</td>\n",
       "      <td>0.404</td>\n",
       "      <td>0.578</td>\n",
       "      <td>0.981</td>\n",
       "      <td>...</td>\n",
       "      <td>3.6</td>\n",
       "      <td>0.368</td>\n",
       "      <td>0.6</td>\n",
       "      <td>1.8</td>\n",
       "      <td>0.6</td>\n",
       "      <td>131</td>\n",
       "      <td>56.7</td>\n",
       "      <td>0.419</td>\n",
       "      <td>177</td>\n",
       "      <td>9218</td>\n",
       "    </tr>\n",
       "    <tr>\n",
       "      <th>1</th>\n",
       "      <td>Ryan Raburn</td>\n",
       "      <td>CLE</td>\n",
       "      <td>201</td>\n",
       "      <td>11.4%</td>\n",
       "      <td>21.9%</td>\n",
       "      <td>0.52</td>\n",
       "      <td>0.301</td>\n",
       "      <td>0.393</td>\n",
       "      <td>0.543</td>\n",
       "      <td>0.936</td>\n",
       "      <td>...</td>\n",
       "      <td>2.1</td>\n",
       "      <td>0.361</td>\n",
       "      <td>0.9</td>\n",
       "      <td>-0.4</td>\n",
       "      <td>-0.1</td>\n",
       "      <td>36</td>\n",
       "      <td>13.5</td>\n",
       "      <td>0.397</td>\n",
       "      <td>153</td>\n",
       "      <td>2218</td>\n",
       "    </tr>\n",
       "    <tr>\n",
       "      <th>2</th>\n",
       "      <td>Nelson Cruz</td>\n",
       "      <td>SEA</td>\n",
       "      <td>655</td>\n",
       "      <td>9.0%</td>\n",
       "      <td>25.0%</td>\n",
       "      <td>0.36</td>\n",
       "      <td>0.302</td>\n",
       "      <td>0.369</td>\n",
       "      <td>0.566</td>\n",
       "      <td>0.936</td>\n",
       "      <td>...</td>\n",
       "      <td>2.5</td>\n",
       "      <td>0.350</td>\n",
       "      <td>-3.8</td>\n",
       "      <td>1.6</td>\n",
       "      <td>-0.5</td>\n",
       "      <td>117</td>\n",
       "      <td>43.3</td>\n",
       "      <td>0.396</td>\n",
       "      <td>158</td>\n",
       "      <td>2434</td>\n",
       "    </tr>\n",
       "    <tr>\n",
       "      <th>3</th>\n",
       "      <td>Jose Bautista</td>\n",
       "      <td>TOR</td>\n",
       "      <td>666</td>\n",
       "      <td>16.5%</td>\n",
       "      <td>15.9%</td>\n",
       "      <td>1.04</td>\n",
       "      <td>0.250</td>\n",
       "      <td>0.377</td>\n",
       "      <td>0.536</td>\n",
       "      <td>0.913</td>\n",
       "      <td>...</td>\n",
       "      <td>4.5</td>\n",
       "      <td>0.237</td>\n",
       "      <td>2.0</td>\n",
       "      <td>-0.5</td>\n",
       "      <td>0.5</td>\n",
       "      <td>115</td>\n",
       "      <td>40.1</td>\n",
       "      <td>0.389</td>\n",
       "      <td>148</td>\n",
       "      <td>1887</td>\n",
       "    </tr>\n",
       "    <tr>\n",
       "      <th>4</th>\n",
       "      <td>Darin Ruf</td>\n",
       "      <td>SFG</td>\n",
       "      <td>312</td>\n",
       "      <td>14.7%</td>\n",
       "      <td>27.9%</td>\n",
       "      <td>0.53</td>\n",
       "      <td>0.271</td>\n",
       "      <td>0.385</td>\n",
       "      <td>0.519</td>\n",
       "      <td>0.904</td>\n",
       "      <td>...</td>\n",
       "      <td>4.1</td>\n",
       "      <td>0.344</td>\n",
       "      <td>-0.6</td>\n",
       "      <td>-0.5</td>\n",
       "      <td>0.1</td>\n",
       "      <td>56</td>\n",
       "      <td>18.0</td>\n",
       "      <td>0.384</td>\n",
       "      <td>143</td>\n",
       "      <td>9929</td>\n",
       "    </tr>\n",
       "  </tbody>\n",
       "</table>\n",
       "<p>5 rows × 21 columns</p>\n",
       "</div>"
      ],
      "text/plain": [
       "               Name Team   PA    BB%     K%  BB/K    AVG    OBP    SLG    OPS  \\\n",
       "0  Paul Goldschmidt  STL  651  12.1%  21.7%  0.56  0.317  0.404  0.578  0.981   \n",
       "1       Ryan Raburn  CLE  201  11.4%  21.9%  0.52  0.301  0.393  0.543  0.936   \n",
       "2       Nelson Cruz  SEA  655   9.0%  25.0%  0.36  0.302  0.369  0.566  0.936   \n",
       "3     Jose Bautista  TOR  666  16.5%  15.9%  1.04  0.250  0.377  0.536  0.913   \n",
       "4         Darin Ruf  SFG  312  14.7%  27.9%  0.53  0.271  0.385  0.519  0.904   \n",
       "\n",
       "   ...  Spd  BABIP  UBR  wGDP  wSB  wRC  wRAA   wOBA  wRC+  playerid  \n",
       "0  ...  3.6  0.368  0.6   1.8  0.6  131  56.7  0.419   177      9218  \n",
       "1  ...  2.1  0.361  0.9  -0.4 -0.1   36  13.5  0.397   153      2218  \n",
       "2  ...  2.5  0.350 -3.8   1.6 -0.5  117  43.3  0.396   158      2434  \n",
       "3  ...  4.5  0.237  2.0  -0.5  0.5  115  40.1  0.389   148      1887  \n",
       "4  ...  4.1  0.344 -0.6  -0.5  0.1   56  18.0  0.384   143      9929  \n",
       "\n",
       "[5 rows x 21 columns]"
      ]
     },
     "execution_count": 8,
     "metadata": {},
     "output_type": "execute_result"
    }
   ],
   "source": [
    "age34.head()"
   ]
  },
  {
   "cell_type": "code",
   "execution_count": 9,
   "id": "94514b64",
   "metadata": {},
   "outputs": [
    {
     "name": "stdout",
     "output_type": "stream",
     "text": [
      "The std devs of OPS for qualified age 29 and 34 players in the 2022 season is 0.097 and 0.089, respectively.\n",
      "The z-score for our player at age 29 is 0.423\n"
     ]
    }
   ],
   "source": [
    "# find std devs\n",
    "\n",
    "sd29 = age29['OPS'].std()\n",
    "sd34 = age34['OPS'].std()\n",
    "\n",
    "print(f\"The std devs \\\n",
    "of OPS for qualified age 29 and 34 players in the 2022 season is \\\n",
    "{sd29:.3f} and {sd34:.3f}, respectively.\")\n",
    "\n",
    "# find z score for our player at age 29\n",
    "zscore29 = (.800 - .759)/sd29\n",
    "print(f'The z-score for our player at age 29 is {zscore29:.3f}')\n",
    "\n",
    "# find score for corresponding z-score at age 34 using z*sigma34 + mu34\n",
    "score34 = (zscore29 * sd34 + .762)"
   ]
  },
  {
   "cell_type": "code",
   "execution_count": 10,
   "id": "485164b3",
   "metadata": {},
   "outputs": [
    {
     "name": "stdout",
     "output_type": "stream",
     "text": [
      "The OPS prediction for our player at age 34 corresponding to the z-score of 0.423 at age 29 is 0.800\n"
     ]
    }
   ],
   "source": [
    "# coincidentally identical!\n",
    "print(f'The OPS prediction for our player at age 34 corresponding \\\n",
    "to the z-score of {zscore29:.3f} at age 29 is {score34:.3f}')"
   ]
  },
  {
   "cell_type": "markdown",
   "id": "7bd6b9b5",
   "metadata": {},
   "source": [
    "# 4."
   ]
  },
  {
   "cell_type": "markdown",
   "id": "2636d783",
   "metadata": {},
   "source": [
    "Firstly, the data is read in and the filename is validated."
   ]
  },
  {
   "cell_type": "code",
   "execution_count": 11,
   "id": "8b59017d",
   "metadata": {},
   "outputs": [],
   "source": [
    "# define a function for code reproducability later one (more seasons, inclusion of more pitchers, etc.)\n",
    "def read_atbat_data(path):\n",
    "    '''\n",
    "    Reads in csv files for a given absolute or relative path.\n",
    "    '''\n",
    "    try:\n",
    "        df = pd.read_csv(path)\n",
    "        return df\n",
    "    except FileNotFoundError as e:\n",
    "        print(f'{e} \\nRerun with an existing filename.')\n",
    "\n",
    "df = read_atbat_data('matchupdata.csv')"
   ]
  },
  {
   "cell_type": "code",
   "execution_count": 12,
   "id": "b245faee",
   "metadata": {
    "scrolled": true
   },
   "outputs": [
    {
     "data": {
      "text/html": [
       "<div>\n",
       "<style scoped>\n",
       "    .dataframe tbody tr th:only-of-type {\n",
       "        vertical-align: middle;\n",
       "    }\n",
       "\n",
       "    .dataframe tbody tr th {\n",
       "        vertical-align: top;\n",
       "    }\n",
       "\n",
       "    .dataframe thead th {\n",
       "        text-align: right;\n",
       "    }\n",
       "</style>\n",
       "<table border=\"1\" class=\"dataframe\">\n",
       "  <thead>\n",
       "    <tr style=\"text-align: right;\">\n",
       "      <th></th>\n",
       "      <th>batterID</th>\n",
       "      <th>pitcherID</th>\n",
       "      <th>Result</th>\n",
       "    </tr>\n",
       "  </thead>\n",
       "  <tbody>\n",
       "    <tr>\n",
       "      <th>0</th>\n",
       "      <td>82</td>\n",
       "      <td>124</td>\n",
       "      <td>-5.571357</td>\n",
       "    </tr>\n",
       "    <tr>\n",
       "      <th>1</th>\n",
       "      <td>76</td>\n",
       "      <td>132</td>\n",
       "      <td>-10.770316</td>\n",
       "    </tr>\n",
       "    <tr>\n",
       "      <th>2</th>\n",
       "      <td>65</td>\n",
       "      <td>101</td>\n",
       "      <td>1.617367</td>\n",
       "    </tr>\n",
       "    <tr>\n",
       "      <th>3</th>\n",
       "      <td>1</td>\n",
       "      <td>105</td>\n",
       "      <td>-44.738177</td>\n",
       "    </tr>\n",
       "    <tr>\n",
       "      <th>4</th>\n",
       "      <td>5</td>\n",
       "      <td>129</td>\n",
       "      <td>-82.415108</td>\n",
       "    </tr>\n",
       "  </tbody>\n",
       "</table>\n",
       "</div>"
      ],
      "text/plain": [
       "   batterID  pitcherID     Result\n",
       "0        82        124  -5.571357\n",
       "1        76        132 -10.770316\n",
       "2        65        101   1.617367\n",
       "3         1        105 -44.738177\n",
       "4         5        129 -82.415108"
      ]
     },
     "execution_count": 12,
     "metadata": {},
     "output_type": "execute_result"
    }
   ],
   "source": [
    "df.head()"
   ]
  },
  {
   "cell_type": "markdown",
   "id": "2c0c67b8",
   "metadata": {},
   "source": [
    "So, just by introspection the data appears to contain 3 numerical columns:\n",
    "- `batterID`: an identifier of which batter is at bat\n",
    "- `pitcherID`: an identifier of which pitcher was faced\n",
    "- `Result`: the result of the at bat (seems to be continuous, numerical scale/does not seem to be the typical categorically defined \"K\", \"1b\", \"HR\", etc. notation)"
   ]
  },
  {
   "cell_type": "code",
   "execution_count": 13,
   "id": "f5b76d91",
   "metadata": {},
   "outputs": [
    {
     "name": "stdout",
     "output_type": "stream",
     "text": [
      "The number of duplicated entries is 0.\n",
      "The number of null/NaN entries is 0.\n"
     ]
    }
   ],
   "source": [
    "# QUICK NULL AND DUPLICATE CHECKS\n",
    "print(f'The number of duplicated entries is {df.duplicated().sum()}.')\n",
    "print(f'The number of null/NaN entries is {df.isna().sum().sum()}.')"
   ]
  },
  {
   "cell_type": "code",
   "execution_count": 14,
   "id": "28f76fef",
   "metadata": {
    "scrolled": true
   },
   "outputs": [
    {
     "name": "stdout",
     "output_type": "stream",
     "text": [
      "<class 'pandas.core.frame.DataFrame'>\n",
      "RangeIndex: 10000 entries, 0 to 9999\n",
      "Data columns (total 3 columns):\n",
      " #   Column     Non-Null Count  Dtype  \n",
      "---  ------     --------------  -----  \n",
      " 0   batterID   10000 non-null  int64  \n",
      " 1   pitcherID  10000 non-null  int64  \n",
      " 2   Result     10000 non-null  float64\n",
      "dtypes: float64(1), int64(2)\n",
      "memory usage: 234.5 KB\n"
     ]
    }
   ],
   "source": [
    "df.info()"
   ]
  },
  {
   "cell_type": "markdown",
   "id": "3baf4fa1",
   "metadata": {},
   "source": [
    "After observing more information on the columns using `df.info()`, the above hypotheses are confirmed to be true. The ID's are of type `int`, while the `Result` is a floating point number. "
   ]
  },
  {
   "cell_type": "markdown",
   "id": "cc6632c6",
   "metadata": {},
   "source": [
    "Speaking in terms of predictive modelling, these ID values are essentially useless. They are simply identifiers with no inherent numerical worth or value. For this reason, there has to be further analysis that provides a measure of worth or skill of each player, to replace. These ID's shouldn't be discarded however, as they are needed post prediction."
   ]
  },
  {
   "cell_type": "markdown",
   "id": "26177df8",
   "metadata": {},
   "source": [
    "The first step to obtain these ratings of skill, which can otherwise be viewed as a measure of pitcher or batters influence over the result, is to group the results by each pitcher and hitter individually..."
   ]
  },
  {
   "cell_type": "code",
   "execution_count": 15,
   "id": "3df2404b",
   "metadata": {},
   "outputs": [
    {
     "name": "stdout",
     "output_type": "stream",
     "text": [
      "<class 'pandas.core.groupby.generic.DataFrameGroupBy'> <class 'pandas.core.groupby.generic.DataFrameGroupBy'>\n"
     ]
    }
   ],
   "source": [
    "# create dataframe.groupby types needing future aggregation\n",
    "batters = df.groupby('batterID')\n",
    "pitchers = df.groupby('pitcherID')\n",
    "\n",
    "print(type(batters),type(pitchers))"
   ]
  },
  {
   "cell_type": "code",
   "execution_count": 16,
   "id": "2a7957fc",
   "metadata": {
    "scrolled": true
   },
   "outputs": [
    {
     "data": {
      "text/html": [
       "<div>\n",
       "<style scoped>\n",
       "    .dataframe tbody tr th:only-of-type {\n",
       "        vertical-align: middle;\n",
       "    }\n",
       "\n",
       "    .dataframe tbody tr th {\n",
       "        vertical-align: top;\n",
       "    }\n",
       "\n",
       "    .dataframe thead th {\n",
       "        text-align: right;\n",
       "    }\n",
       "</style>\n",
       "<table border=\"1\" class=\"dataframe\">\n",
       "  <thead>\n",
       "    <tr style=\"text-align: right;\">\n",
       "      <th></th>\n",
       "      <th>pitcherID</th>\n",
       "      <th>Result</th>\n",
       "    </tr>\n",
       "    <tr>\n",
       "      <th>batterID</th>\n",
       "      <th></th>\n",
       "      <th></th>\n",
       "    </tr>\n",
       "  </thead>\n",
       "  <tbody>\n",
       "    <tr>\n",
       "      <th>1</th>\n",
       "      <td>149.954545</td>\n",
       "      <td>-20.921172</td>\n",
       "    </tr>\n",
       "    <tr>\n",
       "      <th>2</th>\n",
       "      <td>149.616279</td>\n",
       "      <td>-14.299742</td>\n",
       "    </tr>\n",
       "    <tr>\n",
       "      <th>3</th>\n",
       "      <td>151.744681</td>\n",
       "      <td>26.676632</td>\n",
       "    </tr>\n",
       "    <tr>\n",
       "      <th>4</th>\n",
       "      <td>147.221154</td>\n",
       "      <td>-0.598955</td>\n",
       "    </tr>\n",
       "    <tr>\n",
       "      <th>5</th>\n",
       "      <td>157.170455</td>\n",
       "      <td>-9.364312</td>\n",
       "    </tr>\n",
       "  </tbody>\n",
       "</table>\n",
       "</div>"
      ],
      "text/plain": [
       "           pitcherID     Result\n",
       "batterID                       \n",
       "1         149.954545 -20.921172\n",
       "2         149.616279 -14.299742\n",
       "3         151.744681  26.676632\n",
       "4         147.221154  -0.598955\n",
       "5         157.170455  -9.364312"
      ]
     },
     "execution_count": 16,
     "metadata": {},
     "output_type": "execute_result"
    }
   ],
   "source": [
    "# group by averages\n",
    "batters.mean().head()"
   ]
  },
  {
   "cell_type": "markdown",
   "id": "01720928",
   "metadata": {},
   "source": [
    "Define the 'skill' rating to be the average result for each pitcher and hitter's plate appearances. The `pitcherID` column is merely the average of the ID's of the pitcher, which of course represents no numerical value. This can be discarded."
   ]
  },
  {
   "cell_type": "code",
   "execution_count": 17,
   "id": "47f91e38",
   "metadata": {},
   "outputs": [],
   "source": [
    "# take the average result only\n",
    "batters_replace_id = batters.mean()[\"Result\"]\n",
    "pitchers_replace_id = pitchers.mean()[\"Result\"]"
   ]
  },
  {
   "cell_type": "code",
   "execution_count": 18,
   "id": "a748b6ac",
   "metadata": {
    "scrolled": true
   },
   "outputs": [
    {
     "data": {
      "text/html": [
       "<div>\n",
       "<style scoped>\n",
       "    .dataframe tbody tr th:only-of-type {\n",
       "        vertical-align: middle;\n",
       "    }\n",
       "\n",
       "    .dataframe tbody tr th {\n",
       "        vertical-align: top;\n",
       "    }\n",
       "\n",
       "    .dataframe thead th {\n",
       "        text-align: right;\n",
       "    }\n",
       "</style>\n",
       "<table border=\"1\" class=\"dataframe\">\n",
       "  <thead>\n",
       "    <tr style=\"text-align: right;\">\n",
       "      <th></th>\n",
       "      <th>batterID</th>\n",
       "      <th>pitcherID</th>\n",
       "      <th>Result</th>\n",
       "      <th>batter_skill</th>\n",
       "      <th>pitcher_skill</th>\n",
       "    </tr>\n",
       "  </thead>\n",
       "  <tbody>\n",
       "    <tr>\n",
       "      <th>0</th>\n",
       "      <td>82</td>\n",
       "      <td>124</td>\n",
       "      <td>-5.571357</td>\n",
       "      <td>6.608479</td>\n",
       "      <td>10.558215</td>\n",
       "    </tr>\n",
       "    <tr>\n",
       "      <th>1</th>\n",
       "      <td>76</td>\n",
       "      <td>132</td>\n",
       "      <td>-10.770316</td>\n",
       "      <td>29.264845</td>\n",
       "      <td>-4.883789</td>\n",
       "    </tr>\n",
       "    <tr>\n",
       "      <th>2</th>\n",
       "      <td>65</td>\n",
       "      <td>101</td>\n",
       "      <td>1.617367</td>\n",
       "      <td>7.001236</td>\n",
       "      <td>50.412171</td>\n",
       "    </tr>\n",
       "    <tr>\n",
       "      <th>3</th>\n",
       "      <td>1</td>\n",
       "      <td>105</td>\n",
       "      <td>-44.738177</td>\n",
       "      <td>-20.921172</td>\n",
       "      <td>-39.782037</td>\n",
       "    </tr>\n",
       "    <tr>\n",
       "      <th>4</th>\n",
       "      <td>5</td>\n",
       "      <td>129</td>\n",
       "      <td>-82.415108</td>\n",
       "      <td>-9.364312</td>\n",
       "      <td>-5.787136</td>\n",
       "    </tr>\n",
       "  </tbody>\n",
       "</table>\n",
       "</div>"
      ],
      "text/plain": [
       "   batterID  pitcherID     Result  batter_skill  pitcher_skill\n",
       "0        82        124  -5.571357      6.608479      10.558215\n",
       "1        76        132 -10.770316     29.264845      -4.883789\n",
       "2        65        101   1.617367      7.001236      50.412171\n",
       "3         1        105 -44.738177    -20.921172     -39.782037\n",
       "4         5        129 -82.415108     -9.364312      -5.787136"
      ]
     },
     "execution_count": 18,
     "metadata": {},
     "output_type": "execute_result"
    }
   ],
   "source": [
    "# create new columns of the corresponding skill rating for each batter and pitcher at bat pair\n",
    "df['batter_skill'] = df['batterID'].replace(batters_replace_id)\n",
    "df['pitcher_skill'] = df['pitcherID'].replace(pitchers_replace_id)\n",
    "df.head()"
   ]
  },
  {
   "cell_type": "markdown",
   "id": "77d02f62",
   "metadata": {},
   "source": [
    "Now, in the original DataFrame, the ID's are replaced by the numerical values representing the average result for each pitcher and hitter. Since this is a now a numerical measure of 'skill', modelling can be done to project future at bats between these players. Some checks must be done, namely that this skill value needs to be identical for the same batter and pitchers. For a sanity check, view each at bat by the first listed batter (`id` of 82)."
   ]
  },
  {
   "cell_type": "code",
   "execution_count": 19,
   "id": "11924e49",
   "metadata": {},
   "outputs": [
    {
     "data": {
      "text/html": [
       "<div>\n",
       "<style scoped>\n",
       "    .dataframe tbody tr th:only-of-type {\n",
       "        vertical-align: middle;\n",
       "    }\n",
       "\n",
       "    .dataframe tbody tr th {\n",
       "        vertical-align: top;\n",
       "    }\n",
       "\n",
       "    .dataframe thead th {\n",
       "        text-align: right;\n",
       "    }\n",
       "</style>\n",
       "<table border=\"1\" class=\"dataframe\">\n",
       "  <thead>\n",
       "    <tr style=\"text-align: right;\">\n",
       "      <th></th>\n",
       "      <th>batterID</th>\n",
       "      <th>pitcherID</th>\n",
       "      <th>Result</th>\n",
       "      <th>batter_skill</th>\n",
       "      <th>pitcher_skill</th>\n",
       "    </tr>\n",
       "  </thead>\n",
       "  <tbody>\n",
       "    <tr>\n",
       "      <th>0</th>\n",
       "      <td>82</td>\n",
       "      <td>124</td>\n",
       "      <td>-5.571357</td>\n",
       "      <td>6.608479</td>\n",
       "      <td>10.558215</td>\n",
       "    </tr>\n",
       "    <tr>\n",
       "      <th>191</th>\n",
       "      <td>82</td>\n",
       "      <td>115</td>\n",
       "      <td>22.938649</td>\n",
       "      <td>6.608479</td>\n",
       "      <td>6.750594</td>\n",
       "    </tr>\n",
       "    <tr>\n",
       "      <th>250</th>\n",
       "      <td>82</td>\n",
       "      <td>111</td>\n",
       "      <td>18.405224</td>\n",
       "      <td>6.608479</td>\n",
       "      <td>13.967977</td>\n",
       "    </tr>\n",
       "    <tr>\n",
       "      <th>353</th>\n",
       "      <td>82</td>\n",
       "      <td>150</td>\n",
       "      <td>6.661005</td>\n",
       "      <td>6.608479</td>\n",
       "      <td>5.352285</td>\n",
       "    </tr>\n",
       "    <tr>\n",
       "      <th>800</th>\n",
       "      <td>82</td>\n",
       "      <td>176</td>\n",
       "      <td>23.735435</td>\n",
       "      <td>6.608479</td>\n",
       "      <td>-18.368839</td>\n",
       "    </tr>\n",
       "  </tbody>\n",
       "</table>\n",
       "</div>"
      ],
      "text/plain": [
       "     batterID  pitcherID     Result  batter_skill  pitcher_skill\n",
       "0          82        124  -5.571357      6.608479      10.558215\n",
       "191        82        115  22.938649      6.608479       6.750594\n",
       "250        82        111  18.405224      6.608479      13.967977\n",
       "353        82        150   6.661005      6.608479       5.352285\n",
       "800        82        176  23.735435      6.608479     -18.368839"
      ]
     },
     "execution_count": 19,
     "metadata": {},
     "output_type": "execute_result"
    }
   ],
   "source": [
    "df.loc[df['batterID'] == 82].head()"
   ]
  },
  {
   "cell_type": "markdown",
   "id": "c1c8c5da",
   "metadata": {},
   "source": [
    "This appears to be the case, all the batter_skills are the same. This can be checked iteratively below for each batter, then each pitcher."
   ]
  },
  {
   "cell_type": "code",
   "execution_count": 20,
   "id": "61b77fcb",
   "metadata": {},
   "outputs": [],
   "source": [
    "for batterID in df['batterID']: # for each ID value\n",
    "    series_of_skills = df.loc[df['batterID']==batterID]['batter_skill'] # the skill rating\n",
    "    assert (series_of_skills == batters_replace_id[batterID]).all() # is the same as the lookup table for each at bat the batter takes\n",
    "    \n",
    "for pitcherID in df['pitcherID']:\n",
    "    series_of_skills = df.loc[df['pitcherID']==pitcherID]['pitcher_skill']\n",
    "    assert (series_of_skills == pitchers_replace_id[pitcherID]).all()    "
   ]
  },
  {
   "cell_type": "markdown",
   "id": "7166561e",
   "metadata": {},
   "source": [
    "Finally, the modelling can commence. The original DataFrame is preserved through the use of the `.copy()` method. The feature space is being represented by the conventional $X = \\{x_1, x_2\\}$, and target, $y$."
   ]
  },
  {
   "cell_type": "code",
   "execution_count": 21,
   "id": "24ed3916",
   "metadata": {},
   "outputs": [],
   "source": [
    "X = df.copy(deep = True)\n",
    "\n",
    "# the ID's are not included in the feature space\n",
    "X.drop(['batterID','pitcherID'],axis = 1, inplace = True)\n",
    "\n",
    "y = X['Result']\n",
    "X.drop('Result', axis = 1, inplace = True)"
   ]
  },
  {
   "cell_type": "code",
   "execution_count": 22,
   "id": "ba51a414",
   "metadata": {},
   "outputs": [
    {
     "data": {
      "text/html": [
       "<div>\n",
       "<style scoped>\n",
       "    .dataframe tbody tr th:only-of-type {\n",
       "        vertical-align: middle;\n",
       "    }\n",
       "\n",
       "    .dataframe tbody tr th {\n",
       "        vertical-align: top;\n",
       "    }\n",
       "\n",
       "    .dataframe thead th {\n",
       "        text-align: right;\n",
       "    }\n",
       "</style>\n",
       "<table border=\"1\" class=\"dataframe\">\n",
       "  <thead>\n",
       "    <tr style=\"text-align: right;\">\n",
       "      <th></th>\n",
       "      <th>batter_skill</th>\n",
       "      <th>pitcher_skill</th>\n",
       "    </tr>\n",
       "  </thead>\n",
       "  <tbody>\n",
       "    <tr>\n",
       "      <th>0</th>\n",
       "      <td>6.608479</td>\n",
       "      <td>10.558215</td>\n",
       "    </tr>\n",
       "    <tr>\n",
       "      <th>1</th>\n",
       "      <td>29.264845</td>\n",
       "      <td>-4.883789</td>\n",
       "    </tr>\n",
       "    <tr>\n",
       "      <th>2</th>\n",
       "      <td>7.001236</td>\n",
       "      <td>50.412171</td>\n",
       "    </tr>\n",
       "    <tr>\n",
       "      <th>3</th>\n",
       "      <td>-20.921172</td>\n",
       "      <td>-39.782037</td>\n",
       "    </tr>\n",
       "    <tr>\n",
       "      <th>4</th>\n",
       "      <td>-9.364312</td>\n",
       "      <td>-5.787136</td>\n",
       "    </tr>\n",
       "  </tbody>\n",
       "</table>\n",
       "</div>"
      ],
      "text/plain": [
       "   batter_skill  pitcher_skill\n",
       "0      6.608479      10.558215\n",
       "1     29.264845      -4.883789\n",
       "2      7.001236      50.412171\n",
       "3    -20.921172     -39.782037\n",
       "4     -9.364312      -5.787136"
      ]
     },
     "execution_count": 22,
     "metadata": {},
     "output_type": "execute_result"
    }
   ],
   "source": [
    "X.head()"
   ]
  },
  {
   "cell_type": "code",
   "execution_count": 23,
   "id": "4c3f3e0f",
   "metadata": {},
   "outputs": [
    {
     "data": {
      "text/plain": [
       "0    -5.571357\n",
       "1   -10.770316\n",
       "2     1.617367\n",
       "3   -44.738177\n",
       "4   -82.415108\n",
       "Name: Result, dtype: float64"
      ]
     },
     "execution_count": 23,
     "metadata": {},
     "output_type": "execute_result"
    }
   ],
   "source": [
    "y.head()"
   ]
  },
  {
   "cell_type": "markdown",
   "id": "3e61a5b9",
   "metadata": {},
   "source": [
    "Now, just assert that both skills correspond to correct result..."
   ]
  },
  {
   "cell_type": "code",
   "execution_count": 24,
   "id": "2ebec8b1",
   "metadata": {},
   "outputs": [],
   "source": [
    "for one_PA in X.index:\n",
    "    b_s,p_s =  X.loc[one_PA]\n",
    "    result = y.loc[one_PA] # form 3 tuple of X, y values\n",
    "    (df_b_s,df_p_s,df_result ) = df.loc[one_PA][['batter_skill','pitcher_skill','Result']].values # 3 tuple of original values\n",
    "    assert((b_s,p_s,result) == (df_b_s,df_p_s,df_result)) # compare for each index"
   ]
  },
  {
   "cell_type": "markdown",
   "id": "11dba04c",
   "metadata": {},
   "source": [
    "Now, it is time to move forward with the modelling stage. For this problem including minimal, numerical values, linear regression fits best. This type of model describes the linear relationship between two or more continuous variables which allows dependent variable prediction for new independent variables. With independent variables $x_p \\in X_{ij}$, the linear regression model follows the formula:  $$y_i = \\beta_{0} + \\beta_{1} x_{i1} + \\cdots + \\beta_{p} x_{ip} + \\varepsilon_i\n",
    " = \\mathbf{x}^\\mathsf{T}_i\\boldsymbol\\beta + \\varepsilon_i,\n",
    " \\qquad i = 1, \\ldots,n $$\n",
    "\n",
    "It follows, the formula for a linear regression model with two features is the linear combination:\n",
    "\n",
    "$$ y = \\beta_0 + \\beta_1 x_1 + \\beta_2 x_2 + \\epsilon ,$$\n",
    "\n",
    "With the betas representing the increase/decrese of one unit increase that the corresponding independent variable has on the dependent, with the epsilon represents the random error or the variation that the model could not account for. In this case, $\\beta_1$ is the batter skill, and $\\beta_2$ pitcher skill.\n",
    "\n",
    "The `sklearn Linear Regression` model will be instatiated and fit on the data."
   ]
  },
  {
   "cell_type": "code",
   "execution_count": 25,
   "id": "da0486a5",
   "metadata": {},
   "outputs": [
    {
     "name": "stdout",
     "output_type": "stream",
     "text": [
      "The sklearn model found coefficients [0.95422788 0.98180578] and intercept -0.3200452081328867.\n"
     ]
    }
   ],
   "source": [
    "from sklearn.linear_model import LinearRegression\n",
    "from sklearn.model_selection import train_test_split\n",
    "\n",
    "X_train, X_test,y_train,y_test = train_test_split(X,y, test_size=.2,random_state=99)\n",
    "\n",
    "lin = LinearRegression()\n",
    "lin.fit(X_train,y_train)\n",
    "\n",
    "coefs = lin.coef_\n",
    "intercept = np.array(lin.intercept_)\n",
    "print(f'The sklearn model found coefficients {coefs} and intercept {intercept}.')"
   ]
  },
  {
   "cell_type": "code",
   "execution_count": 26,
   "id": "1891c314",
   "metadata": {},
   "outputs": [
    {
     "name": "stderr",
     "output_type": "stream",
     "text": [
      "/Users/Daniel/opt/anaconda3/lib/python3.9/site-packages/statsmodels/tsa/tsatools.py:142: FutureWarning: In a future version of pandas all arguments of concat except for the argument 'objs' will be keyword-only\n",
      "  x = pd.concat(x[::order], 1)\n"
     ]
    },
    {
     "data": {
      "text/html": [
       "<table class=\"simpletable\">\n",
       "<caption>OLS Regression Results</caption>\n",
       "<tr>\n",
       "  <th>Dep. Variable:</th>         <td>Result</td>      <th>  R-squared:         </th> <td>   0.328</td> \n",
       "</tr>\n",
       "<tr>\n",
       "  <th>Model:</th>                   <td>OLS</td>       <th>  Adj. R-squared:    </th> <td>   0.328</td> \n",
       "</tr>\n",
       "<tr>\n",
       "  <th>Method:</th>             <td>Least Squares</td>  <th>  F-statistic:       </th> <td>   2440.</td> \n",
       "</tr>\n",
       "<tr>\n",
       "  <th>Date:</th>             <td>Thu, 12 Jan 2023</td> <th>  Prob (F-statistic):</th>  <td>  0.00</td>  \n",
       "</tr>\n",
       "<tr>\n",
       "  <th>Time:</th>                 <td>18:38:06</td>     <th>  Log-Likelihood:    </th> <td> -53292.</td> \n",
       "</tr>\n",
       "<tr>\n",
       "  <th>No. Observations:</th>      <td> 10000</td>      <th>  AIC:               </th> <td>1.066e+05</td>\n",
       "</tr>\n",
       "<tr>\n",
       "  <th>Df Residuals:</th>          <td>  9997</td>      <th>  BIC:               </th> <td>1.066e+05</td>\n",
       "</tr>\n",
       "<tr>\n",
       "  <th>Df Model:</th>              <td>     2</td>      <th>                     </th>     <td> </td>    \n",
       "</tr>\n",
       "<tr>\n",
       "  <th>Covariance Type:</th>      <td>nonrobust</td>    <th>                     </th>     <td> </td>    \n",
       "</tr>\n",
       "</table>\n",
       "<table class=\"simpletable\">\n",
       "<tr>\n",
       "        <td></td>           <th>coef</th>     <th>std err</th>      <th>t</th>      <th>P>|t|</th>  <th>[0.025</th>    <th>0.975]</th>  \n",
       "</tr>\n",
       "<tr>\n",
       "  <th>const</th>         <td>   -0.3658</td> <td>    0.499</td> <td>   -0.732</td> <td> 0.464</td> <td>   -1.345</td> <td>    0.613</td>\n",
       "</tr>\n",
       "<tr>\n",
       "  <th>batter_skill</th>  <td>    0.9439</td> <td>    0.029</td> <td>   32.344</td> <td> 0.000</td> <td>    0.887</td> <td>    1.001</td>\n",
       "</tr>\n",
       "<tr>\n",
       "  <th>pitcher_skill</th> <td>    0.9835</td> <td>    0.016</td> <td>   60.859</td> <td> 0.000</td> <td>    0.952</td> <td>    1.015</td>\n",
       "</tr>\n",
       "</table>\n",
       "<table class=\"simpletable\">\n",
       "<tr>\n",
       "  <th>Omnibus:</th>       <td> 0.210</td> <th>  Durbin-Watson:     </th> <td>   2.009</td>\n",
       "</tr>\n",
       "<tr>\n",
       "  <th>Prob(Omnibus):</th> <td> 0.900</td> <th>  Jarque-Bera (JB):  </th> <td>   0.210</td>\n",
       "</tr>\n",
       "<tr>\n",
       "  <th>Skew:</th>          <td> 0.011</td> <th>  Prob(JB):          </th> <td>   0.900</td>\n",
       "</tr>\n",
       "<tr>\n",
       "  <th>Kurtosis:</th>      <td> 2.999</td> <th>  Cond. No.          </th> <td>    30.9</td>\n",
       "</tr>\n",
       "</table><br/><br/>Notes:<br/>[1] Standard Errors assume that the covariance matrix of the errors is correctly specified."
      ],
      "text/plain": [
       "<class 'statsmodels.iolib.summary.Summary'>\n",
       "\"\"\"\n",
       "                            OLS Regression Results                            \n",
       "==============================================================================\n",
       "Dep. Variable:                 Result   R-squared:                       0.328\n",
       "Model:                            OLS   Adj. R-squared:                  0.328\n",
       "Method:                 Least Squares   F-statistic:                     2440.\n",
       "Date:                Thu, 12 Jan 2023   Prob (F-statistic):               0.00\n",
       "Time:                        18:38:06   Log-Likelihood:                -53292.\n",
       "No. Observations:               10000   AIC:                         1.066e+05\n",
       "Df Residuals:                    9997   BIC:                         1.066e+05\n",
       "Df Model:                           2                                         \n",
       "Covariance Type:            nonrobust                                         \n",
       "=================================================================================\n",
       "                    coef    std err          t      P>|t|      [0.025      0.975]\n",
       "---------------------------------------------------------------------------------\n",
       "const            -0.3658      0.499     -0.732      0.464      -1.345       0.613\n",
       "batter_skill      0.9439      0.029     32.344      0.000       0.887       1.001\n",
       "pitcher_skill     0.9835      0.016     60.859      0.000       0.952       1.015\n",
       "==============================================================================\n",
       "Omnibus:                        0.210   Durbin-Watson:                   2.009\n",
       "Prob(Omnibus):                  0.900   Jarque-Bera (JB):                0.210\n",
       "Skew:                           0.011   Prob(JB):                        0.900\n",
       "Kurtosis:                       2.999   Cond. No.                         30.9\n",
       "==============================================================================\n",
       "\n",
       "Notes:\n",
       "[1] Standard Errors assume that the covariance matrix of the errors is correctly specified.\n",
       "\"\"\""
      ]
     },
     "execution_count": 26,
     "metadata": {},
     "output_type": "execute_result"
    }
   ],
   "source": [
    "import statsmodels.api as sm\n",
    "\n",
    "X_withconstant = sm.add_constant(X) #add constant manually for statsmodels\n",
    "\n",
    "reg = sm.OLS(y, X_withconstant)\n",
    "\n",
    "reg_results = reg.fit()\n",
    "\n",
    "reg_results.summary()"
   ]
  },
  {
   "cell_type": "code",
   "execution_count": 27,
   "id": "fca7d707",
   "metadata": {},
   "outputs": [
    {
     "name": "stdout",
     "output_type": "stream",
     "text": [
      "The statsmodel model found coefficients [0.94392196 0.98349626] with intercept [-0.36575886]\n"
     ]
    }
   ],
   "source": [
    "print(f'The statsmodel model found coefficients {reg_results.params.values[1:]} with intercept {reg_results.params.values[:1]}')"
   ]
  },
  {
   "cell_type": "markdown",
   "id": "1d00a884",
   "metadata": {},
   "source": [
    "With the std errors ($\\epsilon$) saved for later. A property of these errors includes their normal distribution. This allows an estimation for each using monte carlo simulation with `np.random.normal()` later on."
   ]
  },
  {
   "cell_type": "code",
   "execution_count": 28,
   "id": "e57ef6e3",
   "metadata": {},
   "outputs": [],
   "source": [
    "errors = reg_results.bse"
   ]
  },
  {
   "cell_type": "markdown",
   "id": "870a6097",
   "metadata": {},
   "source": [
    "Finally it is time to simulate the at bats using these influencers. The process is as follows:\n",
    "- for one batter (batterID: 1,2,...100)\n",
    "    - find the batter skill\n",
    "        - for each at bat (at bat: 1,2,...300)\n",
    "            - generate a random pitcher ID to face(101,102,...200)\n",
    "            - obtain the corresponding pitcher skill\n",
    "            - generate prediction using linear regression formula with skill and betas from the regression with randomly generated std. error variation.\n",
    "            - add row to prediction dataframe with all the relevant information"
   ]
  },
  {
   "cell_type": "code",
   "execution_count": 29,
   "id": "de6de608",
   "metadata": {},
   "outputs": [
    {
     "name": "stderr",
     "output_type": "stream",
     "text": [
      "Simming for Batter 100, At-Bat 300 against Pitcher 170: 100%|█| 100/100 [00:45<0\n"
     ]
    }
   ],
   "source": [
    "import random\n",
    "random.seed(0) # set randomness for code reproduction\n",
    "from tqdm import tqdm\n",
    "\n",
    "old_coefs = lin.coef_\n",
    "old_intercept = lin.intercept_\n",
    "preds = pd.DataFrame(columns=['batterID','at-bat','pitcherID','result_prediction'])\n",
    "\n",
    "pbar = tqdm(range(1,101)) # tqdm progress bar\n",
    "for i in pbar: # for one batter...\n",
    "    batter_skill = df.loc[df['batterID'] == i,'batter_skill'].iloc[0]\n",
    "    for j in range(1,301): #one at bat\n",
    "        rand = random.randint(101,200) # pitcher ID\n",
    "        pitcher_skill = df.loc[df['pitcherID'] == rand,'pitcher_skill'].iloc[0]\n",
    "        skills = np.array([batter_skill,pitcher_skill])\n",
    "        pbar.set_description(f'Simming for Batter {i}, At-Bat {j} against Pitcher {rand}')\n",
    "        \n",
    "\n",
    "        coefs = old_coefs.copy() # reset original values from model\n",
    "        intercept = old_intercept\n",
    "        \n",
    "        assert (coefs == old_coefs).all()\n",
    "        assert intercept== old_intercept\n",
    "\n",
    "        # adding +- error based on normal distribution with mean zero and std dev of error values         \n",
    "        np.random.seed(999999)\n",
    "        randnorm = np.random.normal(loc = 0, scale = errors[0],size = 1)\n",
    "        intercept  += randnorm\n",
    "        \n",
    "        randnorm = np.random.normal(loc = 0, scale = errors[1],size = 1)\n",
    "        coefs[0]  += randnorm\n",
    "                        \n",
    "        randnorm = np.random.normal(loc = 0, scale = errors[2],size = 1)\n",
    "        coefs[1]  += randnorm\n",
    "        \n",
    "        pred = float(np.dot(coefs,skills) + intercept) # dot product of betas and x's + intercepts all with std error sim\n",
    "        dic = pd.DataFrame(data = [{\"batterID\":i,'at-bat':j,\"pitcherID\":rand,\"result_prediction\":pred}])\n",
    "        preds = pd.concat([preds,dic],ignore_index= True)"
   ]
  },
  {
   "cell_type": "code",
   "execution_count": 30,
   "id": "38b2b887",
   "metadata": {
    "scrolled": true
   },
   "outputs": [
    {
     "data": {
      "text/html": [
       "<div>\n",
       "<style scoped>\n",
       "    .dataframe tbody tr th:only-of-type {\n",
       "        vertical-align: middle;\n",
       "    }\n",
       "\n",
       "    .dataframe tbody tr th {\n",
       "        vertical-align: top;\n",
       "    }\n",
       "\n",
       "    .dataframe thead th {\n",
       "        text-align: right;\n",
       "    }\n",
       "</style>\n",
       "<table border=\"1\" class=\"dataframe\">\n",
       "  <thead>\n",
       "    <tr style=\"text-align: right;\">\n",
       "      <th></th>\n",
       "      <th>batterID</th>\n",
       "      <th>at-bat</th>\n",
       "      <th>pitcherID</th>\n",
       "      <th>result_prediction</th>\n",
       "    </tr>\n",
       "  </thead>\n",
       "  <tbody>\n",
       "    <tr>\n",
       "      <th>0</th>\n",
       "      <td>1</td>\n",
       "      <td>1</td>\n",
       "      <td>150</td>\n",
       "      <td>-14.994562</td>\n",
       "    </tr>\n",
       "    <tr>\n",
       "      <th>1</th>\n",
       "      <td>1</td>\n",
       "      <td>2</td>\n",
       "      <td>198</td>\n",
       "      <td>-15.947760</td>\n",
       "    </tr>\n",
       "    <tr>\n",
       "      <th>2</th>\n",
       "      <td>1</td>\n",
       "      <td>3</td>\n",
       "      <td>154</td>\n",
       "      <td>69.530095</td>\n",
       "    </tr>\n",
       "    <tr>\n",
       "      <th>3</th>\n",
       "      <td>1</td>\n",
       "      <td>4</td>\n",
       "      <td>106</td>\n",
       "      <td>-18.521844</td>\n",
       "    </tr>\n",
       "    <tr>\n",
       "      <th>4</th>\n",
       "      <td>1</td>\n",
       "      <td>5</td>\n",
       "      <td>134</td>\n",
       "      <td>-41.792635</td>\n",
       "    </tr>\n",
       "  </tbody>\n",
       "</table>\n",
       "</div>"
      ],
      "text/plain": [
       "  batterID at-bat pitcherID  result_prediction\n",
       "0        1      1       150         -14.994562\n",
       "1        1      2       198         -15.947760\n",
       "2        1      3       154          69.530095\n",
       "3        1      4       106         -18.521844\n",
       "4        1      5       134         -41.792635"
      ]
     },
     "execution_count": 30,
     "metadata": {},
     "output_type": "execute_result"
    }
   ],
   "source": [
    "preds.head()"
   ]
  },
  {
   "cell_type": "markdown",
   "id": "a48ac196",
   "metadata": {},
   "source": [
    "And obtain descriptive statistics of the results..."
   ]
  },
  {
   "cell_type": "code",
   "execution_count": 31,
   "id": "a4542015",
   "metadata": {},
   "outputs": [
    {
     "data": {
      "text/plain": [
       "count    30000.000000\n",
       "mean        -0.156827\n",
       "std         33.952051\n",
       "min       -116.537045\n",
       "25%        -22.295482\n",
       "50%         -1.816460\n",
       "75%         20.654338\n",
       "max        149.558695\n",
       "Name: result_prediction, dtype: float64"
      ]
     },
     "execution_count": 31,
     "metadata": {},
     "output_type": "execute_result"
    }
   ],
   "source": [
    "preds['result_prediction'].describe()"
   ]
  },
  {
   "cell_type": "markdown",
   "id": "adbc866f",
   "metadata": {},
   "source": [
    "The mean 50% value bodes well - When defined to be $out < 0, hit > 0$ this value is near zero (equal hit and non-hit results) slightly favoring an out result. This mirrors the low hit probability on any single at bat.\n",
    "\n",
    "Like a Random Variable (which maps a probabilistic outcome to the real numbers), we can estimate some play results, going from continuous to categorical labels.  "
   ]
  },
  {
   "cell_type": "code",
   "execution_count": 32,
   "id": "822259ca",
   "metadata": {},
   "outputs": [],
   "source": [
    "play_types = ['strikeout','groundout','flyout','single','double','triple','home run']\n",
    "preds['estimated_play_result'] = pd.qcut(preds['result_prediction'],q = 7, labels = play_types)"
   ]
  },
  {
   "cell_type": "code",
   "execution_count": 33,
   "id": "b328d263",
   "metadata": {},
   "outputs": [
    {
     "data": {
      "text/html": [
       "<div>\n",
       "<style scoped>\n",
       "    .dataframe tbody tr th:only-of-type {\n",
       "        vertical-align: middle;\n",
       "    }\n",
       "\n",
       "    .dataframe tbody tr th {\n",
       "        vertical-align: top;\n",
       "    }\n",
       "\n",
       "    .dataframe thead th {\n",
       "        text-align: right;\n",
       "    }\n",
       "</style>\n",
       "<table border=\"1\" class=\"dataframe\">\n",
       "  <thead>\n",
       "    <tr style=\"text-align: right;\">\n",
       "      <th></th>\n",
       "      <th>batterID</th>\n",
       "      <th>at-bat</th>\n",
       "      <th>pitcherID</th>\n",
       "      <th>result_prediction</th>\n",
       "      <th>estimated_play_result</th>\n",
       "    </tr>\n",
       "  </thead>\n",
       "  <tbody>\n",
       "    <tr>\n",
       "      <th>0</th>\n",
       "      <td>1</td>\n",
       "      <td>1</td>\n",
       "      <td>150</td>\n",
       "      <td>-14.994562</td>\n",
       "      <td>flyout</td>\n",
       "    </tr>\n",
       "    <tr>\n",
       "      <th>1</th>\n",
       "      <td>1</td>\n",
       "      <td>2</td>\n",
       "      <td>198</td>\n",
       "      <td>-15.947760</td>\n",
       "      <td>flyout</td>\n",
       "    </tr>\n",
       "    <tr>\n",
       "      <th>2</th>\n",
       "      <td>1</td>\n",
       "      <td>3</td>\n",
       "      <td>154</td>\n",
       "      <td>69.530095</td>\n",
       "      <td>home run</td>\n",
       "    </tr>\n",
       "    <tr>\n",
       "      <th>3</th>\n",
       "      <td>1</td>\n",
       "      <td>4</td>\n",
       "      <td>106</td>\n",
       "      <td>-18.521844</td>\n",
       "      <td>flyout</td>\n",
       "    </tr>\n",
       "    <tr>\n",
       "      <th>4</th>\n",
       "      <td>1</td>\n",
       "      <td>5</td>\n",
       "      <td>134</td>\n",
       "      <td>-41.792635</td>\n",
       "      <td>strikeout</td>\n",
       "    </tr>\n",
       "  </tbody>\n",
       "</table>\n",
       "</div>"
      ],
      "text/plain": [
       "  batterID at-bat pitcherID  result_prediction estimated_play_result\n",
       "0        1      1       150         -14.994562                flyout\n",
       "1        1      2       198         -15.947760                flyout\n",
       "2        1      3       154          69.530095              home run\n",
       "3        1      4       106         -18.521844                flyout\n",
       "4        1      5       134         -41.792635             strikeout"
      ]
     },
     "execution_count": 33,
     "metadata": {},
     "output_type": "execute_result"
    }
   ],
   "source": [
    "# and view some binned results\n",
    "preds.head()"
   ]
  },
  {
   "cell_type": "markdown",
   "id": "bf1c843c",
   "metadata": {},
   "source": [
    "This yields evenly split label domain, which isn't very applicable to real world scenerios i.e. groundout likelihood != home run likelihood. Nevertheless, more information is needed to determine the continous result meanings."
   ]
  },
  {
   "cell_type": "code",
   "execution_count": 34,
   "id": "85f055b9",
   "metadata": {},
   "outputs": [
    {
     "data": {
      "text/plain": [
       "single       4292\n",
       "triple       4289\n",
       "groundout    4288\n",
       "strikeout    4286\n",
       "flyout       4283\n",
       "home run     4283\n",
       "double       4279\n",
       "Name: estimated_play_result, dtype: int64"
      ]
     },
     "execution_count": 34,
     "metadata": {},
     "output_type": "execute_result"
    }
   ],
   "source": [
    "preds['estimated_play_result'].value_counts()"
   ]
  },
  {
   "cell_type": "markdown",
   "id": "665bc63e",
   "metadata": {},
   "source": [
    "Obtaining the min and max values for every play type gives a good idea of what bounds were used for the `pd.cut()`"
   ]
  },
  {
   "cell_type": "code",
   "execution_count": 35,
   "id": "5eafbd80",
   "metadata": {
    "scrolled": true
   },
   "outputs": [
    {
     "data": {
      "text/html": [
       "<div>\n",
       "<style scoped>\n",
       "    .dataframe tbody tr th:only-of-type {\n",
       "        vertical-align: middle;\n",
       "    }\n",
       "\n",
       "    .dataframe tbody tr th {\n",
       "        vertical-align: top;\n",
       "    }\n",
       "\n",
       "    .dataframe thead th {\n",
       "        text-align: right;\n",
       "    }\n",
       "</style>\n",
       "<table border=\"1\" class=\"dataframe\">\n",
       "  <thead>\n",
       "    <tr style=\"text-align: right;\">\n",
       "      <th></th>\n",
       "      <th>min</th>\n",
       "      <th>max</th>\n",
       "    </tr>\n",
       "    <tr>\n",
       "      <th>estimated_play_result</th>\n",
       "      <th></th>\n",
       "      <th></th>\n",
       "    </tr>\n",
       "  </thead>\n",
       "  <tbody>\n",
       "    <tr>\n",
       "      <th>strikeout</th>\n",
       "      <td>-116.537045</td>\n",
       "      <td>-34.287979</td>\n",
       "    </tr>\n",
       "    <tr>\n",
       "      <th>groundout</th>\n",
       "      <td>-34.280191</td>\n",
       "      <td>-19.276074</td>\n",
       "    </tr>\n",
       "    <tr>\n",
       "      <th>flyout</th>\n",
       "      <td>-19.259020</td>\n",
       "      <td>-7.163793</td>\n",
       "    </tr>\n",
       "    <tr>\n",
       "      <th>single</th>\n",
       "      <td>-7.158659</td>\n",
       "      <td>3.824521</td>\n",
       "    </tr>\n",
       "    <tr>\n",
       "      <th>double</th>\n",
       "      <td>3.828593</td>\n",
       "      <td>16.595079</td>\n",
       "    </tr>\n",
       "    <tr>\n",
       "      <th>triple</th>\n",
       "      <td>16.607754</td>\n",
       "      <td>34.439616</td>\n",
       "    </tr>\n",
       "    <tr>\n",
       "      <th>home run</th>\n",
       "      <td>34.483599</td>\n",
       "      <td>149.558695</td>\n",
       "    </tr>\n",
       "  </tbody>\n",
       "</table>\n",
       "</div>"
      ],
      "text/plain": [
       "                              min         max\n",
       "estimated_play_result                        \n",
       "strikeout             -116.537045  -34.287979\n",
       "groundout              -34.280191  -19.276074\n",
       "flyout                 -19.259020   -7.163793\n",
       "single                  -7.158659    3.824521\n",
       "double                   3.828593   16.595079\n",
       "triple                  16.607754   34.439616\n",
       "home run                34.483599  149.558695"
      ]
     },
     "execution_count": 35,
     "metadata": {},
     "output_type": "execute_result"
    }
   ],
   "source": [
    "preds.groupby('estimated_play_result').agg(['min','max'])['result_prediction']"
   ]
  },
  {
   "cell_type": "markdown",
   "id": "63193d24",
   "metadata": {},
   "source": [
    "Finally, a random at bat..."
   ]
  },
  {
   "cell_type": "code",
   "execution_count": 36,
   "id": "bda40e2f",
   "metadata": {
    "scrolled": true
   },
   "outputs": [
    {
     "data": {
      "text/plain": [
       "16391    triple\n",
       "Name: estimated_play_result, dtype: category\n",
       "Categories (7, object): ['strikeout' < 'groundout' < 'flyout' < 'single' < 'double' < 'triple' < 'home run']"
      ]
     },
     "execution_count": 36,
     "metadata": {},
     "output_type": "execute_result"
    }
   ],
   "source": [
    "preds.loc[((preds['batterID'] == 55) & (preds['at-bat'] == 192)),\"estimated_play_result\"]"
   ]
  },
  {
   "cell_type": "code",
   "execution_count": 37,
   "id": "6e04b11d",
   "metadata": {},
   "outputs": [
    {
     "name": "stdout",
     "output_type": "stream",
     "text": [
      "True\n"
     ]
    }
   ],
   "source": [
    "print((54*300 + 191) == 16391) # sanity check of correct index"
   ]
  },
  {
   "cell_type": "markdown",
   "id": "c41371c3",
   "metadata": {},
   "source": [
    "And finally, grouping by `batterID` allows the viewing of each batter's average result for next seasons PAs:"
   ]
  },
  {
   "cell_type": "code",
   "execution_count": 38,
   "id": "c267c253",
   "metadata": {},
   "outputs": [
    {
     "data": {
      "text/html": [
       "<div>\n",
       "<style scoped>\n",
       "    .dataframe tbody tr th:only-of-type {\n",
       "        vertical-align: middle;\n",
       "    }\n",
       "\n",
       "    .dataframe tbody tr th {\n",
       "        vertical-align: top;\n",
       "    }\n",
       "\n",
       "    .dataframe thead th {\n",
       "        text-align: right;\n",
       "    }\n",
       "</style>\n",
       "<table border=\"1\" class=\"dataframe\">\n",
       "  <thead>\n",
       "    <tr style=\"text-align: right;\">\n",
       "      <th></th>\n",
       "      <th>result_prediction</th>\n",
       "    </tr>\n",
       "    <tr>\n",
       "      <th>batterID</th>\n",
       "      <th></th>\n",
       "    </tr>\n",
       "  </thead>\n",
       "  <tbody>\n",
       "    <tr>\n",
       "      <th>1</th>\n",
       "      <td>-19.048960</td>\n",
       "    </tr>\n",
       "    <tr>\n",
       "      <th>2</th>\n",
       "      <td>-11.458539</td>\n",
       "    </tr>\n",
       "    <tr>\n",
       "      <th>3</th>\n",
       "      <td>24.547660</td>\n",
       "    </tr>\n",
       "    <tr>\n",
       "      <th>4</th>\n",
       "      <td>0.619255</td>\n",
       "    </tr>\n",
       "    <tr>\n",
       "      <th>5</th>\n",
       "      <td>-11.912220</td>\n",
       "    </tr>\n",
       "  </tbody>\n",
       "</table>\n",
       "</div>"
      ],
      "text/plain": [
       "          result_prediction\n",
       "batterID                   \n",
       "1                -19.048960\n",
       "2                -11.458539\n",
       "3                 24.547660\n",
       "4                  0.619255\n",
       "5                -11.912220"
      ]
     },
     "execution_count": 38,
     "metadata": {},
     "output_type": "execute_result"
    }
   ],
   "source": [
    "preds.groupby('batterID').mean().head()"
   ]
  },
  {
   "cell_type": "code",
   "execution_count": 39,
   "id": "18e1a38b",
   "metadata": {},
   "outputs": [],
   "source": [
    "# send to directory\n",
    "preds.groupby('batterID').mean().to_csv('player_avg_numerical_predictions.csv')\n",
    "preds.to_csv('categorical_predictions_with_atbat_info.csv')"
   ]
  }
 ],
 "metadata": {
  "kernelspec": {
   "display_name": "Python 3 (ipykernel)",
   "language": "python",
   "name": "python3"
  },
  "language_info": {
   "codemirror_mode": {
    "name": "ipython",
    "version": 3
   },
   "file_extension": ".py",
   "mimetype": "text/x-python",
   "name": "python",
   "nbconvert_exporter": "python",
   "pygments_lexer": "ipython3",
   "version": "3.9.7"
  }
 },
 "nbformat": 4,
 "nbformat_minor": 5
}
