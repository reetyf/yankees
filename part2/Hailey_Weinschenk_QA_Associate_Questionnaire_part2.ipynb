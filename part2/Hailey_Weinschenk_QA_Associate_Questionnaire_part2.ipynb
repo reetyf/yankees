{
 "cells": [
  {
   "cell_type": "markdown",
   "id": "b7292000",
   "metadata": {},
   "source": [
    "# 1."
   ]
  },
  {
   "cell_type": "markdown",
   "id": "12b597c8",
   "metadata": {},
   "source": [
    "After finding a coin on the street and flipping it a variable number of times, the resulting scenarios can be discussed:\n",
    "\n",
    "**1. 10 flips - 8 heads & 2 tails**\n",
    "\n",
    "**2. 1000 flips - 800 heads & 200 tails**\n",
    "\n",
    "Before further analysis, there are a few baseline assumptions to be made and characteristics to be defined. Namely, flipping the coin in this example is a *Bernoulli Trial*, or independent experiment with two possible outcomes: 'success' and 'failure'. Flipping a coin is inherently independent, as one result does not effect the next. The two outcomes, heads and tails, can be seen as success and failure, respectively. By convention, a Random variable $X: \\Omega \\rightarrow \\mathbb{R} $ is defined to map a results from the sample space to the real numbers, namely heads to $1$ and a tails result to $0$. \n",
    "\n",
    "A repeated Bernoulli trial, also called Bernoulli Process, follows a binomial distribution where the probability $Pr$ for the number of $k$ (heads) successes $n$ trials is $$\\Pr(X = k) = \\binom{n}{k}p^k(1-p)^{n-k}$$\n",
    "\n",
    "where $p$ is the probability of a success (heads). \n",
    "  \n",
    "So naturally in this case, the null hypothesis and alternative hypothesis are as follows:\n",
    "\n",
    "$H_0$ = the coin is a fair coin with $p$ = $1-p$ = $0.5$\n",
    "\n",
    "$H_1$ = 'the coin is biased, with a greater likelihood of a heads result'\n",
    "\n",
    "This null hypothesis is assumed to be true, and can either be rejected or not rejected.\n",
    "\n",
    "To provide evidence to reject or not reject the null hypothesis, a p-value test will be conducted for both situations. If the corresponding p-value   $<\\alpha = .01$ then the null hypothesis is rejected. "
   ]
  },
  {
   "cell_type": "markdown",
   "id": "6ef6f870",
   "metadata": {},
   "source": [
    "**CASE 1.**\n",
    "for k = 8 and n = 10\n",
    "\n",
    "$$\\Pr(X = 8) = \\binom{10}{8}(.5)^8(1 - .5)^{2} = \\binom{10}{8}(.5)^{10}$$\n"
   ]
  },
  {
   "cell_type": "code",
   "execution_count": 9,
   "id": "ca0aca02",
   "metadata": {},
   "outputs": [
    {
     "name": "stdout",
     "output_type": "stream",
     "text": [
      "The p-value for a result with 8 heads in 10 flips is 0.04395.\n"
     ]
    }
   ],
   "source": [
    "import math\n",
    "\n",
    "pr = math.comb(10,8)*(.5)**10 \n",
    "print(f'The p-value for a result with 8 heads in 10 flips is {pr:.4}.')"
   ]
  },
  {
   "cell_type": "code",
   "execution_count": 2,
   "id": "0fefd090",
   "metadata": {},
   "outputs": [
    {
     "name": "stdout",
     "output_type": "stream",
     "text": [
      "False\n"
     ]
    }
   ],
   "source": [
    "alpha = .01\n",
    "print(pr < alpha)"
   ]
  },
  {
   "cell_type": "markdown",
   "id": "10798542",
   "metadata": {},
   "source": [
    "Thus, p-value is more than the predefined threshold of .01, and the null hypothesis cannot be rejected. This can be really be influenced by the selection of alpha (another traditional alpha value is .05), yet the final verdict remains murky nonetheless. These results show that there is an inkling that the coin might be unfair, but this cannot be determined given the dearth of trials completed. \n",
    "\n",
    "Therefore, if flipping the coin 10 more times, it can be expected to be close to the expected value of a fair die: 5 heads. "
   ]
  },
  {
   "cell_type": "markdown",
   "id": "2db619a1",
   "metadata": {},
   "source": [
    "**CASE 2.**\n",
    "for k = 800 and n = 1000\n",
    "\n",
    "$$\\Pr(X = 800) = \\binom{1000}{800}(.5)^{800}(1 - .5)^{200} = \\binom{1000}{800}(.5)^{1000}$$"
   ]
  },
  {
   "cell_type": "code",
   "execution_count": 12,
   "id": "43e2e63a",
   "metadata": {},
   "outputs": [
    {
     "name": "stdout",
     "output_type": "stream",
     "text": [
      "The p-value for a result with 800 heads in 1000 flips is 6.176e-86\n"
     ]
    }
   ],
   "source": [
    "import math\n",
    "\n",
    "pr = math.comb(1000,800)*(.5)**1000\n",
    "print(f'The p-value for a result with 800 heads in 1000 flips is {pr:.4}')"
   ]
  },
  {
   "cell_type": "code",
   "execution_count": 4,
   "id": "d00fdf77",
   "metadata": {},
   "outputs": [
    {
     "name": "stdout",
     "output_type": "stream",
     "text": [
      "True\n"
     ]
    }
   ],
   "source": [
    "print(pr < alpha)"
   ]
  },
  {
   "cell_type": "markdown",
   "id": "ad4ca8c1",
   "metadata": {},
   "source": [
    "Because of the same resulting heads/tails ratio in exponentially more tests, this p-value is incredibly miniscule!  Therefore, the null hypothesis is rejected and, thus, the subsequent 1000 flips will be skewed significantly towards heads."
   ]
  },
  {
   "cell_type": "markdown",
   "id": "d46503f2",
   "metadata": {},
   "source": [
    "# 2."
   ]
  },
  {
   "cell_type": "markdown",
   "id": "a4053e3a",
   "metadata": {},
   "source": [
    "If the rules of baseball were modified to include one inning of 27 out for each team, numerous resulting strategic changes would be needed. \n",
    "\n",
    "\n",
    "\n",
    "\n",
    "would want contact guys with speed to always keep the bases populated. "
   ]
  },
  {
   "cell_type": "markdown",
   "id": "70edd3fd",
   "metadata": {},
   "source": [
    "# 3."
   ]
  },
  {
   "cell_type": "markdown",
   "id": "9bb93e9f",
   "metadata": {},
   "source": [
    "### a."
   ]
  },
  {
   "cell_type": "markdown",
   "id": "c2847ded",
   "metadata": {},
   "source": [
    "Perhaps the most comprehensive, yet simple statistic that measures overall hitter performance is On Base Plus Slugging (OPS). Predictably, this varies greatly based on a player's age as seen in the figures below: "
   ]
  },
  {
   "cell_type": "code",
   "execution_count": 5,
   "id": "7a4c47bb",
   "metadata": {
    "scrolled": false
   },
   "outputs": [
    {
     "data": {
      "image/png": "[encoded data removed]",
      "text/plain": [
       "<Figure size 720x360 with 2 Axes>"
      ]
     },
     "metadata": {
      "needs_background": "light"
     },
     "output_type": "display_data"
    }
   ],
   "source": [
    "import matplotlib.pyplot as plt\n",
    "import pandas as pd\n",
    "import numpy as np\n",
    "\n",
    "table = pd.read_csv('q3table.csv')\n",
    "\n",
    "ops = table['Average OPS']\n",
    "age = table['Age']\n",
    "counts = table['Number of Players']\n",
    "\n",
    "plt.figure(figsize =(10,5))\n",
    "plt.suptitle('OPS and Frequency per Varying Age Groups')\n",
    "plt.subplot(1,2,1)\n",
    "plt.bar(x = age, height = ops,color = 'navy',log = True)\n",
    "plt.xlabel('Age')\n",
    "plt.ylabel('OPS')\n",
    "plt.subplot(1,2,2)\n",
    "plt.bar(x = age, height = counts,color = 'navy')\n",
    "plt.xlabel('Age')\n",
    "plt.ylabel('Frequency')\n",
    "plt.tight_layout()\n",
    "plt.show()"
   ]
  },
  {
   "cell_type": "markdown",
   "id": "06dab76a",
   "metadata": {},
   "source": [
    "The inverted shapes are striking. As player age increases, the number of players in each age group follows a normal distribution, while the average OPS of each group decreases. This pattern is mitigated by age 41 players who have the second highest average OPS of any age. \n",
    "\n",
    "Unlike in other sports, professional baseball players often have to rise through a series of minor leagues before reaching the games apex. For that reason, the average age of MLB rookies tends to be lower than those in the NFL, NBA, or NHL. The rare player who is in the league at the ripe age of 20 or 21 is bound to be an exceptional talent. Some recent and past examples highlight this. The reigning AL rookie of the year Julio Rodriguez was a long-term top prospect peaking at 5 on MLB.com's 100 top prosepct list. This talent translated seemlessly to the majors where at his age 20 season he had an OPS of .853. Perhaps most famously, Alex Rodriguez nearly won the MVP award in his age 20 season including a ridiculous OPS of 1.045. In the same way, players who are still worthy of being on an MLB roster at age 41, would be outliers who can still maintain their production. The clearest example of this being Albert Pujols who had an OPS of .895 at age 42.\n",
    "\n",
    "Conversely, the rookies who debut at 24 or 25 would be less talented overall with their minor league play not pressing the hand of upper management to promote them. Some of these lower tier prospects also could struggle mightly when making the jump to the next level where pitching is unlike any other league in the world. \n",
    "\n",
    "But overall, the downtrend towards the middle age groups is undeniable. It is important to note, however, that this doesn't necessarily signify a lower performance for these ages. An explanation for this phenomenon lies within the 200 plate appearance threshold. Significantly more middle aged players of 25 to 30 meet this criteria, and this threshold does not do a great job of filtering out replacement level players. 200 plate appearances is around the amount that a backup player could expect per season. In fact, these ages often contain the best overall players with the most 5 recent AL MVP's being of ages 25 to 30 (discounting the COVID season of 2020).\n",
    "\n",
    "If raising the requirement to 400 PA to show average OPS for starting caliber players I would propose less difference between the age groups, and those that exist above are due mostly to the dearth of backup players at the extremely young and old ages.  "
   ]
  },
  {
   "cell_type": "markdown",
   "id": "26b51b76",
   "metadata": {},
   "source": [
    "### b."
   ]
  },
  {
   "cell_type": "markdown",
   "id": "8ef112d2",
   "metadata": {},
   "source": [
    "# 4."
   ]
  }
 ],
 "metadata": {
  "kernelspec": {
   "display_name": "Python 3 (ipykernel)",
   "language": "python",
   "name": "python3"
  },
  "language_info": {
   "codemirror_mode": {
    "name": "ipython",
    "version": 3
   },
   "file_extension": ".py",
   "mimetype": "text/x-python",
   "name": "python",
   "nbconvert_exporter": "python",
   "pygments_lexer": "ipython3",
   "version": "3.9.7"
  }
 },
 "nbformat": 4,
 "nbformat_minor": 5
}
