{
 "cells": [
  {
   "cell_type": "markdown",
   "id": "65a135fb",
   "metadata": {},
   "source": [
    "# Data Importing"
   ]
  },
  {
   "cell_type": "markdown",
   "id": "56d774f4",
   "metadata": {},
   "source": [
    "Before doing any modelling, the data must be read in from .csv files, and the resulting DataFrame should be analyzed and understood."
   ]
  },
  {
   "cell_type": "code",
   "execution_count": 1,
   "id": "39120201",
   "metadata": {},
   "outputs": [],
   "source": [
    "import pandas as pd\n",
    "\n",
    "# define a function for code reproducability later one (more seasons, inclusion of more pitchers, etc.)\n",
    "def read_pitch_data(path):\n",
    "    '''\n",
    "    Reads in csv files for a given absolute or relative path.\n",
    "    '''\n",
    "    try:\n",
    "        df = pd.read_csv(path)\n",
    "        return df\n",
    "    except FileNotFoundError as e:\n",
    "        print(f'{e} \\nRerun with an existing filename.')"
   ]
  },
  {
   "cell_type": "code",
   "execution_count": 2,
   "id": "7b148955",
   "metadata": {},
   "outputs": [],
   "source": [
    "# use function to read in csv file\n",
    "train = read_pitch_data('pitchclassificationtrain.csv')"
   ]
  },
  {
   "cell_type": "code",
   "execution_count": 3,
   "id": "d888d82d",
   "metadata": {},
   "outputs": [
    {
     "data": {
      "text/html": [
       "<div>\n",
       "<style scoped>\n",
       "    .dataframe tbody tr th:only-of-type {\n",
       "        vertical-align: middle;\n",
       "    }\n",
       "\n",
       "    .dataframe tbody tr th {\n",
       "        vertical-align: top;\n",
       "    }\n",
       "\n",
       "    .dataframe thead th {\n",
       "        text-align: right;\n",
       "    }\n",
       "</style>\n",
       "<table border=\"1\" class=\"dataframe\">\n",
       "  <thead>\n",
       "    <tr style=\"text-align: right;\">\n",
       "      <th></th>\n",
       "      <th>pitchid</th>\n",
       "      <th>pitcherid</th>\n",
       "      <th>yearid</th>\n",
       "      <th>height</th>\n",
       "      <th>initspeed</th>\n",
       "      <th>breakx</th>\n",
       "      <th>breakz</th>\n",
       "      <th>initposx</th>\n",
       "      <th>initposz</th>\n",
       "      <th>extension</th>\n",
       "      <th>spinrate</th>\n",
       "      <th>type</th>\n",
       "    </tr>\n",
       "  </thead>\n",
       "  <tbody>\n",
       "    <tr>\n",
       "      <th>0</th>\n",
       "      <td>1</td>\n",
       "      <td>5</td>\n",
       "      <td>1</td>\n",
       "      <td>72</td>\n",
       "      <td>83.774424</td>\n",
       "      <td>-1.293106</td>\n",
       "      <td>4.451670</td>\n",
       "      <td>-1.330641</td>\n",
       "      <td>6.065956</td>\n",
       "      <td>6.317961</td>\n",
       "      <td>1386.459243</td>\n",
       "      <td>3</td>\n",
       "    </tr>\n",
       "    <tr>\n",
       "      <th>1</th>\n",
       "      <td>2</td>\n",
       "      <td>5</td>\n",
       "      <td>1</td>\n",
       "      <td>72</td>\n",
       "      <td>89.642714</td>\n",
       "      <td>-6.550556</td>\n",
       "      <td>7.993455</td>\n",
       "      <td>-1.556463</td>\n",
       "      <td>5.719125</td>\n",
       "      <td>6.119526</td>\n",
       "      <td>1963.264977</td>\n",
       "      <td>9</td>\n",
       "    </tr>\n",
       "    <tr>\n",
       "      <th>2</th>\n",
       "      <td>3</td>\n",
       "      <td>4</td>\n",
       "      <td>1</td>\n",
       "      <td>72</td>\n",
       "      <td>91.750648</td>\n",
       "      <td>-6.985574</td>\n",
       "      <td>8.991264</td>\n",
       "      <td>-2.055134</td>\n",
       "      <td>5.780312</td>\n",
       "      <td>6.201200</td>\n",
       "      <td>2360.758263</td>\n",
       "      <td>9</td>\n",
       "    </tr>\n",
       "    <tr>\n",
       "      <th>3</th>\n",
       "      <td>4</td>\n",
       "      <td>5</td>\n",
       "      <td>1</td>\n",
       "      <td>72</td>\n",
       "      <td>83.189766</td>\n",
       "      <td>-2.549204</td>\n",
       "      <td>4.844714</td>\n",
       "      <td>-1.001020</td>\n",
       "      <td>6.240138</td>\n",
       "      <td>6.074156</td>\n",
       "      <td>858.997788</td>\n",
       "      <td>7</td>\n",
       "    </tr>\n",
       "    <tr>\n",
       "      <th>4</th>\n",
       "      <td>5</td>\n",
       "      <td>2</td>\n",
       "      <td>1</td>\n",
       "      <td>80</td>\n",
       "      <td>92.698738</td>\n",
       "      <td>-5.216516</td>\n",
       "      <td>7.267769</td>\n",
       "      <td>-2.097643</td>\n",
       "      <td>5.776138</td>\n",
       "      <td>6.212281</td>\n",
       "      <td>2060.155099</td>\n",
       "      <td>9</td>\n",
       "    </tr>\n",
       "  </tbody>\n",
       "</table>\n",
       "</div>"
      ],
      "text/plain": [
       "   pitchid  pitcherid  yearid  height  initspeed    breakx    breakz  \\\n",
       "0        1          5       1      72  83.774424 -1.293106  4.451670   \n",
       "1        2          5       1      72  89.642714 -6.550556  7.993455   \n",
       "2        3          4       1      72  91.750648 -6.985574  8.991264   \n",
       "3        4          5       1      72  83.189766 -2.549204  4.844714   \n",
       "4        5          2       1      80  92.698738 -5.216516  7.267769   \n",
       "\n",
       "   initposx  initposz  extension     spinrate  type  \n",
       "0 -1.330641  6.065956   6.317961  1386.459243     3  \n",
       "1 -1.556463  5.719125   6.119526  1963.264977     9  \n",
       "2 -2.055134  5.780312   6.201200  2360.758263     9  \n",
       "3 -1.001020  6.240138   6.074156   858.997788     7  \n",
       "4 -2.097643  5.776138   6.212281  2060.155099     9  "
      ]
     },
     "execution_count": 3,
     "metadata": {},
     "output_type": "execute_result"
    }
   ],
   "source": [
    "# and view first few rows \n",
    "train.head()"
   ]
  },
  {
   "cell_type": "code",
   "execution_count": 4,
   "id": "240cb102",
   "metadata": {},
   "outputs": [],
   "source": [
    "# and for the test set\n",
    "test = read_pitch_data('pitchclassificationtest.csv')"
   ]
  },
  {
   "cell_type": "code",
   "execution_count": 5,
   "id": "2f2ead39",
   "metadata": {},
   "outputs": [
    {
     "data": {
      "text/html": [
       "<div>\n",
       "<style scoped>\n",
       "    .dataframe tbody tr th:only-of-type {\n",
       "        vertical-align: middle;\n",
       "    }\n",
       "\n",
       "    .dataframe tbody tr th {\n",
       "        vertical-align: top;\n",
       "    }\n",
       "\n",
       "    .dataframe thead th {\n",
       "        text-align: right;\n",
       "    }\n",
       "</style>\n",
       "<table border=\"1\" class=\"dataframe\">\n",
       "  <thead>\n",
       "    <tr style=\"text-align: right;\">\n",
       "      <th></th>\n",
       "      <th>pitchid</th>\n",
       "      <th>pitcherid</th>\n",
       "      <th>yearid</th>\n",
       "      <th>height</th>\n",
       "      <th>initspeed</th>\n",
       "      <th>breakx</th>\n",
       "      <th>breakz</th>\n",
       "      <th>initposx</th>\n",
       "      <th>initposz</th>\n",
       "      <th>extension</th>\n",
       "      <th>spinrate</th>\n",
       "    </tr>\n",
       "  </thead>\n",
       "  <tbody>\n",
       "    <tr>\n",
       "      <th>0</th>\n",
       "      <td>10648</td>\n",
       "      <td>3</td>\n",
       "      <td>3</td>\n",
       "      <td>77</td>\n",
       "      <td>84.456228</td>\n",
       "      <td>4.153646</td>\n",
       "      <td>9.338819</td>\n",
       "      <td>4.056353</td>\n",
       "      <td>6.486289</td>\n",
       "      <td>6.166051</td>\n",
       "      <td>2257.153203</td>\n",
       "    </tr>\n",
       "    <tr>\n",
       "      <th>1</th>\n",
       "      <td>10649</td>\n",
       "      <td>1</td>\n",
       "      <td>3</td>\n",
       "      <td>76</td>\n",
       "      <td>88.219799</td>\n",
       "      <td>-7.082679</td>\n",
       "      <td>3.091779</td>\n",
       "      <td>-2.218359</td>\n",
       "      <td>5.997977</td>\n",
       "      <td>6.527265</td>\n",
       "      <td>2200.836684</td>\n",
       "    </tr>\n",
       "    <tr>\n",
       "      <th>2</th>\n",
       "      <td>10650</td>\n",
       "      <td>1</td>\n",
       "      <td>3</td>\n",
       "      <td>76</td>\n",
       "      <td>86.351469</td>\n",
       "      <td>-7.998646</td>\n",
       "      <td>3.875420</td>\n",
       "      <td>-2.346287</td>\n",
       "      <td>5.919790</td>\n",
       "      <td>6.350896</td>\n",
       "      <td>2227.855798</td>\n",
       "    </tr>\n",
       "    <tr>\n",
       "      <th>3</th>\n",
       "      <td>10651</td>\n",
       "      <td>4</td>\n",
       "      <td>3</td>\n",
       "      <td>72</td>\n",
       "      <td>93.309879</td>\n",
       "      <td>-2.800042</td>\n",
       "      <td>8.270781</td>\n",
       "      <td>-1.850865</td>\n",
       "      <td>5.886583</td>\n",
       "      <td>6.044787</td>\n",
       "      <td>2188.735352</td>\n",
       "    </tr>\n",
       "    <tr>\n",
       "      <th>4</th>\n",
       "      <td>10652</td>\n",
       "      <td>3</td>\n",
       "      <td>3</td>\n",
       "      <td>77</td>\n",
       "      <td>85.284153</td>\n",
       "      <td>9.411612</td>\n",
       "      <td>7.600999</td>\n",
       "      <td>4.218555</td>\n",
       "      <td>6.536227</td>\n",
       "      <td>6.219090</td>\n",
       "      <td>2102.098895</td>\n",
       "    </tr>\n",
       "  </tbody>\n",
       "</table>\n",
       "</div>"
      ],
      "text/plain": [
       "   pitchid  pitcherid  yearid  height  initspeed    breakx    breakz  \\\n",
       "0    10648          3       3      77  84.456228  4.153646  9.338819   \n",
       "1    10649          1       3      76  88.219799 -7.082679  3.091779   \n",
       "2    10650          1       3      76  86.351469 -7.998646  3.875420   \n",
       "3    10651          4       3      72  93.309879 -2.800042  8.270781   \n",
       "4    10652          3       3      77  85.284153  9.411612  7.600999   \n",
       "\n",
       "   initposx  initposz  extension     spinrate  \n",
       "0  4.056353  6.486289   6.166051  2257.153203  \n",
       "1 -2.218359  5.997977   6.527265  2200.836684  \n",
       "2 -2.346287  5.919790   6.350896  2227.855798  \n",
       "3 -1.850865  5.886583   6.044787  2188.735352  \n",
       "4  4.218555  6.536227   6.219090  2102.098895  "
      ]
     },
     "execution_count": 5,
     "metadata": {},
     "output_type": "execute_result"
    }
   ],
   "source": [
    "test.head()"
   ]
  },
  {
   "cell_type": "markdown",
   "id": "8355db2d",
   "metadata": {},
   "source": [
    "The data looks like it was read in correctly! Occasionally, there are parsing issues that arise if given a tab-separated file instead of a comma-separated one. In this case, there were no significant issues. One thing that should be adjusted, however, is the index row. By default, `pd.read_csv()` creates an additional column that is not a part of the DataFrame, but is an added index. In some cases, this is quite useful, but here there is already an existing `pitchid` column which suffices. Therefore, the index will be replaced below for both tables."
   ]
  },
  {
   "cell_type": "code",
   "execution_count": 6,
   "id": "127d534e",
   "metadata": {
    "scrolled": true
   },
   "outputs": [
    {
     "data": {
      "text/html": [
       "<div>\n",
       "<style scoped>\n",
       "    .dataframe tbody tr th:only-of-type {\n",
       "        vertical-align: middle;\n",
       "    }\n",
       "\n",
       "    .dataframe tbody tr th {\n",
       "        vertical-align: top;\n",
       "    }\n",
       "\n",
       "    .dataframe thead th {\n",
       "        text-align: right;\n",
       "    }\n",
       "</style>\n",
       "<table border=\"1\" class=\"dataframe\">\n",
       "  <thead>\n",
       "    <tr style=\"text-align: right;\">\n",
       "      <th></th>\n",
       "      <th>pitcherid</th>\n",
       "      <th>yearid</th>\n",
       "      <th>height</th>\n",
       "      <th>initspeed</th>\n",
       "      <th>breakx</th>\n",
       "      <th>breakz</th>\n",
       "      <th>initposx</th>\n",
       "      <th>initposz</th>\n",
       "      <th>extension</th>\n",
       "      <th>spinrate</th>\n",
       "      <th>type</th>\n",
       "    </tr>\n",
       "    <tr>\n",
       "      <th>pitchid</th>\n",
       "      <th></th>\n",
       "      <th></th>\n",
       "      <th></th>\n",
       "      <th></th>\n",
       "      <th></th>\n",
       "      <th></th>\n",
       "      <th></th>\n",
       "      <th></th>\n",
       "      <th></th>\n",
       "      <th></th>\n",
       "      <th></th>\n",
       "    </tr>\n",
       "  </thead>\n",
       "  <tbody>\n",
       "    <tr>\n",
       "      <th>1</th>\n",
       "      <td>5</td>\n",
       "      <td>1</td>\n",
       "      <td>72</td>\n",
       "      <td>83.774424</td>\n",
       "      <td>-1.293106</td>\n",
       "      <td>4.451670</td>\n",
       "      <td>-1.330641</td>\n",
       "      <td>6.065956</td>\n",
       "      <td>6.317961</td>\n",
       "      <td>1386.459243</td>\n",
       "      <td>3</td>\n",
       "    </tr>\n",
       "    <tr>\n",
       "      <th>2</th>\n",
       "      <td>5</td>\n",
       "      <td>1</td>\n",
       "      <td>72</td>\n",
       "      <td>89.642714</td>\n",
       "      <td>-6.550556</td>\n",
       "      <td>7.993455</td>\n",
       "      <td>-1.556463</td>\n",
       "      <td>5.719125</td>\n",
       "      <td>6.119526</td>\n",
       "      <td>1963.264977</td>\n",
       "      <td>9</td>\n",
       "    </tr>\n",
       "    <tr>\n",
       "      <th>3</th>\n",
       "      <td>4</td>\n",
       "      <td>1</td>\n",
       "      <td>72</td>\n",
       "      <td>91.750648</td>\n",
       "      <td>-6.985574</td>\n",
       "      <td>8.991264</td>\n",
       "      <td>-2.055134</td>\n",
       "      <td>5.780312</td>\n",
       "      <td>6.201200</td>\n",
       "      <td>2360.758263</td>\n",
       "      <td>9</td>\n",
       "    </tr>\n",
       "    <tr>\n",
       "      <th>4</th>\n",
       "      <td>5</td>\n",
       "      <td>1</td>\n",
       "      <td>72</td>\n",
       "      <td>83.189766</td>\n",
       "      <td>-2.549204</td>\n",
       "      <td>4.844714</td>\n",
       "      <td>-1.001020</td>\n",
       "      <td>6.240138</td>\n",
       "      <td>6.074156</td>\n",
       "      <td>858.997788</td>\n",
       "      <td>7</td>\n",
       "    </tr>\n",
       "    <tr>\n",
       "      <th>5</th>\n",
       "      <td>2</td>\n",
       "      <td>1</td>\n",
       "      <td>80</td>\n",
       "      <td>92.698738</td>\n",
       "      <td>-5.216516</td>\n",
       "      <td>7.267769</td>\n",
       "      <td>-2.097643</td>\n",
       "      <td>5.776138</td>\n",
       "      <td>6.212281</td>\n",
       "      <td>2060.155099</td>\n",
       "      <td>9</td>\n",
       "    </tr>\n",
       "  </tbody>\n",
       "</table>\n",
       "</div>"
      ],
      "text/plain": [
       "         pitcherid  yearid  height  initspeed    breakx    breakz  initposx  \\\n",
       "pitchid                                                                       \n",
       "1                5       1      72  83.774424 -1.293106  4.451670 -1.330641   \n",
       "2                5       1      72  89.642714 -6.550556  7.993455 -1.556463   \n",
       "3                4       1      72  91.750648 -6.985574  8.991264 -2.055134   \n",
       "4                5       1      72  83.189766 -2.549204  4.844714 -1.001020   \n",
       "5                2       1      80  92.698738 -5.216516  7.267769 -2.097643   \n",
       "\n",
       "         initposz  extension     spinrate  type  \n",
       "pitchid                                          \n",
       "1        6.065956   6.317961  1386.459243     3  \n",
       "2        5.719125   6.119526  1963.264977     9  \n",
       "3        5.780312   6.201200  2360.758263     9  \n",
       "4        6.240138   6.074156   858.997788     7  \n",
       "5        5.776138   6.212281  2060.155099     9  "
      ]
     },
     "execution_count": 6,
     "metadata": {},
     "output_type": "execute_result"
    }
   ],
   "source": [
    "train.set_index('pitchid',inplace = True) # `inplace` redeclares changed df to original `train` variable\n",
    "train.head() # prints first 5 rows"
   ]
  },
  {
   "cell_type": "code",
   "execution_count": 7,
   "id": "11a5ff19",
   "metadata": {},
   "outputs": [
    {
     "data": {
      "text/html": [
       "<div>\n",
       "<style scoped>\n",
       "    .dataframe tbody tr th:only-of-type {\n",
       "        vertical-align: middle;\n",
       "    }\n",
       "\n",
       "    .dataframe tbody tr th {\n",
       "        vertical-align: top;\n",
       "    }\n",
       "\n",
       "    .dataframe thead th {\n",
       "        text-align: right;\n",
       "    }\n",
       "</style>\n",
       "<table border=\"1\" class=\"dataframe\">\n",
       "  <thead>\n",
       "    <tr style=\"text-align: right;\">\n",
       "      <th></th>\n",
       "      <th>pitcherid</th>\n",
       "      <th>yearid</th>\n",
       "      <th>height</th>\n",
       "      <th>initspeed</th>\n",
       "      <th>breakx</th>\n",
       "      <th>breakz</th>\n",
       "      <th>initposx</th>\n",
       "      <th>initposz</th>\n",
       "      <th>extension</th>\n",
       "      <th>spinrate</th>\n",
       "    </tr>\n",
       "    <tr>\n",
       "      <th>pitchid</th>\n",
       "      <th></th>\n",
       "      <th></th>\n",
       "      <th></th>\n",
       "      <th></th>\n",
       "      <th></th>\n",
       "      <th></th>\n",
       "      <th></th>\n",
       "      <th></th>\n",
       "      <th></th>\n",
       "      <th></th>\n",
       "    </tr>\n",
       "  </thead>\n",
       "  <tbody>\n",
       "    <tr>\n",
       "      <th>10648</th>\n",
       "      <td>3</td>\n",
       "      <td>3</td>\n",
       "      <td>77</td>\n",
       "      <td>84.456228</td>\n",
       "      <td>4.153646</td>\n",
       "      <td>9.338819</td>\n",
       "      <td>4.056353</td>\n",
       "      <td>6.486289</td>\n",
       "      <td>6.166051</td>\n",
       "      <td>2257.153203</td>\n",
       "    </tr>\n",
       "    <tr>\n",
       "      <th>10649</th>\n",
       "      <td>1</td>\n",
       "      <td>3</td>\n",
       "      <td>76</td>\n",
       "      <td>88.219799</td>\n",
       "      <td>-7.082679</td>\n",
       "      <td>3.091779</td>\n",
       "      <td>-2.218359</td>\n",
       "      <td>5.997977</td>\n",
       "      <td>6.527265</td>\n",
       "      <td>2200.836684</td>\n",
       "    </tr>\n",
       "    <tr>\n",
       "      <th>10650</th>\n",
       "      <td>1</td>\n",
       "      <td>3</td>\n",
       "      <td>76</td>\n",
       "      <td>86.351469</td>\n",
       "      <td>-7.998646</td>\n",
       "      <td>3.875420</td>\n",
       "      <td>-2.346287</td>\n",
       "      <td>5.919790</td>\n",
       "      <td>6.350896</td>\n",
       "      <td>2227.855798</td>\n",
       "    </tr>\n",
       "    <tr>\n",
       "      <th>10651</th>\n",
       "      <td>4</td>\n",
       "      <td>3</td>\n",
       "      <td>72</td>\n",
       "      <td>93.309879</td>\n",
       "      <td>-2.800042</td>\n",
       "      <td>8.270781</td>\n",
       "      <td>-1.850865</td>\n",
       "      <td>5.886583</td>\n",
       "      <td>6.044787</td>\n",
       "      <td>2188.735352</td>\n",
       "    </tr>\n",
       "    <tr>\n",
       "      <th>10652</th>\n",
       "      <td>3</td>\n",
       "      <td>3</td>\n",
       "      <td>77</td>\n",
       "      <td>85.284153</td>\n",
       "      <td>9.411612</td>\n",
       "      <td>7.600999</td>\n",
       "      <td>4.218555</td>\n",
       "      <td>6.536227</td>\n",
       "      <td>6.219090</td>\n",
       "      <td>2102.098895</td>\n",
       "    </tr>\n",
       "  </tbody>\n",
       "</table>\n",
       "</div>"
      ],
      "text/plain": [
       "         pitcherid  yearid  height  initspeed    breakx    breakz  initposx  \\\n",
       "pitchid                                                                       \n",
       "10648            3       3      77  84.456228  4.153646  9.338819  4.056353   \n",
       "10649            1       3      76  88.219799 -7.082679  3.091779 -2.218359   \n",
       "10650            1       3      76  86.351469 -7.998646  3.875420 -2.346287   \n",
       "10651            4       3      72  93.309879 -2.800042  8.270781 -1.850865   \n",
       "10652            3       3      77  85.284153  9.411612  7.600999  4.218555   \n",
       "\n",
       "         initposz  extension     spinrate  \n",
       "pitchid                                    \n",
       "10648    6.486289   6.166051  2257.153203  \n",
       "10649    5.997977   6.527265  2200.836684  \n",
       "10650    5.919790   6.350896  2227.855798  \n",
       "10651    5.886583   6.044787  2188.735352  \n",
       "10652    6.536227   6.219090  2102.098895  "
      ]
     },
     "execution_count": 7,
     "metadata": {},
     "output_type": "execute_result"
    }
   ],
   "source": [
    "test.set_index('pitchid',inplace = True) # `inplace` redeclares changed df to original `test` variable\n",
    "test.head() # prints first 5 rows"
   ]
  },
  {
   "cell_type": "markdown",
   "id": "036eafbe",
   "metadata": {},
   "source": [
    "Now the `pitchid` replaces the dummy index as the new index. \n",
    "\n",
    "It is important to note that now, the train table index is 1-indexed compared to before where it was 0-indexed. "
   ]
  },
  {
   "cell_type": "markdown",
   "id": "fba58782",
   "metadata": {},
   "source": [
    "# Exploratory Data Analysis (data types, null check, duplicate check)"
   ]
  },
  {
   "cell_type": "markdown",
   "id": "4985aaa3",
   "metadata": {},
   "source": [
    "Now, data interpretation begins. Numerous exploratory questions are important to understand, such as relevant data types, potential duplicated entries, and potential missing/invalid values. This will be explored using the training data, but the testing data is identical sans the label (pitch type)."
   ]
  },
  {
   "cell_type": "code",
   "execution_count": 8,
   "id": "c1f2f200",
   "metadata": {},
   "outputs": [
    {
     "name": "stdout",
     "output_type": "stream",
     "text": [
      "<class 'pandas.core.frame.DataFrame'>\n",
      "Int64Index: 10647 entries, 1 to 10647\n",
      "Data columns (total 11 columns):\n",
      " #   Column     Non-Null Count  Dtype  \n",
      "---  ------     --------------  -----  \n",
      " 0   pitcherid  10647 non-null  int64  \n",
      " 1   yearid     10647 non-null  int64  \n",
      " 2   height     10647 non-null  int64  \n",
      " 3   initspeed  10647 non-null  float64\n",
      " 4   breakx     10647 non-null  float64\n",
      " 5   breakz     10647 non-null  float64\n",
      " 6   initposx   10647 non-null  float64\n",
      " 7   initposz   10647 non-null  float64\n",
      " 8   extension  10647 non-null  float64\n",
      " 9   spinrate   10647 non-null  float64\n",
      " 10  type       10647 non-null  int64  \n",
      "dtypes: float64(7), int64(4)\n",
      "memory usage: 998.2 KB\n"
     ]
    }
   ],
   "source": [
    "train.info()"
   ]
  },
  {
   "cell_type": "markdown",
   "id": "704baa1e",
   "metadata": {},
   "source": [
    "This `df.info()` function is extremely useful when reading from an unknown data source. It displays the data type of each column, as well as the amount of non-null/NaN values that exist. In certain cases, this will be a large amount, which necessitates further extrapolation. With this pitch data, the data seems to be all continuous (numerical) and perfectly clean with no null values."
   ]
  },
  {
   "cell_type": "code",
   "execution_count": 9,
   "id": "29689b2d",
   "metadata": {},
   "outputs": [
    {
     "data": {
      "text/html": [
       "<div>\n",
       "<style scoped>\n",
       "    .dataframe tbody tr th:only-of-type {\n",
       "        vertical-align: middle;\n",
       "    }\n",
       "\n",
       "    .dataframe tbody tr th {\n",
       "        vertical-align: top;\n",
       "    }\n",
       "\n",
       "    .dataframe thead th {\n",
       "        text-align: right;\n",
       "    }\n",
       "</style>\n",
       "<table border=\"1\" class=\"dataframe\">\n",
       "  <thead>\n",
       "    <tr style=\"text-align: right;\">\n",
       "      <th></th>\n",
       "    </tr>\n",
       "    <tr>\n",
       "      <th>pitchid</th>\n",
       "    </tr>\n",
       "  </thead>\n",
       "  <tbody>\n",
       "    <tr>\n",
       "      <th>1</th>\n",
       "    </tr>\n",
       "    <tr>\n",
       "      <th>2</th>\n",
       "    </tr>\n",
       "    <tr>\n",
       "      <th>3</th>\n",
       "    </tr>\n",
       "    <tr>\n",
       "      <th>4</th>\n",
       "    </tr>\n",
       "    <tr>\n",
       "      <th>5</th>\n",
       "    </tr>\n",
       "  </tbody>\n",
       "</table>\n",
       "</div>"
      ],
      "text/plain": [
       "Empty DataFrame\n",
       "Columns: []\n",
       "Index: [1, 2, 3, 4, 5]"
      ]
     },
     "execution_count": 9,
     "metadata": {},
     "output_type": "execute_result"
    }
   ],
   "source": [
    "train.select_dtypes(include = 'object').head() # includes strings, but not numerical values..."
   ]
  },
  {
   "cell_type": "code",
   "execution_count": 10,
   "id": "43eb023f",
   "metadata": {},
   "outputs": [
    {
     "data": {
      "text/html": [
       "<div>\n",
       "<style scoped>\n",
       "    .dataframe tbody tr th:only-of-type {\n",
       "        vertical-align: middle;\n",
       "    }\n",
       "\n",
       "    .dataframe tbody tr th {\n",
       "        vertical-align: top;\n",
       "    }\n",
       "\n",
       "    .dataframe thead th {\n",
       "        text-align: right;\n",
       "    }\n",
       "</style>\n",
       "<table border=\"1\" class=\"dataframe\">\n",
       "  <thead>\n",
       "    <tr style=\"text-align: right;\">\n",
       "      <th></th>\n",
       "      <th>pitcherid</th>\n",
       "      <th>yearid</th>\n",
       "      <th>height</th>\n",
       "      <th>initspeed</th>\n",
       "      <th>breakx</th>\n",
       "      <th>breakz</th>\n",
       "      <th>initposx</th>\n",
       "      <th>initposz</th>\n",
       "      <th>extension</th>\n",
       "      <th>spinrate</th>\n",
       "      <th>type</th>\n",
       "    </tr>\n",
       "    <tr>\n",
       "      <th>pitchid</th>\n",
       "      <th></th>\n",
       "      <th></th>\n",
       "      <th></th>\n",
       "      <th></th>\n",
       "      <th></th>\n",
       "      <th></th>\n",
       "      <th></th>\n",
       "      <th></th>\n",
       "      <th></th>\n",
       "      <th></th>\n",
       "      <th></th>\n",
       "    </tr>\n",
       "  </thead>\n",
       "  <tbody>\n",
       "    <tr>\n",
       "      <th>1</th>\n",
       "      <td>5</td>\n",
       "      <td>1</td>\n",
       "      <td>72</td>\n",
       "      <td>83.774424</td>\n",
       "      <td>-1.293106</td>\n",
       "      <td>4.451670</td>\n",
       "      <td>-1.330641</td>\n",
       "      <td>6.065956</td>\n",
       "      <td>6.317961</td>\n",
       "      <td>1386.459243</td>\n",
       "      <td>3</td>\n",
       "    </tr>\n",
       "    <tr>\n",
       "      <th>2</th>\n",
       "      <td>5</td>\n",
       "      <td>1</td>\n",
       "      <td>72</td>\n",
       "      <td>89.642714</td>\n",
       "      <td>-6.550556</td>\n",
       "      <td>7.993455</td>\n",
       "      <td>-1.556463</td>\n",
       "      <td>5.719125</td>\n",
       "      <td>6.119526</td>\n",
       "      <td>1963.264977</td>\n",
       "      <td>9</td>\n",
       "    </tr>\n",
       "    <tr>\n",
       "      <th>3</th>\n",
       "      <td>4</td>\n",
       "      <td>1</td>\n",
       "      <td>72</td>\n",
       "      <td>91.750648</td>\n",
       "      <td>-6.985574</td>\n",
       "      <td>8.991264</td>\n",
       "      <td>-2.055134</td>\n",
       "      <td>5.780312</td>\n",
       "      <td>6.201200</td>\n",
       "      <td>2360.758263</td>\n",
       "      <td>9</td>\n",
       "    </tr>\n",
       "    <tr>\n",
       "      <th>4</th>\n",
       "      <td>5</td>\n",
       "      <td>1</td>\n",
       "      <td>72</td>\n",
       "      <td>83.189766</td>\n",
       "      <td>-2.549204</td>\n",
       "      <td>4.844714</td>\n",
       "      <td>-1.001020</td>\n",
       "      <td>6.240138</td>\n",
       "      <td>6.074156</td>\n",
       "      <td>858.997788</td>\n",
       "      <td>7</td>\n",
       "    </tr>\n",
       "    <tr>\n",
       "      <th>5</th>\n",
       "      <td>2</td>\n",
       "      <td>1</td>\n",
       "      <td>80</td>\n",
       "      <td>92.698738</td>\n",
       "      <td>-5.216516</td>\n",
       "      <td>7.267769</td>\n",
       "      <td>-2.097643</td>\n",
       "      <td>5.776138</td>\n",
       "      <td>6.212281</td>\n",
       "      <td>2060.155099</td>\n",
       "      <td>9</td>\n",
       "    </tr>\n",
       "  </tbody>\n",
       "</table>\n",
       "</div>"
      ],
      "text/plain": [
       "         pitcherid  yearid  height  initspeed    breakx    breakz  initposx  \\\n",
       "pitchid                                                                       \n",
       "1                5       1      72  83.774424 -1.293106  4.451670 -1.330641   \n",
       "2                5       1      72  89.642714 -6.550556  7.993455 -1.556463   \n",
       "3                4       1      72  91.750648 -6.985574  8.991264 -2.055134   \n",
       "4                5       1      72  83.189766 -2.549204  4.844714 -1.001020   \n",
       "5                2       1      80  92.698738 -5.216516  7.267769 -2.097643   \n",
       "\n",
       "         initposz  extension     spinrate  type  \n",
       "pitchid                                          \n",
       "1        6.065956   6.317961  1386.459243     3  \n",
       "2        5.719125   6.119526  1963.264977     9  \n",
       "3        5.780312   6.201200  2360.758263     9  \n",
       "4        6.240138   6.074156   858.997788     7  \n",
       "5        5.776138   6.212281  2060.155099     9  "
      ]
     },
     "execution_count": 10,
     "metadata": {},
     "output_type": "execute_result"
    }
   ],
   "source": [
    "train.select_dtypes(include = 'number').head() # numerical data (floats, doubles, ints...)"
   ]
  },
  {
   "cell_type": "markdown",
   "id": "2a00f2ff",
   "metadata": {},
   "source": [
    "Now this is confirmed - all the data is numerical. This bodes well for the projection."
   ]
  },
  {
   "cell_type": "markdown",
   "id": "908f5ede",
   "metadata": {},
   "source": [
    "### Duplicate Check"
   ]
  },
  {
   "cell_type": "markdown",
   "id": "0d20485c",
   "metadata": {},
   "source": [
    "Next is to check for duplicatated entries. Again, this is proved in the above `.info()` (10647 entries = 10647 non nulls), but there is additional checks that can be done for safety."
   ]
  },
  {
   "cell_type": "code",
   "execution_count": 11,
   "id": "10b999c3",
   "metadata": {},
   "outputs": [],
   "source": [
    "def check_dupes(df):\n",
    "    if (df.duplicated().sum() == 0): # duplicated () checks each row for dupe\n",
    "        print(\"No row is a duplicate entry.\")\n",
    "    else:\n",
    "        print(\"There is a duplicate entry.\")"
   ]
  },
  {
   "cell_type": "code",
   "execution_count": 12,
   "id": "76a4d6bc",
   "metadata": {},
   "outputs": [
    {
     "name": "stdout",
     "output_type": "stream",
     "text": [
      "No row is a duplicate entry.\n"
     ]
    }
   ],
   "source": [
    "check_dupes(train)"
   ]
  },
  {
   "cell_type": "markdown",
   "id": "56739dba",
   "metadata": {},
   "source": [
    "### Null Check"
   ]
  },
  {
   "cell_type": "markdown",
   "id": "8095a790",
   "metadata": {},
   "source": [
    "Now, a final null check..."
   ]
  },
  {
   "cell_type": "code",
   "execution_count": 13,
   "id": "b81b382d",
   "metadata": {},
   "outputs": [],
   "source": [
    "def check_nulls(df):\n",
    "    if(train.isna().sum().any() == False):\n",
    "        print(\"No row contains a null or NaN value.\")\n",
    "    else:\n",
    "        print(\"There is a null or NaN value in this table.\")"
   ]
  },
  {
   "cell_type": "code",
   "execution_count": 14,
   "id": "e3999daf",
   "metadata": {},
   "outputs": [
    {
     "name": "stdout",
     "output_type": "stream",
     "text": [
      "No row contains a null or NaN value.\n"
     ]
    }
   ],
   "source": [
    "check_nulls(train)"
   ]
  },
  {
   "cell_type": "markdown",
   "id": "c24d8337",
   "metadata": {},
   "source": [
    "# Exploratory Analysis -  Value Interpretation"
   ]
  },
  {
   "cell_type": "markdown",
   "id": "e6f676bb",
   "metadata": {},
   "source": [
    "In addition to these standard data quality checks, it is imperative to understand all the possible values that features can take on. This is done with the `pd.Series.value_counts()` function, which yields these."
   ]
  },
  {
   "cell_type": "markdown",
   "id": "ad6786f9",
   "metadata": {},
   "source": [
    "Firstly, the label, or the variable that is ultimately to predict. In this case, this is the pitch type."
   ]
  },
  {
   "cell_type": "code",
   "execution_count": 15,
   "id": "cfc9fe5f",
   "metadata": {
    "scrolled": false
   },
   "outputs": [
    {
     "data": {
      "text/plain": [
       "10    3102\n",
       "9     2952\n",
       "2     1483\n",
       "4     1330\n",
       "7      901\n",
       "8      674\n",
       "3      205\n",
       "Name: type, dtype: int64"
      ]
     },
     "execution_count": 15,
     "metadata": {},
     "output_type": "execute_result"
    }
   ],
   "source": [
    "train['type'].value_counts()"
   ]
  },
  {
   "cell_type": "markdown",
   "id": "bc4e447c",
   "metadata": {},
   "source": [
    "These values represent pitch types (i.e. 10 := 4 - Seam Fastball, 9 := 2 - Seam Fastball).\n",
    "\n",
    "To obtain more information about the pitches, the pitch types can be grouped."
   ]
  },
  {
   "cell_type": "code",
   "execution_count": 16,
   "id": "bbac6952",
   "metadata": {},
   "outputs": [
    {
     "data": {
      "text/plain": [
       "pandas.core.groupby.generic.DataFrameGroupBy"
      ]
     },
     "execution_count": 16,
     "metadata": {},
     "output_type": "execute_result"
    }
   ],
   "source": [
    "pitches_by_type = train.groupby('type') \n",
    "type(pitches_by_type)"
   ]
  },
  {
   "cell_type": "markdown",
   "id": "ebc1f856",
   "metadata": {},
   "source": [
    "This yields a pandas.groupby variable that needs subsequent aggregation functions similarly to grouping in SQL. The `count()` aggregation is not unique for each column - it only counts the grouped entries for each index. Therefore, only one column is needed below. This is obtained with the `df.iloc[]` function."
   ]
  },
  {
   "cell_type": "code",
   "execution_count": 17,
   "id": "21f61033",
   "metadata": {
    "scrolled": true
   },
   "outputs": [
    {
     "data": {
      "text/plain": [
       "type\n",
       "2     1483\n",
       "3      205\n",
       "4     1330\n",
       "7      901\n",
       "8      674\n",
       "9     2952\n",
       "10    3102\n",
       "Name: pitcherid, dtype: int64"
      ]
     },
     "execution_count": 17,
     "metadata": {},
     "output_type": "execute_result"
    }
   ],
   "source": [
    "pitches_by_type.count().iloc[:,0] # how many of each pitches? "
   ]
  },
  {
   "cell_type": "markdown",
   "id": "cdd3763a",
   "metadata": {},
   "source": [
    "By a large margin, pitch type 3 is the most rarely occurring. This can be illustrated further with a simple bar graph."
   ]
  },
  {
   "cell_type": "code",
   "execution_count": 18,
   "id": "69a91bf5",
   "metadata": {
    "scrolled": true
   },
   "outputs": [
    {
     "data": {
      "image/png": "[encoded data removed]",
      "text/plain": [
       "<Figure size 432x288 with 1 Axes>"
      ]
     },
     "metadata": {
      "needs_background": "light"
     },
     "output_type": "display_data"
    }
   ],
   "source": [
    "import matplotlib.pyplot as plt\n",
    "\n",
    "counts = pitches_by_type.count().sort_values('pitcherid',ascending=False) # sort counts\n",
    "labels = [str(index) for index in counts.index] # string labels - without this int labels have tricky interaction with matplotlib\n",
    "\n",
    "plt.figure()\n",
    "plt.bar(x = labels, height = counts['pitcherid'], color = 'navy')\n",
    "plt.title('Counts of Each Pitch Occurrence')\n",
    "plt.xlabel('Pitch Type')\n",
    "plt.ylabel('Count')\n",
    "plt.show()"
   ]
  },
  {
   "cell_type": "markdown",
   "id": "105a4237",
   "metadata": {},
   "source": [
    "No matter what type modelling is done after this analysis, this should be noted. Without adjustment, models will learn pitches 10 and 9 to a greater degree than all others.\n"
   ]
  },
  {
   "cell_type": "markdown",
   "id": "e249481d",
   "metadata": {},
   "source": [
    "Next, a similar process can be done, but this time, grouping by each individual pitcher. "
   ]
  },
  {
   "cell_type": "code",
   "execution_count": 19,
   "id": "b46ffcb5",
   "metadata": {},
   "outputs": [],
   "source": [
    "by_pitcher = train.groupby(['pitcherid'])"
   ]
  },
  {
   "cell_type": "code",
   "execution_count": 20,
   "id": "e87cab78",
   "metadata": {},
   "outputs": [
    {
     "data": {
      "text/plain": [
       "pitcherid\n",
       "1    1049\n",
       "2    2137\n",
       "3      12\n",
       "4    1840\n",
       "5    5609\n",
       "Name: yearid, dtype: int64"
      ]
     },
     "execution_count": 20,
     "metadata": {},
     "output_type": "execute_result"
    }
   ],
   "source": [
    "counts = by_pitcher.count()\n",
    "counts.iloc[:,0] # counts are repeated for each column, so just take the first"
   ]
  },
  {
   "cell_type": "markdown",
   "id": "3a572473",
   "metadata": {},
   "source": [
    "Some interesting developments: pitcher 3 and pitcher 5 stand out. The former has significantly less pitches recorded than the others, while the latter has significantly more. Therefore, any quirks of pitcher 5 (lower are angle, lower/higher spin rate will overinfluence the model's learning."
   ]
  },
  {
   "cell_type": "markdown",
   "id": "14815a15",
   "metadata": {},
   "source": [
    "Next, finding the averages for each feature can yield key insights."
   ]
  },
  {
   "cell_type": "code",
   "execution_count": 21,
   "id": "5dd82742",
   "metadata": {
    "scrolled": false
   },
   "outputs": [
    {
     "data": {
      "text/html": [
       "<div>\n",
       "<style scoped>\n",
       "    .dataframe tbody tr th:only-of-type {\n",
       "        vertical-align: middle;\n",
       "    }\n",
       "\n",
       "    .dataframe tbody tr th {\n",
       "        vertical-align: top;\n",
       "    }\n",
       "\n",
       "    .dataframe thead th {\n",
       "        text-align: right;\n",
       "    }\n",
       "</style>\n",
       "<table border=\"1\" class=\"dataframe\">\n",
       "  <thead>\n",
       "    <tr style=\"text-align: right;\">\n",
       "      <th></th>\n",
       "      <th>yearid</th>\n",
       "      <th>height</th>\n",
       "      <th>initspeed</th>\n",
       "      <th>breakx</th>\n",
       "      <th>breakz</th>\n",
       "      <th>initposx</th>\n",
       "      <th>initposz</th>\n",
       "      <th>extension</th>\n",
       "      <th>spinrate</th>\n",
       "      <th>type</th>\n",
       "    </tr>\n",
       "    <tr>\n",
       "      <th>pitcherid</th>\n",
       "      <th></th>\n",
       "      <th></th>\n",
       "      <th></th>\n",
       "      <th></th>\n",
       "      <th></th>\n",
       "      <th></th>\n",
       "      <th></th>\n",
       "      <th></th>\n",
       "      <th></th>\n",
       "      <th></th>\n",
       "    </tr>\n",
       "  </thead>\n",
       "  <tbody>\n",
       "    <tr>\n",
       "      <th>1</th>\n",
       "      <td>1.622498</td>\n",
       "      <td>76.0</td>\n",
       "      <td>83.908213</td>\n",
       "      <td>-4.267288</td>\n",
       "      <td>0.801821</td>\n",
       "      <td>-1.936875</td>\n",
       "      <td>6.352940</td>\n",
       "      <td>6.189233</td>\n",
       "      <td>2203.901527</td>\n",
       "      <td>6.180172</td>\n",
       "    </tr>\n",
       "    <tr>\n",
       "      <th>2</th>\n",
       "      <td>1.459523</td>\n",
       "      <td>80.0</td>\n",
       "      <td>89.854474</td>\n",
       "      <td>-1.743194</td>\n",
       "      <td>4.147342</td>\n",
       "      <td>-2.257288</td>\n",
       "      <td>5.815367</td>\n",
       "      <td>6.200563</td>\n",
       "      <td>2235.687376</td>\n",
       "      <td>7.100608</td>\n",
       "    </tr>\n",
       "    <tr>\n",
       "      <th>3</th>\n",
       "      <td>2.000000</td>\n",
       "      <td>77.0</td>\n",
       "      <td>86.912987</td>\n",
       "      <td>5.549091</td>\n",
       "      <td>6.668309</td>\n",
       "      <td>4.063426</td>\n",
       "      <td>6.511092</td>\n",
       "      <td>6.176105</td>\n",
       "      <td>2070.742681</td>\n",
       "      <td>8.500000</td>\n",
       "    </tr>\n",
       "    <tr>\n",
       "      <th>4</th>\n",
       "      <td>1.371739</td>\n",
       "      <td>72.0</td>\n",
       "      <td>90.128965</td>\n",
       "      <td>-2.700970</td>\n",
       "      <td>5.894434</td>\n",
       "      <td>-2.004139</td>\n",
       "      <td>5.860586</td>\n",
       "      <td>6.197486</td>\n",
       "      <td>2310.786782</td>\n",
       "      <td>7.722283</td>\n",
       "    </tr>\n",
       "    <tr>\n",
       "      <th>5</th>\n",
       "      <td>1.537172</td>\n",
       "      <td>72.0</td>\n",
       "      <td>86.772190</td>\n",
       "      <td>-3.491820</td>\n",
       "      <td>5.154598</td>\n",
       "      <td>-1.305696</td>\n",
       "      <td>5.871023</td>\n",
       "      <td>6.201083</td>\n",
       "      <td>1736.181817</td>\n",
       "      <td>7.527188</td>\n",
       "    </tr>\n",
       "  </tbody>\n",
       "</table>\n",
       "</div>"
      ],
      "text/plain": [
       "             yearid  height  initspeed    breakx    breakz  initposx  \\\n",
       "pitcherid                                                              \n",
       "1          1.622498    76.0  83.908213 -4.267288  0.801821 -1.936875   \n",
       "2          1.459523    80.0  89.854474 -1.743194  4.147342 -2.257288   \n",
       "3          2.000000    77.0  86.912987  5.549091  6.668309  4.063426   \n",
       "4          1.371739    72.0  90.128965 -2.700970  5.894434 -2.004139   \n",
       "5          1.537172    72.0  86.772190 -3.491820  5.154598 -1.305696   \n",
       "\n",
       "           initposz  extension     spinrate      type  \n",
       "pitcherid                                              \n",
       "1          6.352940   6.189233  2203.901527  6.180172  \n",
       "2          5.815367   6.200563  2235.687376  7.100608  \n",
       "3          6.511092   6.176105  2070.742681  8.500000  \n",
       "4          5.860586   6.197486  2310.786782  7.722283  \n",
       "5          5.871023   6.201083  1736.181817  7.527188  "
      ]
     },
     "execution_count": 21,
     "metadata": {},
     "output_type": "execute_result"
    }
   ],
   "source": [
    "means = by_pitcher.mean()\n",
    "means.head()"
   ]
  },
  {
   "cell_type": "markdown",
   "id": "0ff82a13",
   "metadata": {},
   "source": [
    "Since negative in this dataset represents towards the 3rd base side of the rubber, it can be gathered that since pitcher 3's `initposx` is positive, then he is a righty. \n",
    "## MAYBE ADJUST"
   ]
  },
  {
   "cell_type": "markdown",
   "id": "22916d60",
   "metadata": {},
   "source": [
    "Because of differing body measures and subsequent motion differences, a new model is to be trained for each pitcher. This is a valid approach due to the fact that the identities are the same in both datasets (i.e. pitcher 3 - train is pitcher 3 - test)."
   ]
  },
  {
   "cell_type": "markdown",
   "id": "b6507af2",
   "metadata": {},
   "source": [
    "Next, grouping by both of the previous two features yields statistics regarding each pitch type for each pitcher. "
   ]
  },
  {
   "cell_type": "code",
   "execution_count": 41,
   "id": "082789d9",
   "metadata": {},
   "outputs": [
    {
     "data": {
      "text/html": [
       "<div>\n",
       "<style scoped>\n",
       "    .dataframe tbody tr th:only-of-type {\n",
       "        vertical-align: middle;\n",
       "    }\n",
       "\n",
       "    .dataframe tbody tr th {\n",
       "        vertical-align: top;\n",
       "    }\n",
       "\n",
       "    .dataframe thead th {\n",
       "        text-align: right;\n",
       "    }\n",
       "</style>\n",
       "<table border=\"1\" class=\"dataframe\">\n",
       "  <thead>\n",
       "    <tr style=\"text-align: right;\">\n",
       "      <th></th>\n",
       "      <th></th>\n",
       "      <th>yearid</th>\n",
       "      <th>height</th>\n",
       "      <th>initspeed</th>\n",
       "      <th>breakx</th>\n",
       "      <th>breakz</th>\n",
       "      <th>initposx</th>\n",
       "      <th>initposz</th>\n",
       "      <th>extension</th>\n",
       "      <th>spinrate</th>\n",
       "    </tr>\n",
       "    <tr>\n",
       "      <th>pitcherid</th>\n",
       "      <th>type</th>\n",
       "      <th></th>\n",
       "      <th></th>\n",
       "      <th></th>\n",
       "      <th></th>\n",
       "      <th></th>\n",
       "      <th></th>\n",
       "      <th></th>\n",
       "      <th></th>\n",
       "      <th></th>\n",
       "    </tr>\n",
       "  </thead>\n",
       "  <tbody>\n",
       "    <tr>\n",
       "      <th rowspan=\"4\" valign=\"top\">1</th>\n",
       "      <th>2</th>\n",
       "      <td>1.622568</td>\n",
       "      <td>76.0</td>\n",
       "      <td>77.184649</td>\n",
       "      <td>5.828949</td>\n",
       "      <td>-6.465751</td>\n",
       "      <td>-1.853722</td>\n",
       "      <td>6.397049</td>\n",
       "      <td>6.183043</td>\n",
       "      <td>2951.308056</td>\n",
       "    </tr>\n",
       "    <tr>\n",
       "      <th>4</th>\n",
       "      <td>1.623529</td>\n",
       "      <td>76.0</td>\n",
       "      <td>81.256485</td>\n",
       "      <td>-6.687739</td>\n",
       "      <td>0.901235</td>\n",
       "      <td>-1.837891</td>\n",
       "      <td>6.413236</td>\n",
       "      <td>6.198219</td>\n",
       "      <td>1432.335643</td>\n",
       "    </tr>\n",
       "    <tr>\n",
       "      <th>9</th>\n",
       "      <td>1.622328</td>\n",
       "      <td>76.0</td>\n",
       "      <td>88.111246</td>\n",
       "      <td>-8.489336</td>\n",
       "      <td>3.433453</td>\n",
       "      <td>-2.061642</td>\n",
       "      <td>6.275065</td>\n",
       "      <td>6.186283</td>\n",
       "      <td>2206.983258</td>\n",
       "    </tr>\n",
       "    <tr>\n",
       "      <th>10</th>\n",
       "      <td>1.620690</td>\n",
       "      <td>76.0</td>\n",
       "      <td>89.379503</td>\n",
       "      <td>-5.991735</td>\n",
       "      <td>7.133704</td>\n",
       "      <td>-1.885880</td>\n",
       "      <td>6.405298</td>\n",
       "      <td>6.193901</td>\n",
       "      <td>2232.939575</td>\n",
       "    </tr>\n",
       "    <tr>\n",
       "      <th rowspan=\"4\" valign=\"top\">2</th>\n",
       "      <th>2</th>\n",
       "      <td>1.459406</td>\n",
       "      <td>80.0</td>\n",
       "      <td>79.725846</td>\n",
       "      <td>5.550297</td>\n",
       "      <td>-6.765411</td>\n",
       "      <td>-2.183653</td>\n",
       "      <td>5.860359</td>\n",
       "      <td>6.199286</td>\n",
       "      <td>2574.144562</td>\n",
       "    </tr>\n",
       "    <tr>\n",
       "      <th>4</th>\n",
       "      <td>1.459144</td>\n",
       "      <td>80.0</td>\n",
       "      <td>87.640018</td>\n",
       "      <td>-5.492145</td>\n",
       "      <td>3.155552</td>\n",
       "      <td>-2.352389</td>\n",
       "      <td>5.743424</td>\n",
       "      <td>6.185267</td>\n",
       "      <td>1619.409759</td>\n",
       "    </tr>\n",
       "    <tr>\n",
       "      <th>9</th>\n",
       "      <td>1.459283</td>\n",
       "      <td>80.0</td>\n",
       "      <td>93.986534</td>\n",
       "      <td>-6.268013</td>\n",
       "      <td>7.541033</td>\n",
       "      <td>-2.264713</td>\n",
       "      <td>5.758445</td>\n",
       "      <td>6.213583</td>\n",
       "      <td>2208.271079</td>\n",
       "    </tr>\n",
       "    <tr>\n",
       "      <th>10</th>\n",
       "      <td>1.459921</td>\n",
       "      <td>80.0</td>\n",
       "      <td>93.989805</td>\n",
       "      <td>-1.666313</td>\n",
       "      <td>8.985849</td>\n",
       "      <td>-2.268045</td>\n",
       "      <td>5.855733</td>\n",
       "      <td>6.196070</td>\n",
       "      <td>2241.332678</td>\n",
       "    </tr>\n",
       "    <tr>\n",
       "      <th rowspan=\"3\" valign=\"top\">3</th>\n",
       "      <th>3</th>\n",
       "      <td>2.000000</td>\n",
       "      <td>77.0</td>\n",
       "      <td>84.724239</td>\n",
       "      <td>-0.095325</td>\n",
       "      <td>4.387893</td>\n",
       "      <td>3.885417</td>\n",
       "      <td>6.661987</td>\n",
       "      <td>6.212182</td>\n",
       "      <td>2044.592208</td>\n",
       "    </tr>\n",
       "    <tr>\n",
       "      <th>9</th>\n",
       "      <td>2.000000</td>\n",
       "      <td>77.0</td>\n",
       "      <td>86.872509</td>\n",
       "      <td>9.506199</td>\n",
       "      <td>4.935019</td>\n",
       "      <td>4.144652</td>\n",
       "      <td>6.437153</td>\n",
       "      <td>6.217752</td>\n",
       "      <td>2041.950585</td>\n",
       "    </tr>\n",
       "    <tr>\n",
       "      <th>10</th>\n",
       "      <td>2.000000</td>\n",
       "      <td>77.0</td>\n",
       "      <td>87.669556</td>\n",
       "      <td>4.792491</td>\n",
       "      <td>8.583975</td>\n",
       "      <td>4.068610</td>\n",
       "      <td>6.510086</td>\n",
       "      <td>6.136314</td>\n",
       "      <td>2098.654237</td>\n",
       "    </tr>\n",
       "    <tr>\n",
       "      <th rowspan=\"5\" valign=\"top\">4</th>\n",
       "      <th>2</th>\n",
       "      <td>1.372294</td>\n",
       "      <td>72.0</td>\n",
       "      <td>81.272190</td>\n",
       "      <td>4.391457</td>\n",
       "      <td>-2.727062</td>\n",
       "      <td>-1.920160</td>\n",
       "      <td>5.849473</td>\n",
       "      <td>6.195923</td>\n",
       "      <td>2624.055775</td>\n",
       "    </tr>\n",
       "    <tr>\n",
       "      <th>4</th>\n",
       "      <td>1.369792</td>\n",
       "      <td>72.0</td>\n",
       "      <td>87.024961</td>\n",
       "      <td>-7.692077</td>\n",
       "      <td>3.305207</td>\n",
       "      <td>-2.150858</td>\n",
       "      <td>5.694001</td>\n",
       "      <td>6.183192</td>\n",
       "      <td>1430.256863</td>\n",
       "    </tr>\n",
       "    <tr>\n",
       "      <th>8</th>\n",
       "      <td>1.371622</td>\n",
       "      <td>72.0</td>\n",
       "      <td>88.949812</td>\n",
       "      <td>1.945656</td>\n",
       "      <td>4.423136</td>\n",
       "      <td>-1.989772</td>\n",
       "      <td>5.845591</td>\n",
       "      <td>6.210327</td>\n",
       "      <td>2490.009249</td>\n",
       "    </tr>\n",
       "    <tr>\n",
       "      <th>9</th>\n",
       "      <td>1.372937</td>\n",
       "      <td>72.0</td>\n",
       "      <td>93.421712</td>\n",
       "      <td>-7.346243</td>\n",
       "      <td>7.695445</td>\n",
       "      <td>-2.076269</td>\n",
       "      <td>5.859633</td>\n",
       "      <td>6.191877</td>\n",
       "      <td>2309.789277</td>\n",
       "    </tr>\n",
       "    <tr>\n",
       "      <th>10</th>\n",
       "      <td>1.371642</td>\n",
       "      <td>72.0</td>\n",
       "      <td>93.364377</td>\n",
       "      <td>-4.694467</td>\n",
       "      <td>9.769430</td>\n",
       "      <td>-1.967950</td>\n",
       "      <td>5.922524</td>\n",
       "      <td>6.196149</td>\n",
       "      <td>2336.792865</td>\n",
       "    </tr>\n",
       "    <tr>\n",
       "      <th rowspan=\"7\" valign=\"top\">5</th>\n",
       "      <th>2</th>\n",
       "      <td>1.536735</td>\n",
       "      <td>72.0</td>\n",
       "      <td>72.034438</td>\n",
       "      <td>3.956681</td>\n",
       "      <td>-9.054074</td>\n",
       "      <td>-1.235375</td>\n",
       "      <td>5.861058</td>\n",
       "      <td>6.189578</td>\n",
       "      <td>2167.256966</td>\n",
       "    </tr>\n",
       "    <tr>\n",
       "      <th>3</th>\n",
       "      <td>1.536946</td>\n",
       "      <td>72.0</td>\n",
       "      <td>82.437137</td>\n",
       "      <td>1.070132</td>\n",
       "      <td>-0.076762</td>\n",
       "      <td>-1.434931</td>\n",
       "      <td>5.745504</td>\n",
       "      <td>6.207090</td>\n",
       "      <td>1865.415525</td>\n",
       "    </tr>\n",
       "    <tr>\n",
       "      <th>4</th>\n",
       "      <td>1.536741</td>\n",
       "      <td>72.0</td>\n",
       "      <td>82.315553</td>\n",
       "      <td>-4.573954</td>\n",
       "      <td>4.659737</td>\n",
       "      <td>-1.331371</td>\n",
       "      <td>5.807242</td>\n",
       "      <td>6.203401</td>\n",
       "      <td>1211.610398</td>\n",
       "    </tr>\n",
       "    <tr>\n",
       "      <th>7</th>\n",
       "      <td>1.537181</td>\n",
       "      <td>72.0</td>\n",
       "      <td>84.628220</td>\n",
       "      <td>-2.907276</td>\n",
       "      <td>2.479132</td>\n",
       "      <td>-1.022949</td>\n",
       "      <td>5.992991</td>\n",
       "      <td>6.205710</td>\n",
       "      <td>988.921064</td>\n",
       "    </tr>\n",
       "    <tr>\n",
       "      <th>8</th>\n",
       "      <td>1.539130</td>\n",
       "      <td>72.0</td>\n",
       "      <td>88.812978</td>\n",
       "      <td>-0.142941</td>\n",
       "      <td>5.267946</td>\n",
       "      <td>-1.476262</td>\n",
       "      <td>5.751021</td>\n",
       "      <td>6.195072</td>\n",
       "      <td>2068.382531</td>\n",
       "    </tr>\n",
       "    <tr>\n",
       "      <th>9</th>\n",
       "      <td>1.537267</td>\n",
       "      <td>72.0</td>\n",
       "      <td>90.447346</td>\n",
       "      <td>-7.095955</td>\n",
       "      <td>7.429345</td>\n",
       "      <td>-1.568249</td>\n",
       "      <td>5.781823</td>\n",
       "      <td>6.208067</td>\n",
       "      <td>1927.527936</td>\n",
       "    </tr>\n",
       "    <tr>\n",
       "      <th>10</th>\n",
       "      <td>1.537121</td>\n",
       "      <td>72.0</td>\n",
       "      <td>90.927583</td>\n",
       "      <td>-3.099751</td>\n",
       "      <td>9.709911</td>\n",
       "      <td>-1.166873</td>\n",
       "      <td>5.955988</td>\n",
       "      <td>6.193942</td>\n",
       "      <td>1981.326404</td>\n",
       "    </tr>\n",
       "  </tbody>\n",
       "</table>\n",
       "</div>"
      ],
      "text/plain": [
       "                  yearid  height  initspeed    breakx    breakz  initposx  \\\n",
       "pitcherid type                                                              \n",
       "1         2     1.622568    76.0  77.184649  5.828949 -6.465751 -1.853722   \n",
       "          4     1.623529    76.0  81.256485 -6.687739  0.901235 -1.837891   \n",
       "          9     1.622328    76.0  88.111246 -8.489336  3.433453 -2.061642   \n",
       "          10    1.620690    76.0  89.379503 -5.991735  7.133704 -1.885880   \n",
       "2         2     1.459406    80.0  79.725846  5.550297 -6.765411 -2.183653   \n",
       "          4     1.459144    80.0  87.640018 -5.492145  3.155552 -2.352389   \n",
       "          9     1.459283    80.0  93.986534 -6.268013  7.541033 -2.264713   \n",
       "          10    1.459921    80.0  93.989805 -1.666313  8.985849 -2.268045   \n",
       "3         3     2.000000    77.0  84.724239 -0.095325  4.387893  3.885417   \n",
       "          9     2.000000    77.0  86.872509  9.506199  4.935019  4.144652   \n",
       "          10    2.000000    77.0  87.669556  4.792491  8.583975  4.068610   \n",
       "4         2     1.372294    72.0  81.272190  4.391457 -2.727062 -1.920160   \n",
       "          4     1.369792    72.0  87.024961 -7.692077  3.305207 -2.150858   \n",
       "          8     1.371622    72.0  88.949812  1.945656  4.423136 -1.989772   \n",
       "          9     1.372937    72.0  93.421712 -7.346243  7.695445 -2.076269   \n",
       "          10    1.371642    72.0  93.364377 -4.694467  9.769430 -1.967950   \n",
       "5         2     1.536735    72.0  72.034438  3.956681 -9.054074 -1.235375   \n",
       "          3     1.536946    72.0  82.437137  1.070132 -0.076762 -1.434931   \n",
       "          4     1.536741    72.0  82.315553 -4.573954  4.659737 -1.331371   \n",
       "          7     1.537181    72.0  84.628220 -2.907276  2.479132 -1.022949   \n",
       "          8     1.539130    72.0  88.812978 -0.142941  5.267946 -1.476262   \n",
       "          9     1.537267    72.0  90.447346 -7.095955  7.429345 -1.568249   \n",
       "          10    1.537121    72.0  90.927583 -3.099751  9.709911 -1.166873   \n",
       "\n",
       "                initposz  extension     spinrate  \n",
       "pitcherid type                                    \n",
       "1         2     6.397049   6.183043  2951.308056  \n",
       "          4     6.413236   6.198219  1432.335643  \n",
       "          9     6.275065   6.186283  2206.983258  \n",
       "          10    6.405298   6.193901  2232.939575  \n",
       "2         2     5.860359   6.199286  2574.144562  \n",
       "          4     5.743424   6.185267  1619.409759  \n",
       "          9     5.758445   6.213583  2208.271079  \n",
       "          10    5.855733   6.196070  2241.332678  \n",
       "3         3     6.661987   6.212182  2044.592208  \n",
       "          9     6.437153   6.217752  2041.950585  \n",
       "          10    6.510086   6.136314  2098.654237  \n",
       "4         2     5.849473   6.195923  2624.055775  \n",
       "          4     5.694001   6.183192  1430.256863  \n",
       "          8     5.845591   6.210327  2490.009249  \n",
       "          9     5.859633   6.191877  2309.789277  \n",
       "          10    5.922524   6.196149  2336.792865  \n",
       "5         2     5.861058   6.189578  2167.256966  \n",
       "          3     5.745504   6.207090  1865.415525  \n",
       "          4     5.807242   6.203401  1211.610398  \n",
       "          7     5.992991   6.205710   988.921064  \n",
       "          8     5.751021   6.195072  2068.382531  \n",
       "          9     5.781823   6.208067  1927.527936  \n",
       "          10    5.955988   6.193942  1981.326404  "
      ]
     },
     "execution_count": 41,
     "metadata": {},
     "output_type": "execute_result"
    }
   ],
   "source": [
    "grouped_by_pitcher_and_pitchtype = train.groupby(['pitcherid','type']).mean()\n",
    "grouped_by_pitcher_and_pitchtype"
   ]
  },
  {
   "cell_type": "markdown",
   "id": "320daf0c",
   "metadata": {},
   "source": [
    "These figures illustrate the need for separate models. Even though they are categorized as the same pitch, there are signficant differences in pitch movement and spin. For example, the most prominent pitch type, pitch 2, has an incredible variation. "
   ]
  },
  {
   "cell_type": "code",
   "execution_count": 51,
   "id": "7a3229ef",
   "metadata": {},
   "outputs": [
    {
     "data": {
      "text/plain": [
       "([-5.991734562812582,\n",
       "  -1.6663130159217823,\n",
       "  -4.694467118497985,\n",
       "  -3.0997505467154767],\n",
       " [2951.3080564836064, 2574.1445619914866, 2624.05577522409, 2167.256965994582])"
      ]
     },
     "execution_count": 51,
     "metadata": {},
     "output_type": "execute_result"
    }
   ],
   "source": [
    "pitch_ten_breakx = []\n",
    "pitch_two_spinrate = []\n",
    "pitch_nine_\n",
    "for i in range(1,6):\n",
    "    try:\n",
    "        pitch_two_spinrate.append(grouped_by_pitcher_and_pitchtype.loc[(i,2),'spinrate'])\n",
    "        pitch_ten_breakx.append(grouped_by_pitcher_and_pitchtype.loc[(i,10),'breakx'])\n",
    "    # passes when pitch type is not found    \n",
    "    except KeyError as e: \n",
    "        pass"
   ]
  },
  {
   "cell_type": "code",
   "execution_count": 54,
   "id": "a6184dbc",
   "metadata": {},
   "outputs": [
    {
     "data": {
      "text/plain": [
       "[<matplotlib.lines.Line2D at 0x7f7c0d211bb0>]"
      ]
     },
     "execution_count": 54,
     "metadata": {},
     "output_type": "execute_result"
    },
    {
     "data": {
      "image/png": "[encoded data removed]",
      "text/plain": [
       "<Figure size 432x288 with 2 Axes>"
      ]
     },
     "metadata": {
      "needs_background": "light"
     },
     "output_type": "display_data"
    }
   ],
   "source": [
    "\n",
    "plt.subplot(1, 2, 1)\n",
    "plt.plot(pitch_ten_breakx)\n",
    "\n",
    "plt.subplot(1, 2, 2)\n",
    "plt.plot(pitch_two_spinrate)"
   ]
  },
  {
   "cell_type": "markdown",
   "id": "434d36d9",
   "metadata": {},
   "source": [
    "### Preventing Multicolinearity\n",
    "\n",
    "In classification or regression problems, it is important to prevent colinearity.\n",
    "\n",
    "Colinearity can be seen as the propensity to which two independent, predictor variables have a linear relationship each other. When this occurs, it is impossible to measure what is affecting the dependent variable, and leads to an increased p-value for each coefficient. This signifies decreased statistical significance of the findings.\n",
    "\n",
    "There are many ways to allieviate this, but perhaps the most simple, is to drop one of a colinear pair of variables. This should be done carefully and key features should be preserved. To judge for colinearity, a view of the correlation pairs of each feature are displayed below."
   ]
  },
  {
   "cell_type": "code",
   "execution_count": 62,
   "id": "039845d7",
   "metadata": {},
   "outputs": [
    {
     "data": {
      "text/html": [
       "<div>\n",
       "<style scoped>\n",
       "    .dataframe tbody tr th:only-of-type {\n",
       "        vertical-align: middle;\n",
       "    }\n",
       "\n",
       "    .dataframe tbody tr th {\n",
       "        vertical-align: top;\n",
       "    }\n",
       "\n",
       "    .dataframe thead tr th {\n",
       "        text-align: left;\n",
       "    }\n",
       "\n",
       "    .dataframe thead tr:last-of-type th {\n",
       "        text-align: right;\n",
       "    }\n",
       "</style>\n",
       "<table border=\"1\" class=\"dataframe\">\n",
       "  <thead>\n",
       "    <tr>\n",
       "      <th></th>\n",
       "      <th colspan=\"8\" halign=\"left\">extension</th>\n",
       "      <th colspan=\"5\" halign=\"left\">initposx</th>\n",
       "      <th colspan=\"8\" halign=\"left\">initposz</th>\n",
       "    </tr>\n",
       "    <tr>\n",
       "      <th></th>\n",
       "      <th>count</th>\n",
       "      <th>mean</th>\n",
       "      <th>std</th>\n",
       "      <th>min</th>\n",
       "      <th>25%</th>\n",
       "      <th>50%</th>\n",
       "      <th>75%</th>\n",
       "      <th>max</th>\n",
       "      <th>count</th>\n",
       "      <th>mean</th>\n",
       "      <th>...</th>\n",
       "      <th>75%</th>\n",
       "      <th>max</th>\n",
       "      <th>count</th>\n",
       "      <th>mean</th>\n",
       "      <th>std</th>\n",
       "      <th>min</th>\n",
       "      <th>25%</th>\n",
       "      <th>50%</th>\n",
       "      <th>75%</th>\n",
       "      <th>max</th>\n",
       "    </tr>\n",
       "    <tr>\n",
       "      <th>pitcherid</th>\n",
       "      <th></th>\n",
       "      <th></th>\n",
       "      <th></th>\n",
       "      <th></th>\n",
       "      <th></th>\n",
       "      <th></th>\n",
       "      <th></th>\n",
       "      <th></th>\n",
       "      <th></th>\n",
       "      <th></th>\n",
       "      <th></th>\n",
       "      <th></th>\n",
       "      <th></th>\n",
       "      <th></th>\n",
       "      <th></th>\n",
       "      <th></th>\n",
       "      <th></th>\n",
       "      <th></th>\n",
       "      <th></th>\n",
       "      <th></th>\n",
       "      <th></th>\n",
       "    </tr>\n",
       "  </thead>\n",
       "  <tbody>\n",
       "    <tr>\n",
       "      <th>1</th>\n",
       "      <td>1049.0</td>\n",
       "      <td>6.189233</td>\n",
       "      <td>0.191519</td>\n",
       "      <td>5.674722</td>\n",
       "      <td>6.057653</td>\n",
       "      <td>6.180900</td>\n",
       "      <td>6.313093</td>\n",
       "      <td>6.886168</td>\n",
       "      <td>1049.0</td>\n",
       "      <td>-1.936875</td>\n",
       "      <td>...</td>\n",
       "      <td>-1.749082</td>\n",
       "      <td>-0.922873</td>\n",
       "      <td>1049.0</td>\n",
       "      <td>6.352940</td>\n",
       "      <td>0.218995</td>\n",
       "      <td>5.673786</td>\n",
       "      <td>6.209073</td>\n",
       "      <td>6.365353</td>\n",
       "      <td>6.508013</td>\n",
       "      <td>7.088296</td>\n",
       "    </tr>\n",
       "    <tr>\n",
       "      <th>2</th>\n",
       "      <td>2137.0</td>\n",
       "      <td>6.200563</td>\n",
       "      <td>0.196713</td>\n",
       "      <td>5.525090</td>\n",
       "      <td>6.069494</td>\n",
       "      <td>6.200773</td>\n",
       "      <td>6.325778</td>\n",
       "      <td>6.776207</td>\n",
       "      <td>2137.0</td>\n",
       "      <td>-2.257288</td>\n",
       "      <td>...</td>\n",
       "      <td>-2.080691</td>\n",
       "      <td>-1.342420</td>\n",
       "      <td>2137.0</td>\n",
       "      <td>5.815367</td>\n",
       "      <td>0.174825</td>\n",
       "      <td>5.236556</td>\n",
       "      <td>5.699661</td>\n",
       "      <td>5.808436</td>\n",
       "      <td>5.926658</td>\n",
       "      <td>6.547457</td>\n",
       "    </tr>\n",
       "    <tr>\n",
       "      <th>3</th>\n",
       "      <td>12.0</td>\n",
       "      <td>6.176105</td>\n",
       "      <td>0.132579</td>\n",
       "      <td>5.924550</td>\n",
       "      <td>6.097721</td>\n",
       "      <td>6.174387</td>\n",
       "      <td>6.293794</td>\n",
       "      <td>6.351746</td>\n",
       "      <td>12.0</td>\n",
       "      <td>4.063426</td>\n",
       "      <td>...</td>\n",
       "      <td>4.243134</td>\n",
       "      <td>4.338072</td>\n",
       "      <td>12.0</td>\n",
       "      <td>6.511092</td>\n",
       "      <td>0.106613</td>\n",
       "      <td>6.359289</td>\n",
       "      <td>6.431858</td>\n",
       "      <td>6.521997</td>\n",
       "      <td>6.570244</td>\n",
       "      <td>6.664538</td>\n",
       "    </tr>\n",
       "    <tr>\n",
       "      <th>4</th>\n",
       "      <td>1840.0</td>\n",
       "      <td>6.197486</td>\n",
       "      <td>0.204000</td>\n",
       "      <td>5.553461</td>\n",
       "      <td>6.058946</td>\n",
       "      <td>6.205988</td>\n",
       "      <td>6.339575</td>\n",
       "      <td>6.791410</td>\n",
       "      <td>1840.0</td>\n",
       "      <td>-2.004139</td>\n",
       "      <td>...</td>\n",
       "      <td>-1.895564</td>\n",
       "      <td>-1.435537</td>\n",
       "      <td>1840.0</td>\n",
       "      <td>5.860586</td>\n",
       "      <td>0.127999</td>\n",
       "      <td>5.466786</td>\n",
       "      <td>5.771058</td>\n",
       "      <td>5.858074</td>\n",
       "      <td>5.946081</td>\n",
       "      <td>6.331294</td>\n",
       "    </tr>\n",
       "    <tr>\n",
       "      <th>5</th>\n",
       "      <td>5609.0</td>\n",
       "      <td>6.201083</td>\n",
       "      <td>0.201359</td>\n",
       "      <td>5.434963</td>\n",
       "      <td>6.063557</td>\n",
       "      <td>6.201206</td>\n",
       "      <td>6.334505</td>\n",
       "      <td>6.877522</td>\n",
       "      <td>5609.0</td>\n",
       "      <td>-1.305696</td>\n",
       "      <td>...</td>\n",
       "      <td>-1.081380</td>\n",
       "      <td>-0.342693</td>\n",
       "      <td>5609.0</td>\n",
       "      <td>5.871023</td>\n",
       "      <td>0.149922</td>\n",
       "      <td>5.358027</td>\n",
       "      <td>5.774172</td>\n",
       "      <td>5.885605</td>\n",
       "      <td>5.976429</td>\n",
       "      <td>6.353294</td>\n",
       "    </tr>\n",
       "  </tbody>\n",
       "</table>\n",
       "<p>5 rows × 24 columns</p>\n",
       "</div>"
      ],
      "text/plain": [
       "          extension                                                    \\\n",
       "              count      mean       std       min       25%       50%   \n",
       "pitcherid                                                               \n",
       "1            1049.0  6.189233  0.191519  5.674722  6.057653  6.180900   \n",
       "2            2137.0  6.200563  0.196713  5.525090  6.069494  6.200773   \n",
       "3              12.0  6.176105  0.132579  5.924550  6.097721  6.174387   \n",
       "4            1840.0  6.197486  0.204000  5.553461  6.058946  6.205988   \n",
       "5            5609.0  6.201083  0.201359  5.434963  6.063557  6.201206   \n",
       "\n",
       "                              initposx            ...                      \\\n",
       "                75%       max    count      mean  ...       75%       max   \n",
       "pitcherid                                         ...                       \n",
       "1          6.313093  6.886168   1049.0 -1.936875  ... -1.749082 -0.922873   \n",
       "2          6.325778  6.776207   2137.0 -2.257288  ... -2.080691 -1.342420   \n",
       "3          6.293794  6.351746     12.0  4.063426  ...  4.243134  4.338072   \n",
       "4          6.339575  6.791410   1840.0 -2.004139  ... -1.895564 -1.435537   \n",
       "5          6.334505  6.877522   5609.0 -1.305696  ... -1.081380 -0.342693   \n",
       "\n",
       "          initposz                                                    \\\n",
       "             count      mean       std       min       25%       50%   \n",
       "pitcherid                                                              \n",
       "1           1049.0  6.352940  0.218995  5.673786  6.209073  6.365353   \n",
       "2           2137.0  5.815367  0.174825  5.236556  5.699661  5.808436   \n",
       "3             12.0  6.511092  0.106613  6.359289  6.431858  6.521997   \n",
       "4           1840.0  5.860586  0.127999  5.466786  5.771058  5.858074   \n",
       "5           5609.0  5.871023  0.149922  5.358027  5.774172  5.885605   \n",
       "\n",
       "                               \n",
       "                75%       max  \n",
       "pitcherid                      \n",
       "1          6.508013  7.088296  \n",
       "2          5.926658  6.547457  \n",
       "3          6.570244  6.664538  \n",
       "4          5.946081  6.331294  \n",
       "5          5.976429  6.353294  \n",
       "\n",
       "[5 rows x 24 columns]"
      ]
     },
     "execution_count": 62,
     "metadata": {},
     "output_type": "execute_result"
    }
   ],
   "source": [
    "by_pitcher[['extension','initposx','initposz']].describe()"
   ]
  },
  {
   "cell_type": "markdown",
   "id": "f2cfa7ad",
   "metadata": {},
   "source": [
    "Moreover, these measurables are ultimately irrelevant to the pitch type. "
   ]
  },
  {
   "cell_type": "code",
   "execution_count": null,
   "id": "04e8f08f",
   "metadata": {},
   "outputs": [],
   "source": []
  },
  {
   "cell_type": "code",
   "execution_count": null,
   "id": "306b2bbc",
   "metadata": {},
   "outputs": [],
   "source": []
  },
  {
   "cell_type": "code",
   "execution_count": null,
   "id": "b1886812",
   "metadata": {},
   "outputs": [],
   "source": []
  },
  {
   "cell_type": "code",
   "execution_count": null,
   "id": "d876ea70",
   "metadata": {},
   "outputs": [],
   "source": []
  },
  {
   "cell_type": "code",
   "execution_count": null,
   "id": "5902e46f",
   "metadata": {},
   "outputs": [],
   "source": []
  },
  {
   "cell_type": "markdown",
   "id": "b2b8eecc",
   "metadata": {},
   "source": [
    "### Preventing Multicolinearity\n",
    "\n",
    "In classification or regression problems, it is important to prevent colinearity.\n",
    "\n",
    "Colinearity can be seen as the propensity to which two independent, predictor variables have a linear relationship each other. When this occurs, it is impossible to measure what is affecting the dependent variable, and leads to an increased p-value for each coefficient. This signifies decreased statistical significance of the findings.\n",
    "\n",
    "There are many ways to allieviate this, but perhaps the most simple, is to drop one of a colinear pair of variables. This should be done carefully and key features should be preserved. To judge for colinearity, a view of the correlation pairs of each feature are displayed below."
   ]
  },
  {
   "cell_type": "code",
   "execution_count": 24,
   "id": "3824a28e",
   "metadata": {},
   "outputs": [
    {
     "name": "stderr",
     "output_type": "stream",
     "text": [
      "/Users/Daniel/opt/anaconda3/lib/python3.9/site-packages/scipy/__init__.py:146: UserWarning: A NumPy version >=1.16.5 and <1.23.0 is required for this version of SciPy (detected version 1.23.5\n",
      "  warnings.warn(f\"A NumPy version >={np_minversion} and <{np_maxversion}\"\n"
     ]
    },
    {
     "data": {
      "image/png": "[encoded data removed]",
      "text/plain": [
       "<Figure size 504x504 with 2 Axes>"
      ]
     },
     "metadata": {
      "needs_background": "light"
     },
     "output_type": "display_data"
    }
   ],
   "source": [
    "import seaborn as sns\n",
    "import matplotlib.pyplot as plt\n",
    "\n",
    "corr = train.corr()\n",
    "plt.figure(figsize = (7,7))\n",
    "sns.heatmap(corr.round(2), vmax = 1, vmin = -1, center = 0, annot =True, cmap = 'coolwarm')\n",
    "plt.show()"
   ]
  },
  {
   "cell_type": "code",
   "execution_count": null,
   "id": "c227e3b9",
   "metadata": {},
   "outputs": [],
   "source": []
  },
  {
   "cell_type": "code",
   "execution_count": null,
   "id": "56ffa530",
   "metadata": {},
   "outputs": [],
   "source": []
  },
  {
   "cell_type": "code",
   "execution_count": 25,
   "id": "7eca5ca7",
   "metadata": {},
   "outputs": [],
   "source": [
    "# 1\n",
    "\n",
    "# means = train.groupby('type').mean()\n",
    "\n",
    "# 2\n",
    "\n",
    "# means\n",
    "\n",
    "# \tpitcherid \tyearid \theight \tinitspeed \tbreakx \tbreakz \tinitposx \tinitposz \textension \tspinrate\n",
    "# type \t\t\t\t\t\t\t\t\t\t\n",
    "# 2 \t3.129467 \t1.499663 \t75.417397 \t76.985002 \t4.891531 \t-6.840646 \t-1.772112 \t5.951901 \t6.192740 \t2512.840170\n",
    "# 3 \t4.980488 \t1.541463 \t72.048780 \t82.459450 \t1.058762 \t-0.033204 \t-1.383025 \t5.754445 \t6.207139 \t1867.163590\n",
    "# 4 \t3.509023 \t1.514286 \t74.312782 \t83.821216 \t-5.606788 \t3.452922 \t-1.744082 \t5.894749 \t6.195986 \t1364.294229\n",
    "# 7 \t5.000000 \t1.537181 \t72.000000 \t84.628220 \t-2.907276 \t2.479132 \t-1.022949 \t5.992991 \t6.205710 \t988.921064\n",
    "# 8 \t4.341246 \t1.428783 \t72.000000 \t88.903118 \t1.232930 \t4.711424 \t-1.814539 \t5.813319 \t6.205121 \t2346.130695\n",
    "# 9 \t3.700203 \t1.516938 \t74.241192 \t91.150766 \t-7.125659 \t6.906634 \t-1.827878 \t5.856179 \t6.204459 \t2065.166776\n",
    "# 10 \t3.894584 \t1.486460 \t74.121857 \t92.140954 \t-3.185415 \t9.446620 \t-1.626804 \t5.942039 \t6.194828 \t2131.525759\n",
    "\n",
    "# There is one key clarification: the breakx and initposx are from the batter's point of view or \"where negative is inside to a right-handed hitter\" and, more intiuitively, breakz and initposz is \"where negative is closer to the ground\". The following image displays this, as well as common pitch movements.\n",
    "\n",
    "# Will+Klein+Rapsodo+Movement.png"
   ]
  },
  {
   "cell_type": "markdown",
   "id": "e971d801",
   "metadata": {},
   "source": [
    "Finally, the most interpretable of these checks is to find the number of unique values that each column takes on..."
   ]
  },
  {
   "cell_type": "code",
   "execution_count": 26,
   "id": "eaa8b8b0",
   "metadata": {},
   "outputs": [
    {
     "data": {
      "text/plain": [
       "(pitcherid        5\n",
       " yearid           2\n",
       " height           4\n",
       " initspeed    10647\n",
       " breakx       10647\n",
       " breakz       10647\n",
       " initposx     10647\n",
       " initposz     10647\n",
       " extension    10647\n",
       " spinrate     10647\n",
       " type             7\n",
       " dtype: int64,\n",
       " pitcherid        6\n",
       " yearid           1\n",
       " height           5\n",
       " initspeed    12354\n",
       " breakx       12354\n",
       " breakz       12354\n",
       " initposx     12354\n",
       " initposz     12354\n",
       " extension    12354\n",
       " spinrate     12354\n",
       " dtype: int64)"
      ]
     },
     "execution_count": 26,
     "metadata": {},
     "output_type": "execute_result"
    }
   ],
   "source": [
    "train.nunique(),test.nunique()"
   ]
  },
  {
   "cell_type": "markdown",
   "id": "968ce57a",
   "metadata": {},
   "source": [
    "From this, it can be concluded that: \n",
    "- there are pitches from 4 pitchers included in the train sample, yet 6 in the test data.\n",
    "- the training set has pitches from 2 years, while the test only has one additional year\n",
    "- each of the  pitches has unique measurements (should be expected due to 6 decimal point precision) for both the training and test sets.\n",
    "- there are 7 pitch types (since this is the dependent variable, this will be the label in this model)"
   ]
  },
  {
   "cell_type": "code",
   "execution_count": null,
   "id": "ebebfd9b",
   "metadata": {},
   "outputs": [],
   "source": []
  },
  {
   "cell_type": "code",
   "execution_count": null,
   "id": "2357051d",
   "metadata": {},
   "outputs": [],
   "source": []
  },
  {
   "cell_type": "code",
   "execution_count": null,
   "id": "5e32c67b",
   "metadata": {},
   "outputs": [],
   "source": []
  },
  {
   "cell_type": "code",
   "execution_count": null,
   "id": "a817a860",
   "metadata": {},
   "outputs": [],
   "source": []
  },
  {
   "cell_type": "code",
   "execution_count": null,
   "id": "8e00c7ea",
   "metadata": {},
   "outputs": [],
   "source": []
  },
  {
   "cell_type": "code",
   "execution_count": null,
   "id": "9df2db38",
   "metadata": {},
   "outputs": [],
   "source": []
  },
  {
   "cell_type": "code",
   "execution_count": null,
   "id": "14717d48",
   "metadata": {},
   "outputs": [],
   "source": []
  },
  {
   "cell_type": "markdown",
   "id": "125457a0",
   "metadata": {},
   "source": [
    "# Modeling"
   ]
  },
  {
   "cell_type": "markdown",
   "id": "0b1f87e4",
   "metadata": {},
   "source": [
    "Finally, modeling can begin. The data will be split into the feature vector X (for each feature x, $X = x_1, x_2,...x_n$) and the label vector, $y$."
   ]
  },
  {
   "cell_type": "code",
   "execution_count": 27,
   "id": "f56b8d10",
   "metadata": {},
   "outputs": [],
   "source": [
    "y = train['type']"
   ]
  },
  {
   "cell_type": "code",
   "execution_count": 28,
   "id": "66ad260c",
   "metadata": {},
   "outputs": [],
   "source": [
    "X = train.drop(['type'], axis=1, inplace=False)"
   ]
  },
  {
   "cell_type": "markdown",
   "id": "6bb2b2f4",
   "metadata": {},
   "source": [
    "Since this data is already split into training and testing sets, there is no need to split it again for that purpose. However, there is a benefit to doing this for another reason: the validation set. \n",
    "\n",
    "The validation set provides an evaluation of the models fit to the data, and allows for hyperparameter tuning before finalization. This is fundamentally analagous to the test set, but is a subset of the training set. It is of the utmost importance to prevent the model from 'seeing' the test set, until final model scoring. "
   ]
  },
  {
   "attachments": {
    "1%20Nv2NNALuokZEcV6hYEHdGA.png": {
     "image/png": "[encoded data removed]"
    }
   },
   "cell_type": "markdown",
   "id": "4486443f",
   "metadata": {},
   "source": [
    "![1%20Nv2NNALuokZEcV6hYEHdGA.png](attachment:1%20Nv2NNALuokZEcV6hYEHdGA.png)"
   ]
  },
  {
   "cell_type": "code",
   "execution_count": 29,
   "id": "d422761d",
   "metadata": {},
   "outputs": [
    {
     "name": "stdout",
     "output_type": "stream",
     "text": [
      "(8517, 10)\n",
      "(2130, 10)\n"
     ]
    }
   ],
   "source": [
    "from sklearn.model_selection import train_test_split\n",
    "\n",
    "X_train, X_val, y_train, y_val \\\n",
    "    = train_test_split(X, y, test_size=0.2, random_state=1) # random state for code reproducibility\n",
    "\n",
    "print(X_train.shape) # 10647*.8 = 8517 \n",
    "print(X_val.shape) # 10647*.2 = 2130"
   ]
  },
  {
   "cell_type": "markdown",
   "id": "7f3e6034",
   "metadata": {},
   "source": [
    "kNN or k-Nearest Neighbors is a non-linear model type \"for estimating the likelihood that a data point will become a member of one group or another based on what group the data points nearest to it belong to.\" [source](https://learn.g2.com/k-nearest-neighbor)\n",
    "\n",
    "This includes two types of models: kNN classifier or kNN regressor. The former categorizes a 'best guess' based on the a consensus of the k nearest points, while the latter predicts a continuous variable. For example, a kNN classifier might predict a pitch of being type 10, while a regressor might predict a score of 9.42 for the same pitch.\n",
    "\n",
    "In this case, a classifier is clearly the better choice due to the numerical, yet categorical label of `type`. \n",
    "\n",
    "One important preliminary step of kNN models is to scale the data. Because these models depend on Euclidean distance, scaling the data prevents that which has much larger scale (like spinrate ~2600 vs. break <10) from overinfluence the model predictions. In this case, a standard scalar and Min-Max Scalar are used.\n",
    "\n",
    "StandardScalar removes variance and reverts data to its z-score $$z = \\frac{x-\\mu}{\\sigma}$$ while a MinMaxScalar simply normalizes data to values preserving relative distance but in $[0,1]$ using the formula $$x' = \\frac{x - \\text{min}(x)}{\\text{max}(x)-\\text{min}(x)}$$\n"
   ]
  },
  {
   "cell_type": "markdown",
   "id": "79b1184e",
   "metadata": {},
   "source": [
    "Before fitting on the test set, hyperparameter tuning needs to be done. This is the process of iteratively testing different user-controlled variables of models such as: learning rate alpha in linear regression, max depth of a decision-tree, design and layers of a deep learning model, number of neighbors in kNN, etc.\n",
    "\n",
    "In this case, using a validation set for tuning has added benefits; the validation set is labelled as it is a subset of the training set. Therefore, an accuracy score can be determined. This cannot be done for the unlabelled test set."
   ]
  },
  {
   "cell_type": "code",
   "execution_count": 30,
   "id": "dba0379a",
   "metadata": {},
   "outputs": [
    {
     "name": "stdout",
     "output_type": "stream",
     "text": [
      "The highest performing \"number of neighbors\" for kNN pitch prediction when scaled using StandardScalar is 92.96% with number neighbors 10.\n",
      "The highest performing \"number of neighbors\" for kNN pitch prediction when scaled using MinMaxScalar is 93.29% with number neighbors 10.\n"
     ]
    }
   ],
   "source": [
    "from sklearn.neighbors import KNeighborsClassifier\n",
    "from sklearn.preprocessing import StandardScaler\n",
    "from sklearn.metrics import accuracy_score\n",
    "from sklearn.preprocessing import MinMaxScaler\n",
    "\n",
    "std_accuracies = []\n",
    "min_max_accuracies = []\n",
    "for i in range(5,50,5):\n",
    "    \n",
    "    X_train, X_val, y_train, y_val  = train_test_split(X, y, test_size=0.2, random_state=i) # different validation set split (cross validation)\n",
    "    \n",
    "    # s-scalar\n",
    "    scaler = StandardScaler()\n",
    "    scaler.fit(X_train) # fit scalar on training set...\n",
    "    X_train = scaler.transform(X_train) # and transform both...\n",
    "    X_val = scaler.transform(X_val)\n",
    "    knn = KNeighborsClassifier(n_neighbors=i) \n",
    "    \n",
    "\n",
    "    knn.fit(X_train,y_train)\n",
    "    test_predictions = knn.predict(X_val)\n",
    "    test_accuracy = accuracy_score(test_predictions, y_val)\n",
    "    std_accuracies.append(test_accuracy)\n",
    "    \n",
    "    \n",
    "    #mm-scalar\n",
    "    scaler = MinMaxScaler()\n",
    "    scaler.fit(X_train) # fit scalar on training set...\n",
    "    X_train = scaler.transform(X_train) # and transform both...\n",
    "    X_val = scaler.transform(X_val)\n",
    "    knn = KNeighborsClassifier(n_neighbors=i) \n",
    "    \n",
    "    knn.fit(X_train,y_train)\n",
    "    test_predictions = knn.predict(X_val)\n",
    "    test_accuracy = accuracy_score(test_predictions, y_val)\n",
    "    min_max_accuracies.append(test_accuracy)\n",
    "    \n",
    "print(f'The highest performing \"number of neighbors\" for kNN pitch prediction when scaled using StandardScalar is {max(std_accuracies):0.2%} with number neighbors {5+5*std_accuracies.index(max(std_accuracies))}.')\n",
    "print(f'The highest performing \"number of neighbors\" for kNN pitch prediction when scaled using MinMaxScalar is {max(min_max_accuracies):0.2%} with number neighbors {5+5*min_max_accuracies.index(max(min_max_accuracies))}.')"
   ]
  },
  {
   "cell_type": "code",
   "execution_count": 31,
   "id": "1a2a9760",
   "metadata": {},
   "outputs": [
    {
     "data": {
      "image/png": "[encoded data removed]",
      "text/plain": [
       "<Figure size 432x288 with 1 Axes>"
      ]
     },
     "metadata": {
      "needs_background": "light"
     },
     "output_type": "display_data"
    }
   ],
   "source": [
    "plt.plot(std_accuracies,label = 'Standard Scalar',color = 'navy') # yankee colors!\n",
    "plt.plot(min_max_accuracies,label = 'MinMax Scalar',color = 'grey') \n",
    "plt.title('Accuracy Metrics of kNN with Different `k` values')\n",
    "plt.xlabel('Value of `k`')\n",
    "plt.ylabel('Accuracy (%)')\n",
    "plt.xticks(ticks = range(0,9),labels = range(5,50,5))\n",
    "plt.legend()\n",
    "plt.show()"
   ]
  },
  {
   "cell_type": "markdown",
   "id": "3ea4d009",
   "metadata": {},
   "source": [
    "It is clear that the MinMax scalar prevails as the best scalar type to use for this model. Similarly performance has an inverse relationship with the value of `k`. Therefore, the model will be picked to the optimal $$scalar := MinMax$$  $$k = 5$$"
   ]
  },
  {
   "cell_type": "code",
   "execution_count": 32,
   "id": "e179fd8b",
   "metadata": {},
   "outputs": [],
   "source": [
    "from sklearn.pipeline import Pipeline\n",
    "\n",
    "# for predictions after hyperparameter selection, take original X is X_train, and original y is y_train\n",
    "X_train = X\n",
    "y_train = y\n",
    "X_test = test\n",
    "\n",
    "# pipeline is object that consolidates multiple steps of the ML process that require fitting and transforming\n",
    "pipe = Pipeline([('scaler', MinMaxScaler()), ('knn', KNeighborsClassifier(n_neighbors=5))])\n",
    "pipe.fit(X_train, y_train)\n",
    "predictions = pipe.predict(X_test)"
   ]
  },
  {
   "cell_type": "code",
   "execution_count": 33,
   "id": "58f40907",
   "metadata": {},
   "outputs": [],
   "source": [
    "# import numpy as np\n",
    "\n",
    "# predictions = np.array(predictions).T\n",
    "pitch_dict = {'pitchid':test.index, 'type_prediction': predictions}\n",
    "predicted_pitches = pd.DataFrame(pitch_dict)"
   ]
  },
  {
   "cell_type": "code",
   "execution_count": 34,
   "id": "40fdf01f",
   "metadata": {
    "scrolled": true
   },
   "outputs": [
    {
     "data": {
      "text/html": [
       "<div>\n",
       "<style scoped>\n",
       "    .dataframe tbody tr th:only-of-type {\n",
       "        vertical-align: middle;\n",
       "    }\n",
       "\n",
       "    .dataframe tbody tr th {\n",
       "        vertical-align: top;\n",
       "    }\n",
       "\n",
       "    .dataframe thead th {\n",
       "        text-align: right;\n",
       "    }\n",
       "</style>\n",
       "<table border=\"1\" class=\"dataframe\">\n",
       "  <thead>\n",
       "    <tr style=\"text-align: right;\">\n",
       "      <th></th>\n",
       "      <th>pitchid</th>\n",
       "      <th>type_prediction</th>\n",
       "    </tr>\n",
       "  </thead>\n",
       "  <tbody>\n",
       "    <tr>\n",
       "      <th>0</th>\n",
       "      <td>10648</td>\n",
       "      <td>10</td>\n",
       "    </tr>\n",
       "    <tr>\n",
       "      <th>1</th>\n",
       "      <td>10649</td>\n",
       "      <td>9</td>\n",
       "    </tr>\n",
       "    <tr>\n",
       "      <th>2</th>\n",
       "      <td>10650</td>\n",
       "      <td>9</td>\n",
       "    </tr>\n",
       "    <tr>\n",
       "      <th>3</th>\n",
       "      <td>10651</td>\n",
       "      <td>10</td>\n",
       "    </tr>\n",
       "    <tr>\n",
       "      <th>4</th>\n",
       "      <td>10652</td>\n",
       "      <td>9</td>\n",
       "    </tr>\n",
       "    <tr>\n",
       "      <th>...</th>\n",
       "      <td>...</td>\n",
       "      <td>...</td>\n",
       "    </tr>\n",
       "    <tr>\n",
       "      <th>12349</th>\n",
       "      <td>22997</td>\n",
       "      <td>2</td>\n",
       "    </tr>\n",
       "    <tr>\n",
       "      <th>12350</th>\n",
       "      <td>22998</td>\n",
       "      <td>4</td>\n",
       "    </tr>\n",
       "    <tr>\n",
       "      <th>12351</th>\n",
       "      <td>22999</td>\n",
       "      <td>10</td>\n",
       "    </tr>\n",
       "    <tr>\n",
       "      <th>12352</th>\n",
       "      <td>23000</td>\n",
       "      <td>7</td>\n",
       "    </tr>\n",
       "    <tr>\n",
       "      <th>12353</th>\n",
       "      <td>23001</td>\n",
       "      <td>9</td>\n",
       "    </tr>\n",
       "  </tbody>\n",
       "</table>\n",
       "<p>12354 rows × 2 columns</p>\n",
       "</div>"
      ],
      "text/plain": [
       "       pitchid  type_prediction\n",
       "0        10648               10\n",
       "1        10649                9\n",
       "2        10650                9\n",
       "3        10651               10\n",
       "4        10652                9\n",
       "...        ...              ...\n",
       "12349    22997                2\n",
       "12350    22998                4\n",
       "12351    22999               10\n",
       "12352    23000                7\n",
       "12353    23001                9\n",
       "\n",
       "[12354 rows x 2 columns]"
      ]
     },
     "execution_count": 34,
     "metadata": {},
     "output_type": "execute_result"
    }
   ],
   "source": [
    "predicted_pitches"
   ]
  },
  {
   "cell_type": "code",
   "execution_count": null,
   "id": "be883fa3",
   "metadata": {},
   "outputs": [],
   "source": []
  },
  {
   "cell_type": "code",
   "execution_count": null,
   "id": "c37a9847",
   "metadata": {},
   "outputs": [],
   "source": []
  },
  {
   "cell_type": "code",
   "execution_count": null,
   "id": "37b1b06b",
   "metadata": {},
   "outputs": [],
   "source": []
  },
  {
   "cell_type": "code",
   "execution_count": null,
   "id": "8176757d",
   "metadata": {},
   "outputs": [],
   "source": []
  },
  {
   "cell_type": "code",
   "execution_count": null,
   "id": "5963099b",
   "metadata": {},
   "outputs": [],
   "source": []
  },
  {
   "cell_type": "markdown",
   "id": "ab631571",
   "metadata": {},
   "source": [
    "READ POSITION "
   ]
  },
  {
   "cell_type": "code",
   "execution_count": null,
   "id": "0c3263af",
   "metadata": {},
   "outputs": [],
   "source": []
  },
  {
   "cell_type": "markdown",
   "id": "f192ce73",
   "metadata": {},
   "source": [
    "However, there is a flaw with these predictions!\n",
    "\n",
    "If you recall, the training set only contains pitchers with an `initposx` that is less than zero. Negative in x position corresponds to further to the third base side of the rubber from the batters view. So it can be determined that the model failed to learn values for these right handed pitchers. \n",
    "\n",
    "There is a lack of training data for these righties with a  augment righties for test"
   ]
  },
  {
   "cell_type": "code",
   "execution_count": 35,
   "id": "216c21aa",
   "metadata": {
    "scrolled": false
   },
   "outputs": [
    {
     "data": {
      "text/plain": [
       "pitcherid\n",
       "1    2551\n",
       "2    3039\n",
       "3    1961\n",
       "4    2488\n",
       "5     975\n",
       "6    1340\n",
       "Name: yearid, dtype: int64"
      ]
     },
     "execution_count": 35,
     "metadata": {},
     "output_type": "execute_result"
    }
   ],
   "source": [
    "test.groupby('pitcherid').count().iloc[:,0]"
   ]
  },
  {
   "cell_type": "code",
   "execution_count": 36,
   "id": "f5bff70d",
   "metadata": {
    "scrolled": true
   },
   "outputs": [
    {
     "data": {
      "text/html": [
       "<div>\n",
       "<style scoped>\n",
       "    .dataframe tbody tr th:only-of-type {\n",
       "        vertical-align: middle;\n",
       "    }\n",
       "\n",
       "    .dataframe tbody tr th {\n",
       "        vertical-align: top;\n",
       "    }\n",
       "\n",
       "    .dataframe thead th {\n",
       "        text-align: right;\n",
       "    }\n",
       "</style>\n",
       "<table border=\"1\" class=\"dataframe\">\n",
       "  <thead>\n",
       "    <tr style=\"text-align: right;\">\n",
       "      <th></th>\n",
       "      <th>yearid</th>\n",
       "      <th>height</th>\n",
       "      <th>initspeed</th>\n",
       "      <th>breakx</th>\n",
       "      <th>breakz</th>\n",
       "      <th>initposx</th>\n",
       "      <th>initposz</th>\n",
       "      <th>extension</th>\n",
       "      <th>spinrate</th>\n",
       "    </tr>\n",
       "    <tr>\n",
       "      <th>pitcherid</th>\n",
       "      <th></th>\n",
       "      <th></th>\n",
       "      <th></th>\n",
       "      <th></th>\n",
       "      <th></th>\n",
       "      <th></th>\n",
       "      <th></th>\n",
       "      <th></th>\n",
       "      <th></th>\n",
       "    </tr>\n",
       "  </thead>\n",
       "  <tbody>\n",
       "    <tr>\n",
       "      <th>1</th>\n",
       "      <td>3.0</td>\n",
       "      <td>76.0</td>\n",
       "      <td>83.013137</td>\n",
       "      <td>-3.860708</td>\n",
       "      <td>0.754132</td>\n",
       "      <td>-1.943700</td>\n",
       "      <td>6.346566</td>\n",
       "      <td>6.204673</td>\n",
       "      <td>2206.423970</td>\n",
       "    </tr>\n",
       "    <tr>\n",
       "      <th>2</th>\n",
       "      <td>3.0</td>\n",
       "      <td>80.0</td>\n",
       "      <td>83.520567</td>\n",
       "      <td>-1.745502</td>\n",
       "      <td>4.136175</td>\n",
       "      <td>-2.251048</td>\n",
       "      <td>5.815441</td>\n",
       "      <td>6.203754</td>\n",
       "      <td>2232.599693</td>\n",
       "    </tr>\n",
       "    <tr>\n",
       "      <th>3</th>\n",
       "      <td>3.0</td>\n",
       "      <td>77.0</td>\n",
       "      <td>85.139889</td>\n",
       "      <td>5.381641</td>\n",
       "      <td>6.983724</td>\n",
       "      <td>4.095877</td>\n",
       "      <td>6.485507</td>\n",
       "      <td>6.205434</td>\n",
       "      <td>2094.966946</td>\n",
       "    </tr>\n",
       "    <tr>\n",
       "      <th>4</th>\n",
       "      <td>3.0</td>\n",
       "      <td>72.0</td>\n",
       "      <td>89.294410</td>\n",
       "      <td>-2.597634</td>\n",
       "      <td>5.943581</td>\n",
       "      <td>-2.000223</td>\n",
       "      <td>5.859803</td>\n",
       "      <td>6.200480</td>\n",
       "      <td>2315.220996</td>\n",
       "    </tr>\n",
       "    <tr>\n",
       "      <th>5</th>\n",
       "      <td>3.0</td>\n",
       "      <td>72.0</td>\n",
       "      <td>86.411384</td>\n",
       "      <td>-3.572794</td>\n",
       "      <td>5.145806</td>\n",
       "      <td>-1.297179</td>\n",
       "      <td>5.866933</td>\n",
       "      <td>6.195965</td>\n",
       "      <td>1740.158734</td>\n",
       "    </tr>\n",
       "    <tr>\n",
       "      <th>6</th>\n",
       "      <td>3.0</td>\n",
       "      <td>73.0</td>\n",
       "      <td>87.066705</td>\n",
       "      <td>3.210585</td>\n",
       "      <td>5.548375</td>\n",
       "      <td>2.092120</td>\n",
       "      <td>5.974114</td>\n",
       "      <td>6.201935</td>\n",
       "      <td>2021.804299</td>\n",
       "    </tr>\n",
       "  </tbody>\n",
       "</table>\n",
       "</div>"
      ],
      "text/plain": [
       "           yearid  height  initspeed    breakx    breakz  initposx  initposz  \\\n",
       "pitcherid                                                                      \n",
       "1             3.0    76.0  83.013137 -3.860708  0.754132 -1.943700  6.346566   \n",
       "2             3.0    80.0  83.520567 -1.745502  4.136175 -2.251048  5.815441   \n",
       "3             3.0    77.0  85.139889  5.381641  6.983724  4.095877  6.485507   \n",
       "4             3.0    72.0  89.294410 -2.597634  5.943581 -2.000223  5.859803   \n",
       "5             3.0    72.0  86.411384 -3.572794  5.145806 -1.297179  5.866933   \n",
       "6             3.0    73.0  87.066705  3.210585  5.548375  2.092120  5.974114   \n",
       "\n",
       "           extension     spinrate  \n",
       "pitcherid                          \n",
       "1           6.204673  2206.423970  \n",
       "2           6.203754  2232.599693  \n",
       "3           6.205434  2094.966946  \n",
       "4           6.200480  2315.220996  \n",
       "5           6.195965  1740.158734  \n",
       "6           6.201935  2021.804299  "
      ]
     },
     "execution_count": 36,
     "metadata": {},
     "output_type": "execute_result"
    }
   ],
   "source": [
    "test.groupby('pitcherid').mean() # 6 is righty as well"
   ]
  },
  {
   "cell_type": "markdown",
   "id": "d04ce65e",
   "metadata": {},
   "source": [
    "Despite the lack of righty pitches in the training set, the testing set requires projection for a significant amount: namely, 1961 for pitcher 3 and 1340 for pitcher 6, who didn't appear in the training set at all."
   ]
  }
 ],
 "metadata": {
  "kernelspec": {
   "display_name": "Python 3 (ipykernel)",
   "language": "python",
   "name": "python3"
  },
  "language_info": {
   "codemirror_mode": {
    "name": "ipython",
    "version": 3
   },
   "file_extension": ".py",
   "mimetype": "text/x-python",
   "name": "python",
   "nbconvert_exporter": "python",
   "pygments_lexer": "ipython3",
   "version": "3.9.7"
  }
 },
 "nbformat": 4,
 "nbformat_minor": 5
}
