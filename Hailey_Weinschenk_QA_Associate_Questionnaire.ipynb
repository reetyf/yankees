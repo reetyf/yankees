{
 "cells": [
  {
   "cell_type": "markdown",
   "id": "c96eb022",
   "metadata": {},
   "source": [
    "Before doing any modelling, the data must be read in from .csv files, and the resulting DataFrame should be analyzed and understood."
   ]
  },
  {
   "cell_type": "code",
   "execution_count": 1,
   "id": "79d19276",
   "metadata": {},
   "outputs": [],
   "source": [
    "import pandas as pd\n",
    "\n",
    "# define a function for code reproducability later one (multiple seasons, inclusion of more pitchers, etc.)\n",
    "def read_pitch_data(path):\n",
    "    '''\n",
    "    Reads in csv files for a given absolute or relative path.\n",
    "    '''\n",
    "    try:\n",
    "        df = pd.read_csv(path)\n",
    "        return df\n",
    "    except FileNotFoundError as e:\n",
    "        print(f'{e} \\nRerun with an existing filename.')"
   ]
  },
  {
   "cell_type": "code",
   "execution_count": 2,
   "id": "ec3a5770",
   "metadata": {},
   "outputs": [
    {
     "data": {
      "text/html": [
       "<div>\n",
       "<style scoped>\n",
       "    .dataframe tbody tr th:only-of-type {\n",
       "        vertical-align: middle;\n",
       "    }\n",
       "\n",
       "    .dataframe tbody tr th {\n",
       "        vertical-align: top;\n",
       "    }\n",
       "\n",
       "    .dataframe thead th {\n",
       "        text-align: right;\n",
       "    }\n",
       "</style>\n",
       "<table border=\"1\" class=\"dataframe\">\n",
       "  <thead>\n",
       "    <tr style=\"text-align: right;\">\n",
       "      <th></th>\n",
       "      <th>pitchid</th>\n",
       "      <th>pitcherid</th>\n",
       "      <th>yearid</th>\n",
       "      <th>height</th>\n",
       "      <th>initspeed</th>\n",
       "      <th>breakx</th>\n",
       "      <th>breakz</th>\n",
       "      <th>initposx</th>\n",
       "      <th>initposz</th>\n",
       "      <th>extension</th>\n",
       "      <th>spinrate</th>\n",
       "      <th>type</th>\n",
       "    </tr>\n",
       "  </thead>\n",
       "  <tbody>\n",
       "    <tr>\n",
       "      <th>0</th>\n",
       "      <td>1</td>\n",
       "      <td>5</td>\n",
       "      <td>1</td>\n",
       "      <td>72</td>\n",
       "      <td>83.774424</td>\n",
       "      <td>-1.293106</td>\n",
       "      <td>4.451670</td>\n",
       "      <td>-1.330641</td>\n",
       "      <td>6.065956</td>\n",
       "      <td>6.317961</td>\n",
       "      <td>1386.459243</td>\n",
       "      <td>3</td>\n",
       "    </tr>\n",
       "    <tr>\n",
       "      <th>1</th>\n",
       "      <td>2</td>\n",
       "      <td>5</td>\n",
       "      <td>1</td>\n",
       "      <td>72</td>\n",
       "      <td>89.642714</td>\n",
       "      <td>-6.550556</td>\n",
       "      <td>7.993455</td>\n",
       "      <td>-1.556463</td>\n",
       "      <td>5.719125</td>\n",
       "      <td>6.119526</td>\n",
       "      <td>1963.264977</td>\n",
       "      <td>9</td>\n",
       "    </tr>\n",
       "    <tr>\n",
       "      <th>2</th>\n",
       "      <td>3</td>\n",
       "      <td>4</td>\n",
       "      <td>1</td>\n",
       "      <td>72</td>\n",
       "      <td>91.750648</td>\n",
       "      <td>-6.985574</td>\n",
       "      <td>8.991264</td>\n",
       "      <td>-2.055134</td>\n",
       "      <td>5.780312</td>\n",
       "      <td>6.201200</td>\n",
       "      <td>2360.758263</td>\n",
       "      <td>9</td>\n",
       "    </tr>\n",
       "    <tr>\n",
       "      <th>3</th>\n",
       "      <td>4</td>\n",
       "      <td>5</td>\n",
       "      <td>1</td>\n",
       "      <td>72</td>\n",
       "      <td>83.189766</td>\n",
       "      <td>-2.549204</td>\n",
       "      <td>4.844714</td>\n",
       "      <td>-1.001020</td>\n",
       "      <td>6.240138</td>\n",
       "      <td>6.074156</td>\n",
       "      <td>858.997788</td>\n",
       "      <td>7</td>\n",
       "    </tr>\n",
       "    <tr>\n",
       "      <th>4</th>\n",
       "      <td>5</td>\n",
       "      <td>2</td>\n",
       "      <td>1</td>\n",
       "      <td>80</td>\n",
       "      <td>92.698738</td>\n",
       "      <td>-5.216516</td>\n",
       "      <td>7.267769</td>\n",
       "      <td>-2.097643</td>\n",
       "      <td>5.776138</td>\n",
       "      <td>6.212281</td>\n",
       "      <td>2060.155099</td>\n",
       "      <td>9</td>\n",
       "    </tr>\n",
       "  </tbody>\n",
       "</table>\n",
       "</div>"
      ],
      "text/plain": [
       "   pitchid  pitcherid  yearid  height  initspeed    breakx    breakz  \\\n",
       "0        1          5       1      72  83.774424 -1.293106  4.451670   \n",
       "1        2          5       1      72  89.642714 -6.550556  7.993455   \n",
       "2        3          4       1      72  91.750648 -6.985574  8.991264   \n",
       "3        4          5       1      72  83.189766 -2.549204  4.844714   \n",
       "4        5          2       1      80  92.698738 -5.216516  7.267769   \n",
       "\n",
       "   initposx  initposz  extension     spinrate  type  \n",
       "0 -1.330641  6.065956   6.317961  1386.459243     3  \n",
       "1 -1.556463  5.719125   6.119526  1963.264977     9  \n",
       "2 -2.055134  5.780312   6.201200  2360.758263     9  \n",
       "3 -1.001020  6.240138   6.074156   858.997788     7  \n",
       "4 -2.097643  5.776138   6.212281  2060.155099     9  "
      ]
     },
     "execution_count": 2,
     "metadata": {},
     "output_type": "execute_result"
    }
   ],
   "source": [
    "# use function to read in csv file\n",
    "train = read_pitch_data('pitchclassificationtrain.csv')\n",
    "\n",
    "# and view first few rows \n",
    "train.head()"
   ]
  },
  {
   "cell_type": "markdown",
   "id": "cec5393c",
   "metadata": {},
   "source": [
    "The data looks like it was read in correctly! Occasionally, there are parsing issues that arise if given a tab-separated file instead of a comma-separated one. In this case, there were no significant issues. One thing that should be adjusted, however, is the index row. By default, `pd.read_csv()` creates an additional column that is not a part of the DataFrame, but repres . In some cases, this is quite useful, but here there is already an existing `pitchid` column. Therefore, the index will be replaced below."
   ]
  },
  {
   "cell_type": "code",
   "execution_count": 3,
   "id": "00b3b622",
   "metadata": {},
   "outputs": [
    {
     "data": {
      "text/html": [
       "<div>\n",
       "<style scoped>\n",
       "    .dataframe tbody tr th:only-of-type {\n",
       "        vertical-align: middle;\n",
       "    }\n",
       "\n",
       "    .dataframe tbody tr th {\n",
       "        vertical-align: top;\n",
       "    }\n",
       "\n",
       "    .dataframe thead th {\n",
       "        text-align: right;\n",
       "    }\n",
       "</style>\n",
       "<table border=\"1\" class=\"dataframe\">\n",
       "  <thead>\n",
       "    <tr style=\"text-align: right;\">\n",
       "      <th></th>\n",
       "      <th>pitcherid</th>\n",
       "      <th>yearid</th>\n",
       "      <th>height</th>\n",
       "      <th>initspeed</th>\n",
       "      <th>breakx</th>\n",
       "      <th>breakz</th>\n",
       "      <th>initposx</th>\n",
       "      <th>initposz</th>\n",
       "      <th>extension</th>\n",
       "      <th>spinrate</th>\n",
       "      <th>type</th>\n",
       "    </tr>\n",
       "    <tr>\n",
       "      <th>pitchid</th>\n",
       "      <th></th>\n",
       "      <th></th>\n",
       "      <th></th>\n",
       "      <th></th>\n",
       "      <th></th>\n",
       "      <th></th>\n",
       "      <th></th>\n",
       "      <th></th>\n",
       "      <th></th>\n",
       "      <th></th>\n",
       "      <th></th>\n",
       "    </tr>\n",
       "  </thead>\n",
       "  <tbody>\n",
       "    <tr>\n",
       "      <th>1</th>\n",
       "      <td>5</td>\n",
       "      <td>1</td>\n",
       "      <td>72</td>\n",
       "      <td>83.774424</td>\n",
       "      <td>-1.293106</td>\n",
       "      <td>4.451670</td>\n",
       "      <td>-1.330641</td>\n",
       "      <td>6.065956</td>\n",
       "      <td>6.317961</td>\n",
       "      <td>1386.459243</td>\n",
       "      <td>3</td>\n",
       "    </tr>\n",
       "    <tr>\n",
       "      <th>2</th>\n",
       "      <td>5</td>\n",
       "      <td>1</td>\n",
       "      <td>72</td>\n",
       "      <td>89.642714</td>\n",
       "      <td>-6.550556</td>\n",
       "      <td>7.993455</td>\n",
       "      <td>-1.556463</td>\n",
       "      <td>5.719125</td>\n",
       "      <td>6.119526</td>\n",
       "      <td>1963.264977</td>\n",
       "      <td>9</td>\n",
       "    </tr>\n",
       "    <tr>\n",
       "      <th>3</th>\n",
       "      <td>4</td>\n",
       "      <td>1</td>\n",
       "      <td>72</td>\n",
       "      <td>91.750648</td>\n",
       "      <td>-6.985574</td>\n",
       "      <td>8.991264</td>\n",
       "      <td>-2.055134</td>\n",
       "      <td>5.780312</td>\n",
       "      <td>6.201200</td>\n",
       "      <td>2360.758263</td>\n",
       "      <td>9</td>\n",
       "    </tr>\n",
       "    <tr>\n",
       "      <th>4</th>\n",
       "      <td>5</td>\n",
       "      <td>1</td>\n",
       "      <td>72</td>\n",
       "      <td>83.189766</td>\n",
       "      <td>-2.549204</td>\n",
       "      <td>4.844714</td>\n",
       "      <td>-1.001020</td>\n",
       "      <td>6.240138</td>\n",
       "      <td>6.074156</td>\n",
       "      <td>858.997788</td>\n",
       "      <td>7</td>\n",
       "    </tr>\n",
       "    <tr>\n",
       "      <th>5</th>\n",
       "      <td>2</td>\n",
       "      <td>1</td>\n",
       "      <td>80</td>\n",
       "      <td>92.698738</td>\n",
       "      <td>-5.216516</td>\n",
       "      <td>7.267769</td>\n",
       "      <td>-2.097643</td>\n",
       "      <td>5.776138</td>\n",
       "      <td>6.212281</td>\n",
       "      <td>2060.155099</td>\n",
       "      <td>9</td>\n",
       "    </tr>\n",
       "  </tbody>\n",
       "</table>\n",
       "</div>"
      ],
      "text/plain": [
       "         pitcherid  yearid  height  initspeed    breakx    breakz  initposx  \\\n",
       "pitchid                                                                       \n",
       "1                5       1      72  83.774424 -1.293106  4.451670 -1.330641   \n",
       "2                5       1      72  89.642714 -6.550556  7.993455 -1.556463   \n",
       "3                4       1      72  91.750648 -6.985574  8.991264 -2.055134   \n",
       "4                5       1      72  83.189766 -2.549204  4.844714 -1.001020   \n",
       "5                2       1      80  92.698738 -5.216516  7.267769 -2.097643   \n",
       "\n",
       "         initposz  extension     spinrate  type  \n",
       "pitchid                                          \n",
       "1        6.065956   6.317961  1386.459243     3  \n",
       "2        5.719125   6.119526  1963.264977     9  \n",
       "3        5.780312   6.201200  2360.758263     9  \n",
       "4        6.240138   6.074156   858.997788     7  \n",
       "5        5.776138   6.212281  2060.155099     9  "
      ]
     },
     "execution_count": 3,
     "metadata": {},
     "output_type": "execute_result"
    }
   ],
   "source": [
    "train.set_index('pitchid',inplace = True) # `inplace` redeclares changed df to original `train` variable\n",
    "\n",
    "train.head()"
   ]
  },
  {
   "cell_type": "markdown",
   "id": "35735025",
   "metadata": {},
   "source": [
    "Now the `pitchid` replaces the dummy index as the new index. \n",
    "\n",
    "It is important to note that now, the index is 1-indexed compared to before where it was 0-indexed. "
   ]
  },
  {
   "cell_type": "markdown",
   "id": "f47e91d4",
   "metadata": {},
   "source": [
    "Now, data interpretation begins. Numerous exploratory questions are important to understand, such as relevant data types, potential duplicated entries, and potential missing/invalid values. "
   ]
  },
  {
   "cell_type": "code",
   "execution_count": 4,
   "id": "c9473628",
   "metadata": {},
   "outputs": [
    {
     "name": "stdout",
     "output_type": "stream",
     "text": [
      "<class 'pandas.core.frame.DataFrame'>\n",
      "Int64Index: 10647 entries, 1 to 10647\n",
      "Data columns (total 11 columns):\n",
      " #   Column     Non-Null Count  Dtype  \n",
      "---  ------     --------------  -----  \n",
      " 0   pitcherid  10647 non-null  int64  \n",
      " 1   yearid     10647 non-null  int64  \n",
      " 2   height     10647 non-null  int64  \n",
      " 3   initspeed  10647 non-null  float64\n",
      " 4   breakx     10647 non-null  float64\n",
      " 5   breakz     10647 non-null  float64\n",
      " 6   initposx   10647 non-null  float64\n",
      " 7   initposz   10647 non-null  float64\n",
      " 8   extension  10647 non-null  float64\n",
      " 9   spinrate   10647 non-null  float64\n",
      " 10  type       10647 non-null  int64  \n",
      "dtypes: float64(7), int64(4)\n",
      "memory usage: 998.2 KB\n"
     ]
    }
   ],
   "source": [
    "train.info()"
   ]
  },
  {
   "cell_type": "markdown",
   "id": "85d18df2",
   "metadata": {},
   "source": [
    "Since the pitch data, the pitch data"
   ]
  },
  {
   "cell_type": "code",
   "execution_count": 5,
   "id": "e56b0b53",
   "metadata": {},
   "outputs": [
    {
     "data": {
      "text/html": [
       "<div>\n",
       "<style scoped>\n",
       "    .dataframe tbody tr th:only-of-type {\n",
       "        vertical-align: middle;\n",
       "    }\n",
       "\n",
       "    .dataframe tbody tr th {\n",
       "        vertical-align: top;\n",
       "    }\n",
       "\n",
       "    .dataframe thead th {\n",
       "        text-align: right;\n",
       "    }\n",
       "</style>\n",
       "<table border=\"1\" class=\"dataframe\">\n",
       "  <thead>\n",
       "    <tr style=\"text-align: right;\">\n",
       "      <th></th>\n",
       "    </tr>\n",
       "    <tr>\n",
       "      <th>pitchid</th>\n",
       "    </tr>\n",
       "  </thead>\n",
       "  <tbody>\n",
       "    <tr>\n",
       "      <th>1</th>\n",
       "    </tr>\n",
       "    <tr>\n",
       "      <th>2</th>\n",
       "    </tr>\n",
       "    <tr>\n",
       "      <th>3</th>\n",
       "    </tr>\n",
       "    <tr>\n",
       "      <th>4</th>\n",
       "    </tr>\n",
       "    <tr>\n",
       "      <th>5</th>\n",
       "    </tr>\n",
       "    <tr>\n",
       "      <th>...</th>\n",
       "    </tr>\n",
       "    <tr>\n",
       "      <th>10643</th>\n",
       "    </tr>\n",
       "    <tr>\n",
       "      <th>10644</th>\n",
       "    </tr>\n",
       "    <tr>\n",
       "      <th>10645</th>\n",
       "    </tr>\n",
       "    <tr>\n",
       "      <th>10646</th>\n",
       "    </tr>\n",
       "    <tr>\n",
       "      <th>10647</th>\n",
       "    </tr>\n",
       "  </tbody>\n",
       "</table>\n",
       "<p>10647 rows × 0 columns</p>\n",
       "</div>"
      ],
      "text/plain": [
       "Empty DataFrame\n",
       "Columns: []\n",
       "Index: [1, 2, 3, 4, 5, 6, 7, 8, 9, 10, 11, 12, 13, 14, 15, 16, 17, 18, 19, 20, 21, 22, 23, 24, 25, 26, 27, 28, 29, 30, 31, 32, 33, 34, 35, 36, 37, 38, 39, 40, 41, 42, 43, 44, 45, 46, 47, 48, 49, 50, 51, 52, 53, 54, 55, 56, 57, 58, 59, 60, 61, 62, 63, 64, 65, 66, 67, 68, 69, 70, 71, 72, 73, 74, 75, 76, 77, 78, 79, 80, 81, 82, 83, 84, 85, 86, 87, 88, 89, 90, 91, 92, 93, 94, 95, 96, 97, 98, 99, 100, ...]\n",
       "\n",
       "[10647 rows x 0 columns]"
      ]
     },
     "execution_count": 5,
     "metadata": {},
     "output_type": "execute_result"
    }
   ],
   "source": [
    "train.select_dtypes(include = 'object') # includes strings, but not numerical values..."
   ]
  },
  {
   "cell_type": "markdown",
   "id": "b0115024",
   "metadata": {},
   "source": [
    "CHECK DUPES"
   ]
  },
  {
   "cell_type": "code",
   "execution_count": 6,
   "id": "9f40a246",
   "metadata": {},
   "outputs": [
    {
     "data": {
      "text/plain": [
       "pitcherid    True\n",
       "yearid       True\n",
       "height       True\n",
       "initspeed    True\n",
       "breakx       True\n",
       "breakz       True\n",
       "initposx     True\n",
       "initposz     True\n",
       "extension    True\n",
       "spinrate     True\n",
       "type         True\n",
       "dtype: bool"
      ]
     },
     "execution_count": 6,
     "metadata": {},
     "output_type": "execute_result"
    }
   ],
   "source": [
    "train.shape[0] == train.count()"
   ]
  },
  {
   "cell_type": "code",
   "execution_count": 7,
   "id": "3a153fd1",
   "metadata": {},
   "outputs": [
    {
     "data": {
      "text/plain": [
       "pitcherid    0\n",
       "yearid       0\n",
       "height       0\n",
       "initspeed    0\n",
       "breakx       0\n",
       "breakz       0\n",
       "initposx     0\n",
       "initposz     0\n",
       "extension    0\n",
       "spinrate     0\n",
       "type         0\n",
       "dtype: int64"
      ]
     },
     "execution_count": 7,
     "metadata": {},
     "output_type": "execute_result"
    }
   ],
   "source": [
    "train.isna().sum() # .any()"
   ]
  },
  {
   "cell_type": "code",
   "execution_count": null,
   "id": "60915ce3",
   "metadata": {},
   "outputs": [],
   "source": []
  },
  {
   "cell_type": "code",
   "execution_count": null,
   "id": "635898f2",
   "metadata": {},
   "outputs": [],
   "source": []
  },
  {
   "cell_type": "code",
   "execution_count": null,
   "id": "e4324157",
   "metadata": {},
   "outputs": [],
   "source": []
  },
  {
   "cell_type": "code",
   "execution_count": 8,
   "id": "1537216c",
   "metadata": {},
   "outputs": [
    {
     "data": {
      "text/plain": [
       "0"
      ]
     },
     "execution_count": 8,
     "metadata": {},
     "output_type": "execute_result"
    }
   ],
   "source": [
    "train.duplicated().sum()"
   ]
  },
  {
   "cell_type": "code",
   "execution_count": null,
   "id": "57b466cf",
   "metadata": {},
   "outputs": [],
   "source": []
  },
  {
   "cell_type": "code",
   "execution_count": null,
   "id": "568f64ea",
   "metadata": {},
   "outputs": [],
   "source": []
  },
  {
   "cell_type": "code",
   "execution_count": null,
   "id": "c4f6b63d",
   "metadata": {},
   "outputs": [],
   "source": []
  },
  {
   "cell_type": "markdown",
   "id": "60ec4026",
   "metadata": {},
   "source": [
    "same for test"
   ]
  },
  {
   "cell_type": "markdown",
   "id": "f10a0ade",
   "metadata": {},
   "source": [
    "Finally, the most important, yet interpretable of these checks is to find the number of unique values that each column takes on..."
   ]
  },
  {
   "cell_type": "markdown",
   "id": "c451c683",
   "metadata": {},
   "source": [
    "train.nunique()"
   ]
  },
  {
   "cell_type": "code",
   "execution_count": null,
   "id": "ec513896",
   "metadata": {},
   "outputs": [],
   "source": []
  },
  {
   "cell_type": "markdown",
   "id": "feddc999",
   "metadata": {},
   "source": [
    "VLAUE COUNTS FOR EACH????"
   ]
  },
  {
   "cell_type": "code",
   "execution_count": 9,
   "id": "bdbe6764",
   "metadata": {},
   "outputs": [
    {
     "data": {
      "text/plain": [
       "10    3102\n",
       "9     2952\n",
       "2     1483\n",
       "4     1330\n",
       "7      901\n",
       "8      674\n",
       "3      205\n",
       "Name: type, dtype: int64"
      ]
     },
     "execution_count": 9,
     "metadata": {},
     "output_type": "execute_result"
    }
   ],
   "source": [
    "train['type'].value_counts()"
   ]
  },
  {
   "cell_type": "code",
   "execution_count": 10,
   "id": "5cd96161",
   "metadata": {},
   "outputs": [
    {
     "data": {
      "text/plain": [
       "72    7449\n",
       "80    2137\n",
       "76    1049\n",
       "77      12\n",
       "Name: height, dtype: int64"
      ]
     },
     "execution_count": 10,
     "metadata": {},
     "output_type": "execute_result"
    }
   ],
   "source": [
    "train['height'].value_counts()"
   ]
  },
  {
   "cell_type": "code",
   "execution_count": 11,
   "id": "03bb47f9",
   "metadata": {},
   "outputs": [
    {
     "data": {
      "text/plain": [
       "5    5609\n",
       "2    2137\n",
       "4    1840\n",
       "1    1049\n",
       "3      12\n",
       "Name: pitcherid, dtype: int64"
      ]
     },
     "execution_count": 11,
     "metadata": {},
     "output_type": "execute_result"
    }
   ],
   "source": [
    "train['pitcherid'].value_counts()"
   ]
  },
  {
   "cell_type": "markdown",
   "id": "1cf1865a",
   "metadata": {},
   "source": [
    "DROP PITCHER 3 ????"
   ]
  },
  {
   "cell_type": "code",
   "execution_count": null,
   "id": "bfbfb7fc",
   "metadata": {},
   "outputs": [],
   "source": []
  },
  {
   "cell_type": "markdown",
   "id": "d2420d06",
   "metadata": {},
   "source": [
    "AVERAGE OF EACH \n"
   ]
  },
  {
   "cell_type": "code",
   "execution_count": 12,
   "id": "92db4980",
   "metadata": {},
   "outputs": [
    {
     "data": {
      "text/html": [
       "<div>\n",
       "<style scoped>\n",
       "    .dataframe tbody tr th:only-of-type {\n",
       "        vertical-align: middle;\n",
       "    }\n",
       "\n",
       "    .dataframe tbody tr th {\n",
       "        vertical-align: top;\n",
       "    }\n",
       "\n",
       "    .dataframe thead th {\n",
       "        text-align: right;\n",
       "    }\n",
       "</style>\n",
       "<table border=\"1\" class=\"dataframe\">\n",
       "  <thead>\n",
       "    <tr style=\"text-align: right;\">\n",
       "      <th></th>\n",
       "      <th>yearid</th>\n",
       "      <th>height</th>\n",
       "      <th>initspeed</th>\n",
       "      <th>breakx</th>\n",
       "      <th>breakz</th>\n",
       "      <th>initposx</th>\n",
       "      <th>initposz</th>\n",
       "      <th>extension</th>\n",
       "      <th>spinrate</th>\n",
       "      <th>type</th>\n",
       "    </tr>\n",
       "    <tr>\n",
       "      <th>pitcherid</th>\n",
       "      <th></th>\n",
       "      <th></th>\n",
       "      <th></th>\n",
       "      <th></th>\n",
       "      <th></th>\n",
       "      <th></th>\n",
       "      <th></th>\n",
       "      <th></th>\n",
       "      <th></th>\n",
       "      <th></th>\n",
       "    </tr>\n",
       "  </thead>\n",
       "  <tbody>\n",
       "    <tr>\n",
       "      <th>1</th>\n",
       "      <td>1.622498</td>\n",
       "      <td>76.0</td>\n",
       "      <td>83.908213</td>\n",
       "      <td>-4.267288</td>\n",
       "      <td>0.801821</td>\n",
       "      <td>-1.936875</td>\n",
       "      <td>6.352940</td>\n",
       "      <td>6.189233</td>\n",
       "      <td>2203.901527</td>\n",
       "      <td>6.180172</td>\n",
       "    </tr>\n",
       "    <tr>\n",
       "      <th>2</th>\n",
       "      <td>1.459523</td>\n",
       "      <td>80.0</td>\n",
       "      <td>89.854474</td>\n",
       "      <td>-1.743194</td>\n",
       "      <td>4.147342</td>\n",
       "      <td>-2.257288</td>\n",
       "      <td>5.815367</td>\n",
       "      <td>6.200563</td>\n",
       "      <td>2235.687376</td>\n",
       "      <td>7.100608</td>\n",
       "    </tr>\n",
       "    <tr>\n",
       "      <th>3</th>\n",
       "      <td>2.000000</td>\n",
       "      <td>77.0</td>\n",
       "      <td>86.912987</td>\n",
       "      <td>5.549091</td>\n",
       "      <td>6.668309</td>\n",
       "      <td>4.063426</td>\n",
       "      <td>6.511092</td>\n",
       "      <td>6.176105</td>\n",
       "      <td>2070.742681</td>\n",
       "      <td>8.500000</td>\n",
       "    </tr>\n",
       "    <tr>\n",
       "      <th>4</th>\n",
       "      <td>1.371739</td>\n",
       "      <td>72.0</td>\n",
       "      <td>90.128965</td>\n",
       "      <td>-2.700970</td>\n",
       "      <td>5.894434</td>\n",
       "      <td>-2.004139</td>\n",
       "      <td>5.860586</td>\n",
       "      <td>6.197486</td>\n",
       "      <td>2310.786782</td>\n",
       "      <td>7.722283</td>\n",
       "    </tr>\n",
       "    <tr>\n",
       "      <th>5</th>\n",
       "      <td>1.537172</td>\n",
       "      <td>72.0</td>\n",
       "      <td>86.772190</td>\n",
       "      <td>-3.491820</td>\n",
       "      <td>5.154598</td>\n",
       "      <td>-1.305696</td>\n",
       "      <td>5.871023</td>\n",
       "      <td>6.201083</td>\n",
       "      <td>1736.181817</td>\n",
       "      <td>7.527188</td>\n",
       "    </tr>\n",
       "  </tbody>\n",
       "</table>\n",
       "</div>"
      ],
      "text/plain": [
       "             yearid  height  initspeed    breakx    breakz  initposx  \\\n",
       "pitcherid                                                              \n",
       "1          1.622498    76.0  83.908213 -4.267288  0.801821 -1.936875   \n",
       "2          1.459523    80.0  89.854474 -1.743194  4.147342 -2.257288   \n",
       "3          2.000000    77.0  86.912987  5.549091  6.668309  4.063426   \n",
       "4          1.371739    72.0  90.128965 -2.700970  5.894434 -2.004139   \n",
       "5          1.537172    72.0  86.772190 -3.491820  5.154598 -1.305696   \n",
       "\n",
       "           initposz  extension     spinrate      type  \n",
       "pitcherid                                              \n",
       "1          6.352940   6.189233  2203.901527  6.180172  \n",
       "2          5.815367   6.200563  2235.687376  7.100608  \n",
       "3          6.511092   6.176105  2070.742681  8.500000  \n",
       "4          5.860586   6.197486  2310.786782  7.722283  \n",
       "5          5.871023   6.201083  1736.181817  7.527188  "
      ]
     },
     "execution_count": 12,
     "metadata": {},
     "output_type": "execute_result"
    }
   ],
   "source": [
    "train.groupby(['pitcherid']).mean()"
   ]
  },
  {
   "cell_type": "code",
   "execution_count": 13,
   "id": "5a8db145",
   "metadata": {},
   "outputs": [
    {
     "data": {
      "text/plain": [
       "10    6\n",
       "9     4\n",
       "3     2\n",
       "Name: type, dtype: int64"
      ]
     },
     "execution_count": 13,
     "metadata": {},
     "output_type": "execute_result"
    }
   ],
   "source": [
    "train.loc[train['pitcherid'] == 3,'type'].value_counts()"
   ]
  },
  {
   "cell_type": "code",
   "execution_count": null,
   "id": "f2fc2597",
   "metadata": {},
   "outputs": [],
   "source": []
  },
  {
   "cell_type": "code",
   "execution_count": null,
   "id": "0a5ec499",
   "metadata": {},
   "outputs": [],
   "source": []
  },
  {
   "cell_type": "markdown",
   "id": "ec43efeb",
   "metadata": {},
   "source": [
    "This provides perhaps the most clear view of the data. From this it can be concluded:\n",
    "- there are pitches from 5 pitchers included in this sample\n",
    "- this sample has pitches from 2 years\n",
    "- the 5 pitchers have 4 heights in inches (i.e. two share a height)\n",
    "- each of the 10647 pitches has unique measurements (should be expected due to 6 decimal point precision)\n",
    "- there are 7 pitch types (since this is the dependent variable, this will be the label in this model)"
   ]
  },
  {
   "cell_type": "markdown",
   "id": "b6eca210",
   "metadata": {},
   "source": [
    "Finally, the data will be split into the feature vector X (for each feature x, $X = x_1, x_2,...x_n$) and the label vector, $y$."
   ]
  },
  {
   "cell_type": "code",
   "execution_count": 14,
   "id": "ed938e38",
   "metadata": {},
   "outputs": [],
   "source": [
    "y = train['type']"
   ]
  },
  {
   "cell_type": "code",
   "execution_count": 15,
   "id": "bfee3673",
   "metadata": {},
   "outputs": [],
   "source": [
    "X = train.drop(['type'], axis=1, inplace=False)"
   ]
  },
  {
   "cell_type": "markdown",
   "id": "e2baa9a9",
   "metadata": {},
   "source": [
    "Since this data is already split into training and testing sets, there is no need to split it again for that purpose. However, there is a benefit to doing this for another reason: the validation set. \n",
    "\n",
    "The validation set provides an evaluation of the models fit to the data, and allows for hyperparameter tuning before finalization. This is fundamentally analagous to the test set, but is a subset of the training set. It is of the utmost importance to prevent the model from 'seeing' the test set, until final model scoring. "
   ]
  },
  {
   "attachments": {
    "1%20Nv2NNALuokZEcV6hYEHdGA.png": {
     "image/png": "[encoded data removed]"
    }
   },
   "cell_type": "markdown",
   "id": "b43964b2",
   "metadata": {},
   "source": [
    "![1%20Nv2NNALuokZEcV6hYEHdGA.png](attachment:1%20Nv2NNALuokZEcV6hYEHdGA.png)"
   ]
  },
  {
   "cell_type": "code",
   "execution_count": 17,
   "id": "12289cc7",
   "metadata": {},
   "outputs": [
    {
     "name": "stderr",
     "output_type": "stream",
     "text": [
      "/Users/Daniel/opt/anaconda3/lib/python3.9/site-packages/scipy/__init__.py:146: UserWarning: A NumPy version >=1.16.5 and <1.23.0 is required for this version of SciPy (detected version 1.23.5\n",
      "  warnings.warn(f\"A NumPy version >={np_minversion} and <{np_maxversion}\"\n"
     ]
    },
    {
     "name": "stdout",
     "output_type": "stream",
     "text": [
      "(8517, 10)\n",
      "(2130, 10)\n"
     ]
    }
   ],
   "source": [
    "from sklearn.model_selection import train_test_split\n",
    "\n",
    "X_train, X_val, y_train, y_val \\\n",
    "    = train_test_split(X, y, test_size=0.2, random_state=1) # random state for code reproducibility\n",
    "\n",
    "print(X_train.shape) # 10647*.8 = 8517 \n",
    "print(X_val.shape) # 10647*.2 = 2130"
   ]
  },
  {
   "cell_type": "code",
   "execution_count": 23,
   "id": "3edbc471",
   "metadata": {},
   "outputs": [
    {
     "data": {
      "text/html": [
       "<div>\n",
       "<style scoped>\n",
       "    .dataframe tbody tr th:only-of-type {\n",
       "        vertical-align: middle;\n",
       "    }\n",
       "\n",
       "    .dataframe tbody tr th {\n",
       "        vertical-align: top;\n",
       "    }\n",
       "\n",
       "    .dataframe thead th {\n",
       "        text-align: right;\n",
       "    }\n",
       "</style>\n",
       "<table border=\"1\" class=\"dataframe\">\n",
       "  <thead>\n",
       "    <tr style=\"text-align: right;\">\n",
       "      <th></th>\n",
       "      <th>pitcherid</th>\n",
       "      <th>yearid</th>\n",
       "      <th>height</th>\n",
       "      <th>initspeed</th>\n",
       "      <th>breakx</th>\n",
       "      <th>breakz</th>\n",
       "      <th>initposx</th>\n",
       "      <th>initposz</th>\n",
       "      <th>extension</th>\n",
       "      <th>spinrate</th>\n",
       "    </tr>\n",
       "    <tr>\n",
       "      <th>pitchid</th>\n",
       "      <th></th>\n",
       "      <th></th>\n",
       "      <th></th>\n",
       "      <th></th>\n",
       "      <th></th>\n",
       "      <th></th>\n",
       "      <th></th>\n",
       "      <th></th>\n",
       "      <th></th>\n",
       "      <th></th>\n",
       "    </tr>\n",
       "  </thead>\n",
       "  <tbody>\n",
       "    <tr>\n",
       "      <th>2401</th>\n",
       "      <td>2</td>\n",
       "      <td>1</td>\n",
       "      <td>80</td>\n",
       "      <td>93.687681</td>\n",
       "      <td>-2.310969</td>\n",
       "      <td>8.675631</td>\n",
       "      <td>-1.902397</td>\n",
       "      <td>5.961434</td>\n",
       "      <td>6.052528</td>\n",
       "      <td>2318.207190</td>\n",
       "    </tr>\n",
       "    <tr>\n",
       "      <th>6682</th>\n",
       "      <td>5</td>\n",
       "      <td>2</td>\n",
       "      <td>72</td>\n",
       "      <td>90.918378</td>\n",
       "      <td>-3.265904</td>\n",
       "      <td>9.675334</td>\n",
       "      <td>-1.287906</td>\n",
       "      <td>5.926465</td>\n",
       "      <td>6.172246</td>\n",
       "      <td>2045.643421</td>\n",
       "    </tr>\n",
       "    <tr>\n",
       "      <th>8518</th>\n",
       "      <td>4</td>\n",
       "      <td>2</td>\n",
       "      <td>72</td>\n",
       "      <td>94.488843</td>\n",
       "      <td>-7.695439</td>\n",
       "      <td>12.868088</td>\n",
       "      <td>-1.943843</td>\n",
       "      <td>5.781507</td>\n",
       "      <td>6.331792</td>\n",
       "      <td>2454.444928</td>\n",
       "    </tr>\n",
       "    <tr>\n",
       "      <th>9605</th>\n",
       "      <td>4</td>\n",
       "      <td>2</td>\n",
       "      <td>72</td>\n",
       "      <td>94.285058</td>\n",
       "      <td>-3.210703</td>\n",
       "      <td>9.403375</td>\n",
       "      <td>-2.106980</td>\n",
       "      <td>5.650563</td>\n",
       "      <td>6.428889</td>\n",
       "      <td>2588.760602</td>\n",
       "    </tr>\n",
       "    <tr>\n",
       "      <th>247</th>\n",
       "      <td>2</td>\n",
       "      <td>1</td>\n",
       "      <td>80</td>\n",
       "      <td>92.677048</td>\n",
       "      <td>-4.423301</td>\n",
       "      <td>9.884138</td>\n",
       "      <td>-2.683306</td>\n",
       "      <td>5.666469</td>\n",
       "      <td>6.104951</td>\n",
       "      <td>2254.935643</td>\n",
       "    </tr>\n",
       "  </tbody>\n",
       "</table>\n",
       "</div>"
      ],
      "text/plain": [
       "         pitcherid  yearid  height  initspeed    breakx     breakz  initposx  \\\n",
       "pitchid                                                                        \n",
       "2401             2       1      80  93.687681 -2.310969   8.675631 -1.902397   \n",
       "6682             5       2      72  90.918378 -3.265904   9.675334 -1.287906   \n",
       "8518             4       2      72  94.488843 -7.695439  12.868088 -1.943843   \n",
       "9605             4       2      72  94.285058 -3.210703   9.403375 -2.106980   \n",
       "247              2       1      80  92.677048 -4.423301   9.884138 -2.683306   \n",
       "\n",
       "         initposz  extension     spinrate  \n",
       "pitchid                                    \n",
       "2401     5.961434   6.052528  2318.207190  \n",
       "6682     5.926465   6.172246  2045.643421  \n",
       "8518     5.781507   6.331792  2454.444928  \n",
       "9605     5.650563   6.428889  2588.760602  \n",
       "247      5.666469   6.104951  2254.935643  "
      ]
     },
     "execution_count": 23,
     "metadata": {},
     "output_type": "execute_result"
    }
   ],
   "source": [
    "X_train.head()"
   ]
  },
  {
   "cell_type": "code",
   "execution_count": null,
   "id": "2b38ad0f",
   "metadata": {},
   "outputs": [],
   "source": []
  },
  {
   "cell_type": "code",
   "execution_count": null,
   "id": "de1bcbcf",
   "metadata": {},
   "outputs": [],
   "source": []
  },
  {
   "cell_type": "code",
   "execution_count": null,
   "id": "262e6cf5",
   "metadata": {},
   "outputs": [],
   "source": []
  },
  {
   "cell_type": "code",
   "execution_count": null,
   "id": "9b0e891a",
   "metadata": {},
   "outputs": [],
   "source": []
  },
  {
   "cell_type": "code",
   "execution_count": null,
   "id": "067f195f",
   "metadata": {},
   "outputs": [],
   "source": []
  },
  {
   "cell_type": "code",
   "execution_count": null,
   "id": "a4111b8b",
   "metadata": {},
   "outputs": [],
   "source": []
  },
  {
   "cell_type": "code",
   "execution_count": null,
   "id": "93bfda4d",
   "metadata": {},
   "outputs": [],
   "source": []
  },
  {
   "cell_type": "code",
   "execution_count": null,
   "id": "c4052cf6",
   "metadata": {},
   "outputs": [],
   "source": []
  },
  {
   "cell_type": "code",
   "execution_count": null,
   "id": "aecac33b",
   "metadata": {},
   "outputs": [],
   "source": []
  },
  {
   "cell_type": "code",
   "execution_count": 19,
   "id": "e8b0e05c",
   "metadata": {},
   "outputs": [
    {
     "data": {
      "text/html": [
       "<div>\n",
       "<style scoped>\n",
       "    .dataframe tbody tr th:only-of-type {\n",
       "        vertical-align: middle;\n",
       "    }\n",
       "\n",
       "    .dataframe tbody tr th {\n",
       "        vertical-align: top;\n",
       "    }\n",
       "\n",
       "    .dataframe thead th {\n",
       "        text-align: right;\n",
       "    }\n",
       "</style>\n",
       "<table border=\"1\" class=\"dataframe\">\n",
       "  <thead>\n",
       "    <tr style=\"text-align: right;\">\n",
       "      <th></th>\n",
       "      <th>pitchid</th>\n",
       "      <th>pitcherid</th>\n",
       "      <th>yearid</th>\n",
       "      <th>height</th>\n",
       "      <th>initspeed</th>\n",
       "      <th>breakx</th>\n",
       "      <th>breakz</th>\n",
       "      <th>initposx</th>\n",
       "      <th>initposz</th>\n",
       "      <th>extension</th>\n",
       "      <th>spinrate</th>\n",
       "    </tr>\n",
       "  </thead>\n",
       "  <tbody>\n",
       "    <tr>\n",
       "      <th>0</th>\n",
       "      <td>10648</td>\n",
       "      <td>3</td>\n",
       "      <td>3</td>\n",
       "      <td>77</td>\n",
       "      <td>84.456228</td>\n",
       "      <td>4.153646</td>\n",
       "      <td>9.338819</td>\n",
       "      <td>4.056353</td>\n",
       "      <td>6.486289</td>\n",
       "      <td>6.166051</td>\n",
       "      <td>2257.153203</td>\n",
       "    </tr>\n",
       "    <tr>\n",
       "      <th>1</th>\n",
       "      <td>10649</td>\n",
       "      <td>1</td>\n",
       "      <td>3</td>\n",
       "      <td>76</td>\n",
       "      <td>88.219799</td>\n",
       "      <td>-7.082679</td>\n",
       "      <td>3.091779</td>\n",
       "      <td>-2.218359</td>\n",
       "      <td>5.997977</td>\n",
       "      <td>6.527265</td>\n",
       "      <td>2200.836684</td>\n",
       "    </tr>\n",
       "    <tr>\n",
       "      <th>2</th>\n",
       "      <td>10650</td>\n",
       "      <td>1</td>\n",
       "      <td>3</td>\n",
       "      <td>76</td>\n",
       "      <td>86.351469</td>\n",
       "      <td>-7.998646</td>\n",
       "      <td>3.875420</td>\n",
       "      <td>-2.346287</td>\n",
       "      <td>5.919790</td>\n",
       "      <td>6.350896</td>\n",
       "      <td>2227.855798</td>\n",
       "    </tr>\n",
       "    <tr>\n",
       "      <th>3</th>\n",
       "      <td>10651</td>\n",
       "      <td>4</td>\n",
       "      <td>3</td>\n",
       "      <td>72</td>\n",
       "      <td>93.309879</td>\n",
       "      <td>-2.800042</td>\n",
       "      <td>8.270781</td>\n",
       "      <td>-1.850865</td>\n",
       "      <td>5.886583</td>\n",
       "      <td>6.044787</td>\n",
       "      <td>2188.735352</td>\n",
       "    </tr>\n",
       "    <tr>\n",
       "      <th>4</th>\n",
       "      <td>10652</td>\n",
       "      <td>3</td>\n",
       "      <td>3</td>\n",
       "      <td>77</td>\n",
       "      <td>85.284153</td>\n",
       "      <td>9.411612</td>\n",
       "      <td>7.600999</td>\n",
       "      <td>4.218555</td>\n",
       "      <td>6.536227</td>\n",
       "      <td>6.219090</td>\n",
       "      <td>2102.098895</td>\n",
       "    </tr>\n",
       "  </tbody>\n",
       "</table>\n",
       "</div>"
      ],
      "text/plain": [
       "   pitchid  pitcherid  yearid  height  initspeed    breakx    breakz  \\\n",
       "0    10648          3       3      77  84.456228  4.153646  9.338819   \n",
       "1    10649          1       3      76  88.219799 -7.082679  3.091779   \n",
       "2    10650          1       3      76  86.351469 -7.998646  3.875420   \n",
       "3    10651          4       3      72  93.309879 -2.800042  8.270781   \n",
       "4    10652          3       3      77  85.284153  9.411612  7.600999   \n",
       "\n",
       "   initposx  initposz  extension     spinrate  \n",
       "0  4.056353  6.486289   6.166051  2257.153203  \n",
       "1 -2.218359  5.997977   6.527265  2200.836684  \n",
       "2 -2.346287  5.919790   6.350896  2227.855798  \n",
       "3 -1.850865  5.886583   6.044787  2188.735352  \n",
       "4  4.218555  6.536227   6.219090  2102.098895  "
      ]
     },
     "execution_count": 19,
     "metadata": {},
     "output_type": "execute_result"
    }
   ],
   "source": [
    "test = read_pitch_data('pitchclassificationtest.csv')\n",
    "\n",
    "test.head()"
   ]
  },
  {
   "cell_type": "markdown",
   "id": "ba12c52e",
   "metadata": {},
   "source": [
    "NULL CHECK"
   ]
  }
 ],
 "metadata": {
  "kernelspec": {
   "display_name": "Python 3 (ipykernel)",
   "language": "python",
   "name": "python3"
  },
  "language_info": {
   "codemirror_mode": {
    "name": "ipython",
    "version": 3
   },
   "file_extension": ".py",
   "mimetype": "text/x-python",
   "name": "python",
   "nbconvert_exporter": "python",
   "pygments_lexer": "ipython3",
   "version": "3.9.7"
  }
 },
 "nbformat": 4,
 "nbformat_minor": 5
}
